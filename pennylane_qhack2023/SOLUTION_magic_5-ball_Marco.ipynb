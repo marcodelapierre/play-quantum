{
 "cells": [
  {
   "cell_type": "code",
   "execution_count": 1,
   "id": "470a62c4-6cb8-4f6d-b922-ef1ec999fc56",
   "metadata": {},
   "outputs": [],
   "source": [
    "import json\n",
    "import pennylane as qml\n",
    "import pennylane.numpy as np"
   ]
  },
  {
   "cell_type": "code",
   "execution_count": 16,
   "id": "70abe6b7-ec8d-48ab-94e2-46f9a6f1e09f",
   "metadata": {},
   "outputs": [],
   "source": [
    "def noisy_Hadamard(lmbda, wire):\n",
    "    \"\"\"A Hadamard gate with depolarizing noise on either side.\n",
    "    \n",
    "    Args:\n",
    "        lmbda (float): The parameter defining the depolarizing channel.\n",
    "        wire (int): The wire the depolarizing channel acts on.\n",
    "    \"\"\"\n",
    "    qml.DepolarizingChannel(lmbda, wires=wire)\n",
    "    qml.Hadamard(wire)\n",
    "    qml.DepolarizingChannel(lmbda, wires=wire)\n",
    "\n",
    "# Oracle matrix for Doc Trine's cell number\n",
    "\n",
    "flips = [1, 3, 5, 7, 8, 10, 12, 14, 16, 18, 20, 22, 25, 27, 29, 31]\n",
    "\n",
    "oracle_matrix = np.eye(2**5)\n",
    "for i in flips:\n",
    "    oracle_matrix[i, i] = -1\n",
    "\n",
    "# Implement the Bernstein-Vazirani algorithm with depolarizing noise\n",
    "\n",
    "dev = qml.device(\"default.mixed\", wires = 5)\n",
    "@qml.qnode(dev)\n",
    "def noisy_BernsteinVazirani(lmbda):\n",
    "    \"\"\"Runs the Bernstein-Vazirani algorithm with depolarizing noise.\n",
    "\n",
    "    Args:\n",
    "        lmbda (float): The probability of erasing the state of a qubit.\n",
    "\n",
    "    Returns:\n",
    "        (list(float)): Expectation values for PauliZ on all n wires.\n",
    "    \"\"\"\n",
    "\n",
    "\n",
    "    # Put your code here #\n",
    "    for i in range(dev.num_wires):\n",
    "        noisy_Hadamard(lmbda,i)\n",
    "\n",
    "    qml.QubitUnitary(oracle_matrix, wires=range(dev.num_wires))\n",
    "\n",
    "    for i in range(dev.num_wires):\n",
    "        noisy_Hadamard(lmbda,i)\n",
    "\n",
    "    return [qml.expval(qml.PauliZ(i)) for i in range(5)]\n"
   ]
  },
  {
   "cell_type": "code",
   "execution_count": 17,
   "id": "4b4b47fa-1a9d-427c-8a01-5a807e410ff2",
   "metadata": {},
   "outputs": [],
   "source": [
    "# These functions are responsible for testing the solution.\n",
    "def run(test_case_input: str) -> str:\n",
    "\n",
    "    lmbda = json.loads(test_case_input)\n",
    "    output = noisy_BernsteinVazirani(lmbda).tolist()\n",
    "\n",
    "    return str(output)\n",
    "\n",
    "def check(solution_output: str, expected_output: str) -> None:\n",
    "    \n",
    "    solution_output = json.loads(solution_output)\n",
    "    expected_output = json.loads(expected_output)\n",
    "    assert np.allclose(\n",
    "        solution_output, expected_output, rtol=1e-4\n",
    "    ), \"Your noisy Bernstein-Vazirani algorithm isn't giving the right answers!\"\n"
   ]
  },
  {
   "cell_type": "code",
   "execution_count": 18,
   "id": "69fcda46-ea86-440a-9fca-0abebd226886",
   "metadata": {},
   "outputs": [],
   "source": [
    "test_cases = [['0.1', '[-0.5641679, -0.5641679,  0.5641679,  0.5641679, -0.5641679]']]\n"
   ]
  },
  {
   "cell_type": "code",
   "execution_count": 19,
   "id": "7b89b9f1-c1d3-4b12-8a1c-de24eccbca92",
   "metadata": {},
   "outputs": [
    {
     "name": "stdout",
     "output_type": "stream",
     "text": [
      "Running test case 0 with input '0.1'...\n",
      "Correct!\n"
     ]
    }
   ],
   "source": [
    "for i, (input_, expected_output) in enumerate(test_cases):\n",
    "    print(f\"Running test case {i} with input '{input_}'...\")\n",
    "\n",
    "    try:\n",
    "        output = run(input_)\n",
    "\n",
    "    except Exception as exc:\n",
    "        print(f\"Runtime Error. {exc}\")\n",
    "\n",
    "    else:\n",
    "        if message := check(output, expected_output):\n",
    "            print(f\"Wrong Answer. Have: '{output}'. Want: '{expected_output}'.\")\n",
    "\n",
    "        else:\n",
    "            print(\"Correct!\")"
   ]
  },
  {
   "cell_type": "code",
   "execution_count": null,
   "id": "92d5de29-e987-45a2-9391-04c9466cc980",
   "metadata": {},
   "outputs": [],
   "source": []
  }
 ],
 "metadata": {
  "kernelspec": {
   "display_name": "PennyLane",
   "language": "python",
   "name": "pennylane"
  },
  "language_info": {
   "codemirror_mode": {
    "name": "ipython",
    "version": 3
   },
   "file_extension": ".py",
   "mimetype": "text/x-python",
   "name": "python",
   "nbconvert_exporter": "python",
   "pygments_lexer": "ipython3",
   "version": "3.9.15"
  }
 },
 "nbformat": 4,
 "nbformat_minor": 5
}
