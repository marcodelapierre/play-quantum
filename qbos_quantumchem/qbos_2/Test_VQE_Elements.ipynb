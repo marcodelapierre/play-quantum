{
 "cells": [
  {
   "cell_type": "code",
   "execution_count": null,
   "id": "449a01ba",
   "metadata": {},
   "outputs": [],
   "source": [
    "# Summary\n",
    "# H2: OK (as per QB example)\n",
    "# D2: error (D not recognised)\n",
    "# Li2: hanging for 1+ hour"
   ]
  },
  {
   "cell_type": "code",
   "execution_count": 1,
   "id": "1d29e8ba",
   "metadata": {},
   "outputs": [],
   "source": [
    "# After each molecular system, restart kernel"
   ]
  },
  {
   "cell_type": "code",
   "execution_count": 1,
   "id": "19826e02",
   "metadata": {},
   "outputs": [],
   "source": [
    "# qbOS optimization module\n",
    "import qbos_op\n",
    "import xacc\n",
    "# Get qbOS VQE \n",
    "vqe = qbos_op.vqe(True)\n",
    "vqe.sn = 0   # No shots - deterministic VQE"
   ]
  },
  {
   "cell_type": "code",
   "execution_count": 2,
   "id": "9237df6e",
   "metadata": {},
   "outputs": [],
   "source": [
    "vqe.ansatz = \"uccsd\"\n",
    "vqe.maxeval = 400"
   ]
  },
  {
   "cell_type": "code",
   "execution_count": 4,
   "id": "d00fff7c",
   "metadata": {},
   "outputs": [
    {
     "name": "stdout",
     "output_type": "stream",
     "text": [
      "Invoked run()\n",
      "N_ii: 1\n",
      "N_jj: 1\n",
      "Geometry:\n",
      "H 0.0 0.0 0.0; H 0.0 0.0 0.735\n",
      "Pauli Observable: \n",
      "(-0.090578986084,0) + (0.0452327999461,0) X0 X1 X2 X3 + (0.0452327999461,0) X0 X1 Y2 Y3 + (0.0452327999461,0) Y0 Y1 X2 X3 + (0.0452327999461,0) Y0 Y1 Y2 Y3 + (0.172183932617,0) Z0 + (0.120912632618,0) Z0 Z1 + (0.168927538701,0) Z0 Z2 + (0.166145432564,0) Z0 Z3 + (-0.225753492225,0) Z1 + (0.166145432564,0) Z1 Z2 + (0.174643430683,0) Z1 Z3 + (0.172183932617,0) Z2 + (0.120912632618,0) Z2 Z3 + (-0.225753492225,0) Z3\n",
      "Invoked run on Experiment 0, name: -unnamed experiment- ; Condition 0, name: -unnamed condition-\n",
      "Number of shots [sn]: 0\n",
      "Number of qubits [qn]: 4\n",
      "Number of optimiser evaluations [maxeval]: 400\n",
      "Using deterministic VQE...\n",
      "Parameters to optimise [theta]: [1]\n",
      "Ansatz [ansatz]: uccsd\n",
      "Hamiltonian [ham]: (-0.090578986084,0) + (0.0452327999461,0) X0 X1 X2 X3 + (0.0452327999461,0) X0 X1 Y2 Y3 + (0.0452327999461,0) Y0 Y1 X2 X3 + (0.0452327999461,0) Y0 Y1 Y2 Y3 + (0.172183932617,0) Z0 + (0.120912632618,0) Z0 Z1 + (0.168927538701,0) Z0 Z2 + (0.166145432564,0) Z0 Z3 + (-0.225753492225,0) Z1 + (0.166145432564,0) Z1 Z2 + (0.174643430683,0) Z1 Z3 + (0.172183932617,0) Z2 + (0.120912632618,0) Z2 Z3 + (-0.225753492225,0) Z3\n",
      "[2022-10-19 03:41:28.901] [xacc-logger] [info] \u001b[1;34mEnable VQE Mode.\u001b[0m\n",
      "# Noise model: disabled\n",
      "Accelerator [acc]: qpp\n",
      "Assuming an optimiser: nelder-mead supported by the nlopt library...\n",
      "Gradient strategy [gradient_strategy]: parameter-shift\n",
      "[2022-10-19 03:41:28.901] [xacc-logger] [info] \u001b[1;33mChosen optimizer does not support gradients. Using default.\u001b[0m\n",
      "[2022-10-19 03:41:28.901] [xacc-logger] [info] \u001b[1;34m[NLOpt] max function evaluations set to 400\u001b[0m\n",
      "[2022-10-19 03:41:30.207] [xacc-logger] [info] \u001b[1;34mE(1.000000,1,1) = -0.193891869791\u001b[0m\n",
      "[2022-10-19 03:41:30.228] [xacc-logger] [info] \u001b[1;34mE(2.570796,1,1) = -0.677209410425\u001b[0m\n",
      "[2022-10-19 03:41:30.247] [xacc-logger] [info] \u001b[1;34mE(2.570796,2.5708,1) = 0.218693637066\u001b[0m\n",
      "[2022-10-19 03:41:30.266] [xacc-logger] [info] \u001b[1;34mE(2.570796,1,2.5708) = -0.141103882664\u001b[0m\n",
      "[2022-10-19 03:41:30.285] [xacc-logger] [info] \u001b[1;34mE(1.523599,-0.570796,2.0472) = -0.403409878569\u001b[0m\n",
      "[2022-10-19 03:41:30.305] [xacc-logger] [info] \u001b[1;34mE(0.825467,-0.0471975,0.127335) = -0.691141821787\u001b[0m\n",
      "[2022-10-19 03:41:30.324] [xacc-logger] [info] \u001b[1;34mE(-0.047198,-0.570796,-1.0944) = -0.130868244492\u001b[0m\n",
      "[2022-10-19 03:41:30.344] [xacc-logger] [info] \u001b[1;34mE(2.279908,-0.745329,1.11636) = -0.0116621508806\u001b[0m\n",
      "[2022-10-19 03:41:30.364] [xacc-logger] [info] \u001b[1;34mE(1.319977,0.563668,1.02909) = -0.282263462081\u001b[0m\n",
      "[2022-10-19 03:41:30.383] [xacc-logger] [info] \u001b[1;34mE(1.959931,-0.308997,1.08727) = -0.158877110617\u001b[0m\n",
      "[2022-10-19 03:41:30.402] [xacc-logger] [info] \u001b[1;34mE(1.479966,0.345502,1.04363) = -0.354433956184\u001b[0m\n",
      "[2022-10-19 03:41:30.421] [xacc-logger] [info] \u001b[1;34mE(1.799943,-0.0908308,1.07272) = -0.287008529579\u001b[0m\n",
      "[2022-10-19 03:41:30.440] [xacc-logger] [info] \u001b[1;34mE(1.559960,0.236418,1.05091) = -0.369221113581\u001b[0m\n",
      "[2022-10-19 03:41:30.460] [xacc-logger] [info] \u001b[1;34mE(1.719948,0.0182523,1.06545) = -0.334720314839\u001b[0m\n",
      "[2022-10-19 03:41:30.479] [xacc-logger] [info] \u001b[1;34mE(1.599957,0.181877,1.05454) = -0.368880197281\u001b[0m\n",
      "[2022-10-19 03:41:30.498] [xacc-logger] [info] \u001b[1;34mE(1.192713,0.0946105,0.58912) = -0.294354394558\u001b[0m\n",
      "[2022-10-19 03:41:30.517] [xacc-logger] [info] \u001b[1;34mE(1.698132,0.476401,0.563668) = -0.404506734594\u001b[0m\n",
      "[2022-10-19 03:41:30.537] [xacc-logger] [info] \u001b[1;34mE(1.174533,-0.308997,1.08727) = -0.456218304738\u001b[0m\n",
      "[2022-10-19 03:41:30.556] [xacc-logger] [info] \u001b[1;34mE(1.272708,-0.0144726,0.596393) = -0.360562630616\u001b[0m\n",
      "[2022-10-19 03:41:30.575] [xacc-logger] [info] \u001b[1;34mE(1.252709,0.0127982,0.594575) = -0.346520049282\u001b[0m\n",
      "[2022-10-19 03:41:30.594] [xacc-logger] [info] \u001b[1;34mE(1.009090,0.0237065,0.358228) = -0.455625550831\u001b[0m\n",
      "[2022-10-19 03:41:30.614] [xacc-logger] [info] \u001b[1;34mE(1.261799,0.214602,0.345502) = -0.264462397231\u001b[0m\n",
      "[2022-10-19 03:41:30.633] [xacc-logger] [info] \u001b[1;34mE(1.000000,-0.178097,0.607301) = -0.521876668045\u001b[0m\n",
      "[2022-10-19 03:41:30.652] [xacc-logger] [info] \u001b[1;34mE(0.627906,-0.348994,0.383075) = -0.834475878537\u001b[0m\n",
      "[2022-10-19 03:41:30.671] [xacc-logger] [info] \u001b[1;34mE(0.310959,-0.630792,0.401861) = -0.809415706204\u001b[0m\n",
      "[2022-10-19 03:41:30.690] [xacc-logger] [info] \u001b[1;34mE(0.626491,-0.406566,0.386913) = -0.850306911918\u001b[0m\n",
      "[2022-10-19 03:41:30.709] [xacc-logger] [info] \u001b[1;34mE(0.435192,-0.621702,0.401255) = -0.852547558697\u001b[0m\n",
      "[2022-10-19 03:41:30.729] [xacc-logger] [info] \u001b[1;34mE(0.259043,-0.500498,0.000475811) = -0.962986597429\u001b[0m\n",
      "[2022-10-19 03:41:30.748] [xacc-logger] [info] \u001b[1;34mE(-0.111435,-0.661699,-0.302937) = -0.804930656817\u001b[0m\n",
      "[2022-10-19 03:41:30.767] [xacc-logger] [info] \u001b[1;34mE(0.055960,-0.933599,0.395868) = -0.533390864293\u001b[0m\n",
      "[2022-10-19 03:41:30.787] [xacc-logger] [info] \u001b[1;34mE(0.633090,-0.268798,0.194469) = -0.875256043209\u001b[0m\n",
      "[2022-10-19 03:41:30.806] [xacc-logger] [info] \u001b[1;34mE(0.256978,-0.578338,0.0143918) = -0.918146629302\u001b[0m\n",
      "[2022-10-19 03:41:30.825] [xacc-logger] [info] \u001b[1;34mE(0.330882,-0.276721,-0.261698) = -0.954379327154\u001b[0m\n",
      "[2022-10-19 03:41:30.845] [xacc-logger] [info] \u001b[1;34mE(-0.068488,-0.634907,-0.359022) = -0.804878585393\u001b[0m\n",
      "[2022-10-19 03:41:30.864] [xacc-logger] [info] \u001b[1;34mE(0.457696,-0.360325,0.056096) = -0.969250354495\u001b[0m\n",
      "[2022-10-19 03:41:30.883] [xacc-logger] [info] \u001b[1;34mE(0.441436,-0.180025,-0.151142) = -0.980635627924\u001b[0m\n",
      "[2022-10-19 03:41:30.902] [xacc-logger] [info] \u001b[1;34mE(0.533665,0.0191314,-0.233909) = -0.913971480528\u001b[0m\n",
      "[2022-10-19 03:41:30.922] [xacc-logger] [info] \u001b[1;34mE(0.441234,-0.417178,0.198651) = -0.94899432746\u001b[0m\n",
      "[2022-10-19 03:41:30.941] [xacc-logger] [info] \u001b[1;34mE(0.358470,-0.311835,-0.146611) = -0.986654127862\u001b[0m\n",
      "[2022-10-19 03:41:30.960] [xacc-logger] [info] \u001b[1;34mE(0.579358,-0.0676252,-0.16158) = -0.899085641546\u001b[0m\n",
      "[2022-10-19 03:41:30.979] [xacc-logger] [info] \u001b[1;34mE(0.339122,-0.39228,-0.0400383) = -0.992498345466\u001b[0m\n",
      "[2022-10-19 03:41:30.999] [xacc-logger] [info] \u001b[1;34mE(0.301656,-0.229102,-0.28129) = -0.974792581008\u001b[0m\n",
      "[2022-10-19 03:41:31.018] [xacc-logger] [info] \u001b[1;34mE(0.340666,-0.261908,-0.196944) = -0.992170371618\u001b[0m\n",
      "[2022-10-19 03:41:31.037] [xacc-logger] [info] \u001b[1;34mE(0.250736,-0.46399,-0.104586) = -0.965952721897\u001b[0m\n",
      "[2022-10-19 03:41:31.056] [xacc-logger] [info] \u001b[1;34mE(0.393761,-0.251016,-0.139503) = -0.993252231047\u001b[0m\n",
      "[2022-10-19 03:41:31.076] [xacc-logger] [info] \u001b[1;34mE(0.357229,-0.291634,-0.104379) = -1.00895398378\u001b[0m\n",
      "[2022-10-19 03:41:31.095] [xacc-logger] [info] \u001b[1;34mE(0.356609,-0.281534,-0.0832639) = -1.01755699157\u001b[0m\n",
      "[2022-10-19 03:41:31.114] [xacc-logger] [info] \u001b[1;34mE(0.385661,-0.354646,0.02174) = -0.997148365859\u001b[0m\n",
      "[2022-10-19 03:41:31.133] [xacc-logger] [info] \u001b[1;34mE(0.418232,-0.199184,-0.0939799) = -1.00484859631\u001b[0m\n",
      "[2022-10-19 03:41:31.153] [xacc-logger] [info] \u001b[1;34mE(0.379907,-0.305892,0.0358341) = -1.01114044433\u001b[0m\n",
      "[2022-10-19 03:41:31.172] [xacc-logger] [info] \u001b[1;34mE(0.384170,-0.169761,-0.116013) = -1.02310593761\u001b[0m\n",
      "[2022-10-19 03:41:31.191] [xacc-logger] [info] \u001b[1;34mE(0.383425,-0.0773181,-0.18489) = -1.01733798743\u001b[0m\n",
      "[2022-10-19 03:41:31.210] [xacc-logger] [info] \u001b[1;34mE(0.328892,-0.305607,-0.0149821) = -1.02925037135\u001b[0m\n",
      "[2022-10-19 03:41:31.229] [xacc-logger] [info] \u001b[1;34mE(0.284222,-0.358819,0.0245168) = -1.02346678542\u001b[0m\n",
      "[2022-10-19 03:41:31.249] [xacc-logger] [info] \u001b[1;34mE(0.333207,-0.198709,-0.178673) = -1.02367901604\u001b[0m\n",
      "[2022-10-19 03:41:31.268] [xacc-logger] [info] \u001b[1;34mE(0.340904,-0.167851,-0.123182) = -1.04296641147\u001b[0m\n",
      "[2022-10-19 03:41:31.287] [xacc-logger] [info] \u001b[1;34mE(0.333052,-0.11101,-0.143141) = -1.05009578502\u001b[0m\n",
      "[2022-10-19 03:41:31.306] [xacc-logger] [info] \u001b[1;34mE(0.279263,-0.240456,-0.108518) = -1.05461434186\u001b[0m\n",
      "[2022-10-19 03:41:31.325] [xacc-logger] [info] \u001b[1;34mE(0.226810,-0.275804,-0.10477) = -1.06016961212\u001b[0m\n",
      "[2022-10-19 03:41:31.344] [xacc-logger] [info] \u001b[1;34mE(0.259296,-0.262906,0.0034113) = -1.05833012071\u001b[0m\n",
      "[2022-10-19 03:41:31.364] [xacc-logger] [info] \u001b[1;34mE(0.217213,-0.127539,-0.148018) = -1.09203211696\u001b[0m\n",
      "[2022-10-19 03:41:31.383] [xacc-logger] [info] \u001b[1;34mE(0.161373,-0.0385049,-0.214536) = -1.09910519277\u001b[0m\n",
      "[2022-10-19 03:41:31.403] [xacc-logger] [info] \u001b[1;34mE(0.098601,-0.2738,-0.0674555) = -1.08153477998\u001b[0m\n",
      "[2022-10-19 03:41:31.422] [xacc-logger] [info] \u001b[1;34mE(0.065227,-0.129167,-0.261252) = -1.08432519019\u001b[0m\n",
      "[2022-10-19 03:41:31.442] [xacc-logger] [info] \u001b[1;34mE(-0.010009,-0.0185106,-0.257392) = -1.10261742655\u001b[0m\n",
      "[2022-10-19 03:41:31.461] [xacc-logger] [info] \u001b[1;34mE(-0.128418,0.110136,-0.333703) = -1.03314981965\u001b[0m\n",
      "[2022-10-19 03:41:31.481] [xacc-logger] [info] \u001b[1;34mE(0.045794,0.149678,-0.421331) = -0.974132660015\u001b[0m\n",
      "[2022-10-19 03:41:31.500] [xacc-logger] [info] \u001b[1;34mE(0.085399,-0.167931,-0.155924) = -1.10933486588\u001b[0m\n",
      "[2022-10-19 03:41:31.520] [xacc-logger] [info] \u001b[1;34mE(0.092615,-0.0207966,-0.157316) = -1.12722959099\u001b[0m\n",
      "[2022-10-19 03:41:31.539] [xacc-logger] [info] \u001b[1;34mE(0.106309,0.0333888,-0.105348) = -1.12607144236\u001b[0m\n",
      "[2022-10-19 03:41:31.558] [xacc-logger] [info] \u001b[1;34mE(-0.049370,-0.0996537,-0.165886) = -1.12189447117\u001b[0m\n",
      "[2022-10-19 03:41:31.578] [xacc-logger] [info] \u001b[1;34mE(0.095772,-0.173743,-0.0620253) = -1.11093416375\u001b[0m\n",
      "[2022-10-19 03:41:31.597] [xacc-logger] [info] \u001b[1;34mE(0.007279,-0.0281985,-0.100894) = -1.13652173736\u001b[0m\n",
      "[2022-10-19 03:41:31.617] [xacc-logger] [info] \u001b[1;34mE(-0.031781,0.0416676,-0.0733781) = -1.13337335311\u001b[0m\n",
      "[2022-10-19 03:41:31.636] [xacc-logger] [info] \u001b[1;34mE(-0.062089,0.0746441,-0.220705) = -1.11076413618\u001b[0m\n",
      "[2022-10-19 03:41:31.656] [xacc-logger] [info] \u001b[1;34mE(0.056307,-0.111646,-0.101695) = -1.12723212275\u001b[0m\n",
      "[2022-10-19 03:41:31.676] [xacc-logger] [info] \u001b[1;34mE(0.153504,-0.00744063,-0.0740505) = -1.11698636006\u001b[0m\n",
      "[2022-10-19 03:41:31.695] [xacc-logger] [info] \u001b[1;34mE(0.001348,-0.0766004,-0.142927) = -1.13110880214\u001b[0m\n",
      "[2022-10-19 03:41:31.714] [xacc-logger] [info] \u001b[1;34mE(-0.049326,-0.1235,-0.073028) = -1.11798715453\u001b[0m\n",
      "[2022-10-19 03:41:31.735] [xacc-logger] [info] \u001b[1;34mE(0.057130,-0.0464725,-0.136244) = -1.1327791495\u001b[0m\n",
      "[2022-10-19 03:41:31.759] [xacc-logger] [info] \u001b[1;34mE(-0.012468,0.0107988,-0.151681) = -1.13452302677\u001b[0m\n",
      "[2022-10-19 03:41:31.778] [xacc-logger] [info] \u001b[1;34mE(0.033279,0.034019,-0.116285) = -1.13508368368\u001b[0m\n",
      "[2022-10-19 03:41:31.798] [xacc-logger] [info] \u001b[1;34mE(-0.038404,0.0575521,-0.109663) = -1.13431534162\u001b[0m\n",
      "[2022-10-19 03:41:31.818] [xacc-logger] [info] \u001b[1;34mE(-0.014520,0.031546,-0.116308) = -1.13647444303\u001b[0m\n",
      "[2022-10-19 03:41:31.837] [xacc-logger] [info] \u001b[1;34mE(0.029827,0.0141122,-0.0706435) = -1.13347735938\u001b[0m\n",
      "[2022-10-19 03:41:31.857] [xacc-logger] [info] \u001b[1;34mE(-0.001895,0.0116272,-0.131422) = -1.13657213234\u001b[0m\n",
      "[2022-10-19 03:41:31.877] [xacc-logger] [info] \u001b[1;34mE(-0.039369,-0.0240359,-0.11613) = -1.13525869398\u001b[0m\n",
      "[2022-10-19 03:41:31.896] [xacc-logger] [info] \u001b[1;34mE(-0.021207,-0.00952217,-0.116169) = -1.13677546195\u001b[0m\n",
      "[2022-10-19 03:41:31.916] [xacc-logger] [info] \u001b[1;34mE(0.003972,-0.0489416,-0.116015) = -1.13543226191\u001b[0m\n",
      "[2022-10-19 03:41:31.936] [xacc-logger] [info] \u001b[1;34mE(-0.009897,0.0114241,-0.116235) = -1.13713143441\u001b[0m\n",
      "[2022-10-19 03:41:31.959] [xacc-logger] [info] \u001b[1;34mE(-0.029278,0.0372178,-0.141657) = -1.13436019779\u001b[0m\n",
      "[2022-10-19 03:41:31.979] [xacc-logger] [info] \u001b[1;34mE(-0.001860,-0.0118444,-0.111084) = -1.13718317175\u001b[0m\n",
      "[2022-10-19 03:41:31.999] [xacc-logger] [info] \u001b[1;34mE(-0.020082,-0.0182555,-0.0975703) = -1.13624318086\u001b[0m\n",
      "[2022-10-19 03:41:32.020] [xacc-logger] [info] \u001b[1;34mE(-0.006441,0.00415651,-0.122959) = -1.13706371672\u001b[0m\n",
      "[2022-10-19 03:41:32.040] [xacc-logger] [info] \u001b[1;34mE(0.009075,0.012013,-0.11735) = -1.13703787132\u001b[0m\n",
      "[2022-10-19 03:41:32.060] [xacc-logger] [info] \u001b[1;34mE(0.001504,0.00662918,-0.117054) = -1.13722032059\u001b[0m\n",
      "[2022-10-19 03:41:32.080] [xacc-logger] [info] \u001b[1;34mE(-0.000394,-1.72591e-05,-0.106623) = -1.13726269935\u001b[0m\n",
      "[2022-10-19 03:41:32.100] [xacc-logger] [info] \u001b[1;34mE(0.002629,-0.00210414,-0.0984558) = -1.13700999805\u001b[0m\n",
      "[2022-10-19 03:41:32.120] [xacc-logger] [info] \u001b[1;34mE(0.009397,-0.0149124,-0.10694) = -1.13707434881\u001b[0m\n",
      "[2022-10-19 03:41:32.140] [xacc-logger] [info] \u001b[1;34mE(-0.005074,0.00483996,-0.113911) = -1.13726823645\u001b[0m\n",
      "[2022-10-19 03:41:32.160] [xacc-logger] [info] \u001b[1;34mE(-0.000782,0.019479,-0.113975) = -1.13700192228\u001b[0m\n",
      "[2022-10-19 03:41:32.180] [xacc-logger] [info] \u001b[1;34mE(-0.001591,-0.00401354,-0.111807) = -1.13728893136\u001b[0m\n",
      "[2022-10-19 03:41:32.201] [xacc-logger] [info] \u001b[1;34mE(-0.006210,-0.00608974,-0.104507) = -1.13714534437\u001b[0m\n",
      "[2022-10-19 03:41:32.221] [xacc-logger] [info] \u001b[1;34mE(-0.000424,0.00344945,-0.113917) = -1.13728943092\u001b[0m\n",
      "[2022-10-19 03:41:32.241] [xacc-logger] [info] \u001b[1;34mE(-0.004332,0.00286784,-0.1198) = -1.13718349114\u001b[0m\n",
      "[2022-10-19 03:41:32.261] [xacc-logger] [info] \u001b[1;34mE(-0.001379,0.000704014,-0.109918) = -1.13729889936\u001b[0m\n",
      "[2022-10-19 03:41:32.281] [xacc-logger] [info] \u001b[1;34mE(0.002811,-0.00474668,-0.10985) = -1.13728078946\u001b[0m\n",
      "[2022-10-19 03:41:32.301] [xacc-logger] [info] \u001b[1;34mE(0.000840,-0.00235002,-0.110866) = -1.13730048216\u001b[0m\n",
      "[2022-10-19 03:41:32.321] [xacc-logger] [info] \u001b[1;34mE(0.000949,0.00521584,-0.111327) = -1.13728161478\u001b[0m\n",
      "[2022-10-19 03:41:32.341] [xacc-logger] [info] \u001b[1;34mE(-0.000956,-0.0017062,-0.111687) = -1.13730239877\u001b[0m\n",
      "[2022-10-19 03:41:32.361] [xacc-logger] [info] \u001b[1;34mE(-0.000572,-0.00568425,-0.107729) = -1.13725228309\u001b[0m\n",
      "[2022-10-19 03:41:32.381] [xacc-logger] [info] \u001b[1;34mE(-0.000461,0.00116602,-0.11237) = -1.13730439\u001b[0m\n",
      "[2022-10-19 03:41:32.401] [xacc-logger] [info] \u001b[1;34mE(0.000994,-0.00263081,-0.113364) = -1.13729653488\u001b[0m\n",
      "[2022-10-19 03:41:32.421] [xacc-logger] [info] \u001b[1;34mE(-0.000786,-0.000129692,-0.110779) = -1.13730389828\u001b[0m\n",
      "[2022-10-19 03:41:32.442] [xacc-logger] [info] \u001b[1;34mE(-0.002308,0.00190344,-0.112359) = -1.13729994381\u001b[0m\n",
      "[2022-10-19 03:41:32.462] [xacc-logger] [info] \u001b[1;34mE(0.000053,-0.00128665,-0.111239) = -1.13730428657\u001b[0m\n",
      "[2022-10-19 03:41:32.482] [xacc-logger] [info] \u001b[1;34mE(0.000160,0.00153932,-0.111239) = -1.13730358745\u001b[0m\n",
      "[2022-10-19 03:41:32.502] [xacc-logger] [info] \u001b[1;34mE(-0.000119,0.000727938,-0.111351) = -1.13730535069\u001b[0m\n",
      "[2022-10-19 03:41:32.522] [xacc-logger] [info] \u001b[1;34mE(0.000434,0.000534564,-0.112527) = -1.13730463595\u001b[0m\n",
      "ii: 0, resizing jj: 1\n",
      "ii: 0, resizing jj: 1\n",
      "ii: 0, resizing jj: 1\n",
      "Gradient enabled [grad]: 0\n",
      "Min. energy: -1.1373053506938673\n"
     ]
    }
   ],
   "source": [
    "# H2 geometry\n",
    "vqe.geometry = \"H 0.0 0.0 0.0; H 0.0 0.0 0.735\" #unit: Angstrom\n",
    "vqe.qn = 4  # Number of qubits (number of spin orbitals)\n",
    "vqe.uccsdn = 2  # Number of electrons/particles\n",
    "\n",
    "vqe.run()\n",
    "optimum_energy = vqe.out_energy[0][0][0]  \n",
    "print(\"Min. energy:\", optimum_energy)"
   ]
  },
  {
   "cell_type": "code",
   "execution_count": 3,
   "id": "5a1306c8",
   "metadata": {},
   "outputs": [
    {
     "name": "stdout",
     "output_type": "stream",
     "text": [
      "Invoked run()\n",
      "N_ii: 1\n",
      "N_jj: 1\n"
     ]
    },
    {
     "ename": "RuntimeError",
     "evalue": "Unsupported atom symbol D",
     "output_type": "error",
     "traceback": [
      "\u001b[0;31m---------------------------------------------------------------------------\u001b[0m",
      "\u001b[0;31mRuntimeError\u001b[0m                              Traceback (most recent call last)",
      "Input \u001b[0;32mIn [3]\u001b[0m, in \u001b[0;36m<cell line: 6>\u001b[0;34m()\u001b[0m\n\u001b[1;32m      3\u001b[0m vqe\u001b[38;5;241m.\u001b[39mqn \u001b[38;5;241m=\u001b[39m \u001b[38;5;241m4\u001b[39m  \u001b[38;5;66;03m# Number of qubits (number of spin orbitals)\u001b[39;00m\n\u001b[1;32m      4\u001b[0m vqe\u001b[38;5;241m.\u001b[39muccsdn \u001b[38;5;241m=\u001b[39m \u001b[38;5;241m2\u001b[39m  \u001b[38;5;66;03m# Number of electrons/particles\u001b[39;00m\n\u001b[0;32m----> 6\u001b[0m \u001b[43mvqe\u001b[49m\u001b[38;5;241;43m.\u001b[39;49m\u001b[43mrun\u001b[49m\u001b[43m(\u001b[49m\u001b[43m)\u001b[49m\n\u001b[1;32m      7\u001b[0m optimum_energy \u001b[38;5;241m=\u001b[39m vqe\u001b[38;5;241m.\u001b[39mout_energy[\u001b[38;5;241m0\u001b[39m][\u001b[38;5;241m0\u001b[39m][\u001b[38;5;241m0\u001b[39m]  \n\u001b[1;32m      8\u001b[0m \u001b[38;5;28mprint\u001b[39m(\u001b[38;5;124m\"\u001b[39m\u001b[38;5;124mMin. energy:\u001b[39m\u001b[38;5;124m\"\u001b[39m, optimum_energy)\n",
      "File \u001b[0;32m/mnt/qb/xacc-local/py-plugins/pyscf_observable.py:47\u001b[0m, in \u001b[0;36mPySCFObservable.fromOptions\u001b[0;34m(self, inputParams)\u001b[0m\n\u001b[1;32m     45\u001b[0m     mol\u001b[38;5;241m.\u001b[39mbuild()\n\u001b[1;32m     46\u001b[0m \u001b[38;5;28;01melse\u001b[39;00m:\n\u001b[0;32m---> 47\u001b[0m     \u001b[43mmol\u001b[49m\u001b[38;5;241;43m.\u001b[39;49m\u001b[43mbuild\u001b[49m\u001b[43m(\u001b[49m\u001b[43mverbose\u001b[49m\u001b[38;5;241;43m=\u001b[39;49m\u001b[43mlogger\u001b[49m\u001b[38;5;241;43m.\u001b[39;49m\u001b[43mQUIET\u001b[49m\u001b[43m)\u001b[49m\n\u001b[1;32m     48\u001b[0m scf_wfn \u001b[38;5;241m=\u001b[39m scf\u001b[38;5;241m.\u001b[39mRHF(mol) \u001b[38;5;66;03m# needs to be changed for open-shells\u001b[39;00m\n\u001b[1;32m     49\u001b[0m scf_wfn\u001b[38;5;241m.\u001b[39mconv_tol \u001b[38;5;241m=\u001b[39m \u001b[38;5;241m1e-8\u001b[39m\n",
      "File \u001b[0;32m/mnt/qb_venv/lib/python3.8/site-packages/pyscf/gto/mole.py:2360\u001b[0m, in \u001b[0;36mMole.build\u001b[0;34m(self, dump_input, parse_arg, verbose, output, max_memory, atom, basis, unit, nucmod, ecp, charge, spin, symmetry, symmetry_subgroup, cart)\u001b[0m\n\u001b[1;32m   2357\u001b[0m \u001b[38;5;28;01mif\u001b[39;00m \u001b[38;5;28mself\u001b[39m\u001b[38;5;241m.\u001b[39mverbose \u001b[38;5;241m>\u001b[39m\u001b[38;5;241m=\u001b[39m logger\u001b[38;5;241m.\u001b[39mWARN:\n\u001b[1;32m   2358\u001b[0m     \u001b[38;5;28mself\u001b[39m\u001b[38;5;241m.\u001b[39mcheck_sanity()\n\u001b[0;32m-> 2360\u001b[0m \u001b[38;5;28mself\u001b[39m\u001b[38;5;241m.\u001b[39m_atom \u001b[38;5;241m=\u001b[39m \u001b[38;5;28;43mself\u001b[39;49m\u001b[38;5;241;43m.\u001b[39;49m\u001b[43mformat_atom\u001b[49m\u001b[43m(\u001b[49m\u001b[38;5;28;43mself\u001b[39;49m\u001b[38;5;241;43m.\u001b[39;49m\u001b[43matom\u001b[49m\u001b[43m,\u001b[49m\u001b[43m \u001b[49m\u001b[43munit\u001b[49m\u001b[38;5;241;43m=\u001b[39;49m\u001b[38;5;28;43mself\u001b[39;49m\u001b[38;5;241;43m.\u001b[39;49m\u001b[43munit\u001b[49m\u001b[43m)\u001b[49m\n\u001b[1;32m   2361\u001b[0m uniq_atoms \u001b[38;5;241m=\u001b[39m \u001b[38;5;28mset\u001b[39m([a[\u001b[38;5;241m0\u001b[39m] \u001b[38;5;28;01mfor\u001b[39;00m a \u001b[38;5;129;01min\u001b[39;00m \u001b[38;5;28mself\u001b[39m\u001b[38;5;241m.\u001b[39m_atom])\n\u001b[1;32m   2363\u001b[0m \u001b[38;5;28;01mif\u001b[39;00m \u001b[38;5;28misinstance\u001b[39m(\u001b[38;5;28mself\u001b[39m\u001b[38;5;241m.\u001b[39mbasis, (\u001b[38;5;28mstr\u001b[39m, unicode, \u001b[38;5;28mtuple\u001b[39m, \u001b[38;5;28mlist\u001b[39m)):\n\u001b[1;32m   2364\u001b[0m     \u001b[38;5;66;03m# specify global basis for whole molecule\u001b[39;00m\n",
      "File \u001b[0;32m/mnt/qb_venv/lib/python3.8/site-packages/pyscf/gto/mole.py:2460\u001b[0m, in \u001b[0;36mMole.format_atom\u001b[0;34m(self, atom, origin, axes, unit)\u001b[0m\n\u001b[1;32m   2458\u001b[0m \u001b[38;5;129m@lib\u001b[39m\u001b[38;5;241m.\u001b[39mwith_doc(format_atom\u001b[38;5;241m.\u001b[39m\u001b[38;5;18m__doc__\u001b[39m)\n\u001b[1;32m   2459\u001b[0m \u001b[38;5;28;01mdef\u001b[39;00m \u001b[38;5;21mformat_atom\u001b[39m(\u001b[38;5;28mself\u001b[39m, atom, origin\u001b[38;5;241m=\u001b[39m\u001b[38;5;241m0\u001b[39m, axes\u001b[38;5;241m=\u001b[39m\u001b[38;5;28;01mNone\u001b[39;00m, unit\u001b[38;5;241m=\u001b[39m\u001b[38;5;124m'\u001b[39m\u001b[38;5;124mAng\u001b[39m\u001b[38;5;124m'\u001b[39m):\n\u001b[0;32m-> 2460\u001b[0m     \u001b[38;5;28;01mreturn\u001b[39;00m \u001b[43mformat_atom\u001b[49m\u001b[43m(\u001b[49m\u001b[43matom\u001b[49m\u001b[43m,\u001b[49m\u001b[43m \u001b[49m\u001b[43morigin\u001b[49m\u001b[43m,\u001b[49m\u001b[43m \u001b[49m\u001b[43maxes\u001b[49m\u001b[43m,\u001b[49m\u001b[43m \u001b[49m\u001b[43munit\u001b[49m\u001b[43m)\u001b[49m\n",
      "File \u001b[0;32m/mnt/qb_venv/lib/python3.8/site-packages/pyscf/gto/mole.py:361\u001b[0m, in \u001b[0;36mformat_atom\u001b[0;34m(atoms, origin, axes, unit)\u001b[0m\n\u001b[1;32m    359\u001b[0m         fmt_atoms \u001b[38;5;241m=\u001b[39m from_zmatrix(\u001b[38;5;124m'\u001b[39m\u001b[38;5;130;01m\\n\u001b[39;00m\u001b[38;5;124m'\u001b[39m\u001b[38;5;241m.\u001b[39mjoin(fmt_atoms))\n\u001b[1;32m    360\u001b[0m     \u001b[38;5;28;01melse\u001b[39;00m:\n\u001b[0;32m--> 361\u001b[0m         fmt_atoms \u001b[38;5;241m=\u001b[39m [str2atm(line) \u001b[38;5;28;01mfor\u001b[39;00m line \u001b[38;5;129;01min\u001b[39;00m fmt_atoms]\n\u001b[1;32m    362\u001b[0m \u001b[38;5;28;01melse\u001b[39;00m:\n\u001b[1;32m    363\u001b[0m     fmt_atoms \u001b[38;5;241m=\u001b[39m []\n",
      "File \u001b[0;32m/mnt/qb_venv/lib/python3.8/site-packages/pyscf/gto/mole.py:361\u001b[0m, in \u001b[0;36m<listcomp>\u001b[0;34m(.0)\u001b[0m\n\u001b[1;32m    359\u001b[0m         fmt_atoms \u001b[38;5;241m=\u001b[39m from_zmatrix(\u001b[38;5;124m'\u001b[39m\u001b[38;5;130;01m\\n\u001b[39;00m\u001b[38;5;124m'\u001b[39m\u001b[38;5;241m.\u001b[39mjoin(fmt_atoms))\n\u001b[1;32m    360\u001b[0m     \u001b[38;5;28;01melse\u001b[39;00m:\n\u001b[0;32m--> 361\u001b[0m         fmt_atoms \u001b[38;5;241m=\u001b[39m [\u001b[43mstr2atm\u001b[49m\u001b[43m(\u001b[49m\u001b[43mline\u001b[49m\u001b[43m)\u001b[49m \u001b[38;5;28;01mfor\u001b[39;00m line \u001b[38;5;129;01min\u001b[39;00m fmt_atoms]\n\u001b[1;32m    362\u001b[0m \u001b[38;5;28;01melse\u001b[39;00m:\n\u001b[1;32m    363\u001b[0m     fmt_atoms \u001b[38;5;241m=\u001b[39m []\n",
      "File \u001b[0;32m/mnt/qb_venv/lib/python3.8/site-packages/pyscf/gto/mole.py:340\u001b[0m, in \u001b[0;36mformat_atom.<locals>.str2atm\u001b[0;34m(line)\u001b[0m\n\u001b[1;32m    338\u001b[0m \u001b[38;5;28;01mif\u001b[39;00m \u001b[38;5;28mlen\u001b[39m(coords) \u001b[38;5;241m!=\u001b[39m \u001b[38;5;241m3\u001b[39m:\n\u001b[1;32m    339\u001b[0m     \u001b[38;5;28;01mraise\u001b[39;00m \u001b[38;5;167;01mValueError\u001b[39;00m(\u001b[38;5;124m'\u001b[39m\u001b[38;5;124mCoordinates error in \u001b[39m\u001b[38;5;132;01m%s\u001b[39;00m\u001b[38;5;124m'\u001b[39m \u001b[38;5;241m%\u001b[39m line)\n\u001b[0;32m--> 340\u001b[0m \u001b[38;5;28;01mreturn\u001b[39;00m [\u001b[43m_atom_symbol\u001b[49m\u001b[43m(\u001b[49m\u001b[43mdat\u001b[49m\u001b[43m[\u001b[49m\u001b[38;5;241;43m0\u001b[39;49m\u001b[43m]\u001b[49m\u001b[43m)\u001b[49m, coords]\n",
      "File \u001b[0;32m/mnt/qb_venv/lib/python3.8/site-packages/pyscf/data/elements.py:935\u001b[0m, in \u001b[0;36m_atom_symbol\u001b[0;34m(symb_or_chg)\u001b[0m\n\u001b[1;32m    933\u001b[0m             a \u001b[38;5;241m=\u001b[39m a[:\u001b[38;5;241m5\u001b[39m] \u001b[38;5;241m+\u001b[39m \u001b[38;5;124m'\u001b[39m\u001b[38;5;124m-\u001b[39m\u001b[38;5;124m'\u001b[39m \u001b[38;5;241m+\u001b[39m a[\u001b[38;5;241m6\u001b[39m:]\n\u001b[1;32m    934\u001b[0m     \u001b[38;5;28;01melse\u001b[39;00m:\n\u001b[0;32m--> 935\u001b[0m         \u001b[38;5;28;01mraise\u001b[39;00m \u001b[38;5;167;01mRuntimeError\u001b[39;00m(\u001b[38;5;124m'\u001b[39m\u001b[38;5;124mUnsupported atom symbol \u001b[39m\u001b[38;5;132;01m%s\u001b[39;00m\u001b[38;5;124m'\u001b[39m \u001b[38;5;241m%\u001b[39m a)\n\u001b[1;32m    936\u001b[0m stdsymb \u001b[38;5;241m=\u001b[39m _ELEMENTS_UPPER[rawsymb]\n\u001b[1;32m    937\u001b[0m symb \u001b[38;5;241m=\u001b[39m a\u001b[38;5;241m.\u001b[39mreplace(rawsymb, stdsymb)\n",
      "\u001b[0;31mRuntimeError\u001b[0m: Unsupported atom symbol D"
     ]
    }
   ],
   "source": [
    "# Trying with Deteurium, same specs as H2\n",
    "vqe.geometry = \"D 0.0 0.0 0.0; D 0.0 0.0 0.735\" #unit: Angstrom\n",
    "vqe.qn = 4  # Number of qubits (number of spin orbitals)\n",
    "vqe.uccsdn = 2  # Number of electrons/particles\n",
    "\n",
    "vqe.run()\n",
    "optimum_energy = vqe.out_energy[0][0][0]  \n",
    "print(\"Min. energy:\", optimum_energy)"
   ]
  },
  {
   "cell_type": "code",
   "execution_count": null,
   "id": "aa69dd5c",
   "metadata": {},
   "outputs": [
    {
     "name": "stdout",
     "output_type": "stream",
     "text": [
      "Invoked run()\n",
      "N_ii: 1\n",
      "N_jj: 1\n"
     ]
    }
   ],
   "source": [
    "# Trying with Li2\n",
    "# should increase number of electrons and of qubits\n",
    "vqe.geometry = \"Li 0.0 0.0 0.0; Li 0.0 0.0 0.735\" #unit: Angstrom\n",
    "vqe.qn = 4  # Number of qubits (number of spin orbitals)\n",
    "vqe.uccsdn = 2  # Number of electrons/particles\n",
    "\n",
    "vqe.run()\n",
    "optimum_energy = vqe.out_energy[0][0][0]  \n",
    "print(\"Min. energy:\", optimum_energy)"
   ]
  },
  {
   "cell_type": "code",
   "execution_count": null,
   "id": "69086968",
   "metadata": {},
   "outputs": [],
   "source": []
  }
 ],
 "metadata": {
  "kernelspec": {
   "display_name": "Python 3 (ipykernel)",
   "language": "python",
   "name": "python3"
  },
  "language_info": {
   "codemirror_mode": {
    "name": "ipython",
    "version": 3
   },
   "file_extension": ".py",
   "mimetype": "text/x-python",
   "name": "python",
   "nbconvert_exporter": "python",
   "pygments_lexer": "ipython3",
   "version": "3.8.10"
  }
 },
 "nbformat": 4,
 "nbformat_minor": 5
}
