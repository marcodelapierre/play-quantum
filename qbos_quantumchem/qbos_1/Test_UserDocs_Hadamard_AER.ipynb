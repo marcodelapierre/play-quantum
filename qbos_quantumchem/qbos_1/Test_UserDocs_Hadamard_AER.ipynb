{
 "cells": [
  {
   "cell_type": "code",
   "execution_count": 1,
   "id": "924a4af9",
   "metadata": {},
   "outputs": [],
   "source": [
    "import qbos\n",
    "tqb = qbos.core()  # This object has access to the core API methods for circuit simulation\n",
    "tqb.qb12()         # Set up some sensible defaults"
   ]
  },
  {
   "cell_type": "code",
   "execution_count": 2,
   "id": "12feedbd",
   "metadata": {},
   "outputs": [],
   "source": [
    "tqb.xasm = True    # Use XASM circuit format \n",
    "tqb.noise = True   \n",
    "tqb.acc = \"aer\"    # Use the aer state-vector simulator with QB's embedded noise model "
   ]
  },
  {
   "cell_type": "code",
   "execution_count": 3,
   "id": "82a63551",
   "metadata": {},
   "outputs": [],
   "source": [
    "# Option 1: a single H-gate (minimising the circuit depth)\n",
    "tqb.instring = '''            \n",
    "__qpu__ void QBCIRCUIT(qreg q) {\n",
    "H(q[0]); // notice we initialise at |0> by default \n",
    "Measure(q[0]);\n",
    "}\n",
    "'''"
   ]
  },
  {
   "cell_type": "code",
   "execution_count": 4,
   "id": "9b695da6",
   "metadata": {},
   "outputs": [],
   "source": [
    "# Option 2: the equivalent circuit thru optimal native gate set of QB hardware\n",
    "tqb.instring = '''            \n",
    "__qpu__ void QBCIRCUIT(qreg q) {\n",
    "Ry(q[0],pi/2);\n",
    "X(q[0]);\n",
    "Measure(q[0]);\n",
    "}\n",
    "'''"
   ]
  },
  {
   "cell_type": "code",
   "execution_count": 5,
   "id": "6a71fb73",
   "metadata": {},
   "outputs": [
    {
     "data": {
      "text/plain": [
       "[None, None]"
      ]
     },
     "execution_count": 5,
     "metadata": {},
     "output_type": "execute_result"
    }
   ],
   "source": [
    "tqb.sn[0].clear()\n",
    "sweep = [1,100]\n",
    "[tqb.sn[0].append(nn) for nn in sweep]"
   ]
  },
  {
   "cell_type": "code",
   "execution_count": 6,
   "id": "21e7f18a",
   "metadata": {},
   "outputs": [],
   "source": [
    "tqb.run()"
   ]
  },
  {
   "cell_type": "code",
   "execution_count": 7,
   "id": "36096ef9",
   "metadata": {},
   "outputs": [
    {
     "name": "stdout",
     "output_type": "stream",
     "text": [
      "{\n",
      "    \"1\": 1\n",
      "}\n"
     ]
    }
   ],
   "source": [
    "print(tqb.out_raw[0][0])"
   ]
  },
  {
   "cell_type": "code",
   "execution_count": 8,
   "id": "4fad7055",
   "metadata": {},
   "outputs": [
    {
     "name": "stdout",
     "output_type": "stream",
     "text": [
      "{\n",
      "    \"0\": 55,\n",
      "    \"1\": 45\n",
      "}\n"
     ]
    }
   ],
   "source": [
    "print(tqb.out_raw[0][1])"
   ]
  },
  {
   "cell_type": "code",
   "execution_count": 9,
   "id": "a2d50674",
   "metadata": {},
   "outputs": [
    {
     "data": {
      "text/plain": [
       "Text(0, 0.5, 'Shots measured')"
      ]
     },
     "execution_count": 9,
     "metadata": {},
     "output_type": "execute_result"
    },
    {
     "data": {
      "image/png": "[encoded data removed]",
      "text/plain": [
       "<Figure size 432x288 with 1 Axes>"
      ]
     },
     "metadata": {
      "needs_background": "light"
     },
     "output_type": "display_data"
    }
   ],
   "source": [
    "import numpy as np\n",
    "import matplotlib.pyplot as plt\n",
    "from pylab import figure, show, legend, ylabel\n",
    "fig1 = figure()\n",
    "ax1 = fig1.add_subplot(111)\n",
    "xdat=[format(iix,'01b') for iix in iter(tqb.out_count[0][0])]\n",
    "ydat=[tqb.out_count[0][0][iiy] for iiy in iter(tqb.out_count[0][0])]\n",
    "ax1.bar(xdat,ydat)\n",
    "plt.yticks(np.arange(0, 1.001, step=1))\n",
    "plt.xlabel(\"States\")\n",
    "plt.ylabel(\"Shots measured\")"
   ]
  },
  {
   "cell_type": "code",
   "execution_count": 10,
   "id": "f0ca722d",
   "metadata": {},
   "outputs": [
    {
     "data": {
      "text/plain": [
       "480.0"
      ]
     },
     "execution_count": 10,
     "metadata": {},
     "output_type": "execute_result"
    }
   ],
   "source": [
    "tqb.out_total_init_maxgate_readout_time[0][0][0]"
   ]
  },
  {
   "cell_type": "code",
   "execution_count": 11,
   "id": "5c434dad",
   "metadata": {},
   "outputs": [
    {
     "data": {
      "text/plain": [
       "48000.0"
      ]
     },
     "execution_count": 11,
     "metadata": {},
     "output_type": "execute_result"
    }
   ],
   "source": [
    "tqb.out_total_init_maxgate_readout_time[0][1][0]"
   ]
  },
  {
   "cell_type": "code",
   "execution_count": null,
   "id": "30387d1e",
   "metadata": {},
   "outputs": [],
   "source": []
  }
 ],
 "metadata": {
  "kernelspec": {
   "display_name": "Python 3 (ipykernel)",
   "language": "python",
   "name": "python3"
  },
  "language_info": {
   "codemirror_mode": {
    "name": "ipython",
    "version": 3
   },
   "file_extension": ".py",
   "mimetype": "text/x-python",
   "name": "python",
   "nbconvert_exporter": "python",
   "pygments_lexer": "ipython3",
   "version": "3.8.10"
  }
 },
 "nbformat": 4,
 "nbformat_minor": 5
}
