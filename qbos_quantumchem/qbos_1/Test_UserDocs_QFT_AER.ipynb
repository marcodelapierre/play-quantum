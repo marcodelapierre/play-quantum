{
 "cells": [
  {
   "cell_type": "code",
   "execution_count": 1,
   "id": "be19e064",
   "metadata": {},
   "outputs": [],
   "source": [
    "import qbos\n",
    "tqb = qbos.core()  # This object has access to the core API methods for circuit simulation\n",
    "tqb.qb12()         "
   ]
  },
  {
   "cell_type": "code",
   "execution_count": 2,
   "id": "b2d30146",
   "metadata": {},
   "outputs": [],
   "source": [
    "tqb.xasm = True    # Use XASM circuit format to access XACC's qft()    \n",
    "tqb.sn = 1024      # Explicitly use 1024 shots\n",
    "tqb.acc = \"aer\"    # Use the aer state-vector simulator"
   ]
  },
  {
   "cell_type": "code",
   "execution_count": 3,
   "id": "20bdab75",
   "metadata": {},
   "outputs": [],
   "source": [
    "tqb.qn.clear()\n",
    "tqb.qn.append(qbos.N([2]))  # 2-qubits for the top row\n",
    "tqb.qn.append(qbos.N([4]))  # 4-qubits for the bottom row\n",
    "\n",
    "qpu_kernel_qft_2 = '''\n",
    "__qpu__ void QBCIRCUIT(qreg q) \n",
    "{\n",
    "qft(q, {{\"nq\",2}});\n",
    "Measure(q[1]);\n",
    "Measure(q[0]);\n",
    "}\n",
    "'''\n",
    "\n",
    "qpu_kernel_qft_4 = '''\n",
    "__qpu__ void QBCIRCUIT(qreg q) \n",
    "{\n",
    "qft(q, {{\"nq\",4}});\n",
    "Measure(q[3]);\n",
    "Measure(q[2]);\n",
    "Measure(q[1]);\n",
    "Measure(q[0]);\n",
    "}\n",
    "'''\n",
    "\n",
    "tqb.instring.clear()\n",
    "tqb.instring.append(qbos.String([qpu_kernel_qft_2]))   # QPU Kernel for the top row\n",
    "tqb.instring.append(qbos.String([qpu_kernel_qft_4]))   # QPU Kernel for the bottom row"
   ]
  },
  {
   "cell_type": "code",
   "execution_count": 4,
   "id": "590706b5",
   "metadata": {},
   "outputs": [],
   "source": [
    "tqb.noise.clear()\n",
    "tqb.noise.append(qbos.Bool([False, True]))  # noise is False (disabled) for the left (index 0) column, True (enabled) for the right column (index 1)"
   ]
  },
  {
   "cell_type": "code",
   "execution_count": 5,
   "id": "6f30efaf",
   "metadata": {},
   "outputs": [],
   "source": [
    "tqb.run()"
   ]
  },
  {
   "cell_type": "code",
   "execution_count": 6,
   "id": "c49502da",
   "metadata": {},
   "outputs": [
    {
     "data": {
      "text/plain": [
       "String[{\n",
       "    \"00\": 242,\n",
       "    \"01\": 258,\n",
       "    \"10\": 252,\n",
       "    \"11\": 272\n",
       "}, {\n",
       "    \"00\": 247,\n",
       "    \"01\": 262,\n",
       "    \"10\": 263,\n",
       "    \"11\": 252\n",
       "}]"
      ]
     },
     "execution_count": 6,
     "metadata": {},
     "output_type": "execute_result"
    }
   ],
   "source": [
    "tqb.out_raw[0]"
   ]
  },
  {
   "cell_type": "code",
   "execution_count": 7,
   "id": "a26c1d1e",
   "metadata": {},
   "outputs": [
    {
     "data": {
      "text/plain": [
       "[{0: 242, 1: 252, 2: 258, 3: 272}, {0: 247, 1: 263, 2: 262, 3: 252}]"
      ]
     },
     "execution_count": 7,
     "metadata": {},
     "output_type": "execute_result"
    }
   ],
   "source": [
    "tqb.out_count[0]"
   ]
  },
  {
   "cell_type": "code",
   "execution_count": 8,
   "id": "cd32f7f1",
   "metadata": {},
   "outputs": [
    {
     "data": {
      "text/plain": [
       "String[{\n",
       "    \"0000\": 43,\n",
       "    \"0001\": 52,\n",
       "    \"0010\": 67,\n",
       "    \"0011\": 76,\n",
       "    \"0100\": 60,\n",
       "    \"0101\": 61,\n",
       "    \"0110\": 72,\n",
       "    \"0111\": 62,\n",
       "    \"1000\": 67,\n",
       "    \"1001\": 70,\n",
       "    \"1010\": 70,\n",
       "    \"1011\": 57,\n",
       "    \"1100\": 78,\n",
       "    \"1101\": 54,\n",
       "    \"1110\": 66,\n",
       "    \"1111\": 69\n",
       "}, {\n",
       "    \"0000\": 67,\n",
       "    \"0001\": 67,\n",
       "    \"0010\": 64,\n",
       "    \"0011\": 59,\n",
       "    \"0100\": 72,\n",
       "    \"0101\": 71,\n",
       "    \"0110\": 55,\n",
       "    \"0111\": 69,\n",
       "    \"1000\": 62,\n",
       "    \"1001\": 61,\n",
       "    \"1010\": 58,\n",
       "    \"1011\": 69,\n",
       "    \"1100\": 71,\n",
       "    \"1101\": 56,\n",
       "    \"1110\": 63,\n",
       "    \"1111\": 60\n",
       "}]"
      ]
     },
     "execution_count": 8,
     "metadata": {},
     "output_type": "execute_result"
    }
   ],
   "source": [
    "tqb.out_raw[1]"
   ]
  },
  {
   "cell_type": "code",
   "execution_count": 9,
   "id": "dfa1608b",
   "metadata": {},
   "outputs": [
    {
     "data": {
      "text/plain": [
       "[{0: 43,\n",
       "  1: 67,\n",
       "  2: 60,\n",
       "  3: 78,\n",
       "  4: 67,\n",
       "  5: 70,\n",
       "  6: 72,\n",
       "  7: 66,\n",
       "  8: 52,\n",
       "  9: 70,\n",
       "  10: 61,\n",
       "  11: 54,\n",
       "  12: 76,\n",
       "  13: 57,\n",
       "  14: 62,\n",
       "  15: 69},\n",
       " {0: 67,\n",
       "  1: 62,\n",
       "  2: 72,\n",
       "  3: 71,\n",
       "  4: 64,\n",
       "  5: 58,\n",
       "  6: 55,\n",
       "  7: 63,\n",
       "  8: 67,\n",
       "  9: 61,\n",
       "  10: 71,\n",
       "  11: 56,\n",
       "  12: 59,\n",
       "  13: 69,\n",
       "  14: 69,\n",
       "  15: 60}]"
      ]
     },
     "execution_count": 9,
     "metadata": {},
     "output_type": "execute_result"
    }
   ],
   "source": [
    "tqb.out_count[1]"
   ]
  },
  {
   "cell_type": "code",
   "execution_count": null,
   "id": "9075a817",
   "metadata": {},
   "outputs": [],
   "source": []
  }
 ],
 "metadata": {
  "kernelspec": {
   "display_name": "Python 3 (ipykernel)",
   "language": "python",
   "name": "python3"
  },
  "language_info": {
   "codemirror_mode": {
    "name": "ipython",
    "version": 3
   },
   "file_extension": ".py",
   "mimetype": "text/x-python",
   "name": "python",
   "nbconvert_exporter": "python",
   "pygments_lexer": "ipython3",
   "version": "3.8.10"
  }
 },
 "nbformat": 4,
 "nbformat_minor": 5
}
