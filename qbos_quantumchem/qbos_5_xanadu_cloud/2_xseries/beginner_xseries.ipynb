{
 "cells": [
  {
   "cell_type": "code",
   "execution_count": 1,
   "id": "ce283e50-6436-4ce2-8da6-0d7fdd65de79",
   "metadata": {},
   "outputs": [
    {
     "name": "stderr",
     "output_type": "stream",
     "text": [
      "2022-11-23 16:16:44.605936: I tensorflow/core/platform/cpu_feature_guard.cc:193] This TensorFlow binary is optimized with oneAPI Deep Neural Network Library (oneDNN) to use the following CPU instructions in performance-critical operations:  AVX2 AVX512F FMA\n",
      "To enable them in other operations, rebuild TensorFlow with the appropriate compiler flags.\n"
     ]
    }
   ],
   "source": [
    "import numpy as np\n",
    "\n",
    "import strawberryfields as sf\n",
    "from strawberryfields import ops\n",
    "from strawberryfields import RemoteEngine\n"
   ]
  },
  {
   "cell_type": "code",
   "execution_count": 2,
   "id": "e1cecb56-e75f-4660-b95e-01cbe43799b3",
   "metadata": {},
   "outputs": [
    {
     "data": {
      "text/plain": [
       "'Successfully connected to the Xanadu Cloud.'"
      ]
     },
     "execution_count": 2,
     "metadata": {},
     "output_type": "execute_result"
    }
   ],
   "source": [
    "import xcc.commands\n",
    "xcc.commands.ping()\n"
   ]
  },
  {
   "cell_type": "code",
   "execution_count": 3,
   "id": "2490e85f-2450-4dde-a76d-5b17157e6219",
   "metadata": {},
   "outputs": [
    {
     "name": "stdout",
     "output_type": "stream",
     "text": [
      "[[-0.1787225407044426-0.6303491559482155j\n",
      "   0.0009285822611827-0.2098399400496477j\n",
      "  -0.0454846739599724+0.4539393228756476j\n",
      "   0.3894951753184049+0.4084706553965713j]\n",
      " [-0.4839632276603804+0.4421884609536221j\n",
      "   0.0459197148651991+0.2051236918340788j\n",
      "  -0.5628458485272879+0.3834772916974102j\n",
      "  -0.1311791188995151+0.2121470396207172j]\n",
      " [-0.1522847124840133+0.1387621689443624j\n",
      "  -0.3944667960609368+0.0651474161204435j\n",
      "   0.4232156706525905-0.203583030244661j\n",
      "  -0.2680526529525196+0.7108420421917672j]\n",
      " [ 0.3023962336375494-0.0841314388732129j\n",
      "  -0.796477216306217 +0.3428670194307852j\n",
      "  -0.1553214129493898+0.2886826245548124j\n",
      "   0.0446169942063203-0.2002288554485604j]]\n"
     ]
    }
   ],
   "source": [
    "from strawberryfields.utils import random_interferometer\n",
    "U = random_interferometer(4)\n",
    "np.set_printoptions(precision=16)\n",
    "print(U)\n"
   ]
  },
  {
   "cell_type": "code",
   "execution_count": 4,
   "id": "7958e8c7-f2fb-4a12-bbf8-99c80498e040",
   "metadata": {},
   "outputs": [],
   "source": [
    "prog = sf.Program(8, name=\"remote_job1\")\n"
   ]
  },
  {
   "cell_type": "code",
   "execution_count": 5,
   "id": "ebb8aa64-d986-4404-8cfa-e49d0bf85efa",
   "metadata": {},
   "outputs": [],
   "source": [
    "with prog.context as q:\n",
    "    # Initial squeezed states\n",
    "    # Allowed values are r=1.0 or r=0.0\n",
    "    ops.S2gate(1.0) | (q[0], q[4])\n",
    "    ops.S2gate(1.0) | (q[1], q[5])\n",
    "    ops.S2gate(1.0) | (q[3], q[7])\n",
    "\n",
    "    # Interferometer on the signal modes (0-3)\n",
    "    ops.Interferometer(U) | (q[0], q[1], q[2], q[3])\n",
    "    ops.BSgate(0.543, 0.123) | (q[2], q[0])\n",
    "    ops.Rgate(0.453) | q[1]\n",
    "    ops.MZgate(0.65, -0.54) | (q[2], q[3])\n",
    "\n",
    "    # *Same* interferometer on the idler modes (4-7)\n",
    "    ops.Interferometer(U) | (q[4], q[5], q[6], q[7])\n",
    "    ops.BSgate(0.543, 0.123) | (q[6], q[4])\n",
    "    ops.Rgate(0.453) | q[5]\n",
    "    ops.MZgate(0.65, -0.54) | (q[6], q[7])\n",
    "\n",
    "    ops.MeasureFock() | q"
   ]
  },
  {
   "cell_type": "code",
   "execution_count": 6,
   "id": "e4526433-619b-44e0-8c51-29041ccaa66f",
   "metadata": {},
   "outputs": [],
   "source": [
    "eng = RemoteEngine(\"X8\")\n"
   ]
  },
  {
   "cell_type": "code",
   "execution_count": 7,
   "id": "8c7203b9-b63a-4551-9e63-f1c97a5f6c4b",
   "metadata": {},
   "outputs": [
    {
     "name": "stdout",
     "output_type": "stream",
     "text": [
      "[[1 0 0 0 1 1 0 1]\n",
      " [0 0 0 0 0 0 0 0]\n",
      " [2 0 0 0 0 1 1 0]\n",
      " [4 0 2 0 1 0 1 4]\n",
      " [0 0 0 0 1 0 0 0]\n",
      " [0 0 0 0 0 0 0 0]\n",
      " [0 1 0 0 0 1 0 0]\n",
      " [1 0 2 0 1 1 1 1]\n",
      " [0 0 0 0 0 2 0 0]\n",
      " [0 0 1 0 1 1 2 0]\n",
      " [0 1 0 0 0 0 0 1]\n",
      " [0 0 0 0 0 0 0 0]\n",
      " [0 1 0 0 0 0 0 1]\n",
      " [0 0 1 1 0 3 1 0]\n",
      " [0 0 1 0 0 2 1 1]\n",
      " [0 0 0 0 0 1 0 0]\n",
      " [0 0 0 0 0 1 0 0]\n",
      " [0 0 0 0 0 0 0 0]\n",
      " [2 0 1 0 1 1 1 2]\n",
      " [0 0 1 0 0 0 1 1]]\n",
      "[0.5  0.15 0.45 0.05 0.3  0.75 0.45 0.6 ]\n"
     ]
    }
   ],
   "source": [
    "results = eng.run(prog, shots=20)\n",
    "\n",
    "print(results.samples)\n",
    "\n",
    "print(np.mean(results.samples, axis=0))"
   ]
  },
  {
   "cell_type": "code",
   "execution_count": 8,
   "id": "a2c412ee-ecdb-434e-8b2b-eefc8fc329f2",
   "metadata": {},
   "outputs": [
    {
     "name": "stdout",
     "output_type": "stream",
     "text": [
      "4\n"
     ]
    }
   ],
   "source": [
    "from collections import Counter\n",
    "bitstrings = [tuple(i) for i in results.samples]\n",
    "counts = {k:v for k, v in Counter(bitstrings).items()}\n",
    "print(counts[(0, 0, 0, 0, 0, 0, 0, 0)])\n"
   ]
  },
  {
   "cell_type": "code",
   "execution_count": 9,
   "id": "2fb3420d-98d3-4210-81c7-5fad90b4e66e",
   "metadata": {},
   "outputs": [
    {
     "name": "stdout",
     "output_type": "stream",
     "text": [
      "ba55ac60-6cfd-43ed-a188-66d2667f3bf6\n",
      "open\n"
     ]
    }
   ],
   "source": [
    "job = eng.run_async(prog, shots=100)\n",
    "\n",
    "print(job.id)\n",
    "print(job.status)\n"
   ]
  },
  {
   "cell_type": "code",
   "execution_count": 15,
   "id": "cb680bde-30b2-47f6-9442-5f67345faa2a",
   "metadata": {},
   "outputs": [
    {
     "data": {
      "text/plain": [
       "'complete'"
      ]
     },
     "execution_count": 15,
     "metadata": {},
     "output_type": "execute_result"
    }
   ],
   "source": [
    "job.clear()\n",
    "job.status"
   ]
  },
  {
   "cell_type": "code",
   "execution_count": 16,
   "id": "e86d5d4e-cf1f-4316-a1e7-80a0a9f78f84",
   "metadata": {},
   "outputs": [
    {
     "name": "stdout",
     "output_type": "stream",
     "text": [
      "complete\n"
     ]
    }
   ],
   "source": [
    "\n",
    "job.wait()\n",
    "print(job.status)\n"
   ]
  },
  {
   "cell_type": "code",
   "execution_count": 17,
   "id": "05fa7b69-158e-42aa-8b94-b5becdd2d862",
   "metadata": {},
   "outputs": [
    {
     "name": "stdout",
     "output_type": "stream",
     "text": [
      "(100, 8)\n"
     ]
    }
   ],
   "source": [
    "result = sf.Result(job.result)\n",
    "print(result.samples.shape)\n"
   ]
  },
  {
   "cell_type": "code",
   "execution_count": 18,
   "id": "1b3d76fd-a3a2-406f-b798-fb8dd2711785",
   "metadata": {},
   "outputs": [
    {
     "name": "stdout",
     "output_type": "stream",
     "text": [
      "S2gate(0, 0) | (q[2], q[6])\n",
      "S2gate(1, 0) | (q[0], q[4])\n",
      "S2gate(1, 0) | (q[1], q[5])\n",
      "S2gate(1, 0) | (q[3], q[7])\n",
      "MZgate(0.919, 3.214) | (q[0], q[1])\n",
      "MZgate(0.9459, 5.946) | (q[2], q[3])\n",
      "MZgate(1.274, 5.906) | (q[1], q[2])\n",
      "MZgate(0.1612, 3.33) | (q[0], q[1])\n",
      "MZgate(1.987, 0.4934) | (q[2], q[3])\n",
      "MZgate(0.4917, 0.7384) | (q[1], q[2])\n",
      "Rgate(1.738) | (q[0])\n",
      "Rgate(3.34) | (q[1])\n",
      "Rgate(1.357) | (q[2])\n",
      "Rgate(5.606) | (q[3])\n",
      "MZgate(0.919, 3.214) | (q[4], q[5])\n",
      "MZgate(0.9459, 5.946) | (q[6], q[7])\n",
      "MZgate(1.274, 5.906) | (q[5], q[6])\n",
      "MZgate(0.1612, 3.33) | (q[4], q[5])\n",
      "MZgate(1.987, 0.4934) | (q[6], q[7])\n",
      "MZgate(0.4917, 0.7384) | (q[5], q[6])\n",
      "Rgate(1.738) | (q[4])\n",
      "Rgate(3.34) | (q[5])\n",
      "Rgate(1.357) | (q[6])\n",
      "Rgate(5.606) | (q[7])\n",
      "MeasureFock | (q[0], q[1], q[2], q[3], q[4], q[5], q[6], q[7])\n"
     ]
    }
   ],
   "source": [
    "prog_compiled = prog.compile(device=eng.device)\n",
    "prog_compiled.print()\n"
   ]
  },
  {
   "cell_type": "code",
   "execution_count": null,
   "id": "261a3245-c20a-4190-8646-9c96d0d1ac95",
   "metadata": {},
   "outputs": [],
   "source": []
  }
 ],
 "metadata": {
  "kernelspec": {
   "display_name": "PennyLane",
   "language": "python",
   "name": "pennylane"
  },
  "language_info": {
   "codemirror_mode": {
    "name": "ipython",
    "version": 3
   },
   "file_extension": ".py",
   "mimetype": "text/x-python",
   "name": "python",
   "nbconvert_exporter": "python",
   "pygments_lexer": "ipython3",
   "version": "3.9.13"
  }
 },
 "nbformat": 4,
 "nbformat_minor": 5
}
