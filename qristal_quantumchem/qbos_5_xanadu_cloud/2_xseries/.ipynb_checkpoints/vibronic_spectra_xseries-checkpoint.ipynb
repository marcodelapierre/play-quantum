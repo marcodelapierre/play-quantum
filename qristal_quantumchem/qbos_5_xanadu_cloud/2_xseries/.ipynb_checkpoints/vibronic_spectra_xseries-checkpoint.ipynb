{
 "cells": [
  {
   "cell_type": "code",
   "execution_count": 1,
   "id": "0d398a24-e020-4be5-a573-1bcbba82789b",
   "metadata": {},
   "outputs": [
    {
     "name": "stderr",
     "output_type": "stream",
     "text": [
      "2022-11-23 16:20:07.421477: I tensorflow/core/platform/cpu_feature_guard.cc:193] This TensorFlow binary is optimized with oneAPI Deep Neural Network Library (oneDNN) to use the following CPU instructions in performance-critical operations:  AVX2 AVX512F FMA\n",
      "To enable them in other operations, rebuild TensorFlow with the appropriate compiler flags.\n"
     ]
    }
   ],
   "source": [
    "from strawberryfields.utils import random_interferometer\n",
    "\n",
    "import strawberryfields as sf\n",
    "from strawberryfields import ops\n",
    "\n",
    "from strawberryfields import RemoteEngine\n",
    "\n",
    "from sympy.utilities.iterables import multiset_permutations\n",
    "from strawberryfields.apps.similarity import orbits\n",
    "import numpy as np\n",
    "\n",
    "from strawberryfields.apps.sample import postselect\n"
   ]
  },
  {
   "cell_type": "code",
   "execution_count": 2,
   "id": "ba58a57f-3618-4e88-aed9-4ed911790ad1",
   "metadata": {},
   "outputs": [],
   "source": [
    "U_vibronic = np.array([\n",
    "    [-0.5349105592386603, 0.8382670887228271, 0.10356058421030308, -0.021311662937477004],\n",
    "    [-0.6795134137271818, -0.4999083619063322, 0.5369830827402383, 0.001522863010877817],\n",
    "    [-0.4295084785810517, -0.17320833713971984, -0.7062800928050401, 0.5354341876268153],\n",
    "    [0.2601051345260338, 0.13190447151471643, 0.4495473331653913, 0.8443066531962792]\n",
    "])\n"
   ]
  },
  {
   "cell_type": "code",
   "execution_count": 3,
   "id": "8b3ba91f-4b2d-4a1e-ab1a-242e7704b7eb",
   "metadata": {},
   "outputs": [],
   "source": [
    "eng = sf.RemoteEngine(\"X8\")\n"
   ]
  },
  {
   "cell_type": "code",
   "execution_count": 5,
   "id": "3338aaf5-ab99-4b08-b5f5-9acc676971bd",
   "metadata": {},
   "outputs": [],
   "source": [
    "nr_modes = 8\n",
    "vibronic_prog = sf.Program(nr_modes)\n"
   ]
  },
  {
   "cell_type": "code",
   "execution_count": 6,
   "id": "7d8da721-95bc-43b0-a8dd-34ebdb6f9502",
   "metadata": {},
   "outputs": [],
   "source": [
    "with vibronic_prog.context as q:\n",
    "    ops.S2gate(1.0) | (q[0], q[4])\n",
    "\n",
    "    ops.Interferometer(U_vibronic) | (q[0], q[1], q[2], q[3])\n",
    "    ops.Interferometer(U_vibronic) | (q[4], q[5], q[6], q[7])\n",
    "\n",
    "    ops.MeasureFock() | q\n"
   ]
  },
  {
   "cell_type": "code",
   "execution_count": 7,
   "id": "c225a5dd-795c-4e49-b3e7-08eb87b21a7f",
   "metadata": {},
   "outputs": [],
   "source": [
    "vibronic_results = eng.run(vibronic_prog, shots=400000)\n",
    "vibronic_samples = vibronic_results.samples\n"
   ]
  },
  {
   "cell_type": "code",
   "execution_count": 10,
   "id": "c39320ca-4f64-4a0e-8473-a167ac982a2e",
   "metadata": {},
   "outputs": [
    {
     "name": "stdout",
     "output_type": "stream",
     "text": [
      "Requirement already satisfied: plotly in /home/jovyan/workspace/.conda/envs/pennylane/lib/python3.9/site-packages (5.11.0)\n",
      "Requirement already satisfied: tenacity>=6.2.0 in /home/jovyan/workspace/.conda/envs/pennylane/lib/python3.9/site-packages (from plotly) (8.1.0)\n"
     ]
    }
   ],
   "source": [
    "!pip install plotly"
   ]
  },
  {
   "cell_type": "code",
   "execution_count": 12,
   "id": "e2062611-5b15-4558-a68a-bd98d3140489",
   "metadata": {},
   "outputs": [
    {
     "name": "stdout",
     "output_type": "stream",
     "text": [
      "Requirement already satisfied: plotly in /home/jovyan/workspace/.conda/envs/pennylane/lib/python3.9/site-packages (5.11.0)\n",
      "Requirement already satisfied: tenacity>=6.2.0 in /home/jovyan/workspace/.conda/envs/pennylane/lib/python3.9/site-packages (from plotly) (8.1.0)\n"
     ]
    }
   ],
   "source": [
    "!pip install --user plotly"
   ]
  },
  {
   "cell_type": "code",
   "execution_count": 14,
   "id": "65d909f7-5f39-442a-a8cd-33ff407194c0",
   "metadata": {},
   "outputs": [],
   "source": [
    "from strawberryfields.apps import vibronic, plot\n"
   ]
  },
  {
   "cell_type": "code",
   "execution_count": 15,
   "id": "4dc76d86-5cd1-4551-8a26-486d0cc6cd38",
   "metadata": {},
   "outputs": [
    {
     "ename": "ModuleNotFoundError",
     "evalue": "No module named 'plotly'",
     "output_type": "error",
     "traceback": [
      "\u001b[0;31m---------------------------------------------------------------------------\u001b[0m",
      "\u001b[0;31mModuleNotFoundError\u001b[0m                       Traceback (most recent call last)",
      "\u001b[0;32m/tmp/ipykernel_254/3591164413.py\u001b[0m in \u001b[0;36m<cell line: 1>\u001b[0;34m()\u001b[0m\n\u001b[0;32m----> 1\u001b[0;31m \u001b[0;32mimport\u001b[0m \u001b[0mplotly\u001b[0m\u001b[0;34m\u001b[0m\u001b[0;34m\u001b[0m\u001b[0m\n\u001b[0m",
      "\u001b[0;31mModuleNotFoundError\u001b[0m: No module named 'plotly'"
     ]
    }
   ],
   "source": [
    "import plotly"
   ]
  },
  {
   "cell_type": "code",
   "execution_count": 16,
   "id": "71ad1487-f17e-4c50-8f31-c15cc1257e8e",
   "metadata": {},
   "outputs": [],
   "source": [
    "vibronic_samples = [list(s) for s in vibronic_samples]\n",
    "\n",
    "# frequencies of the initial and final normal modes\n",
    "w = [2979, 1580, 1286, 977]\n",
    "wp = [2828, 1398, 1227, 855]\n",
    "energies = vibronic.energies(vibronic_samples, w, wp)\n"
   ]
  },
  {
   "cell_type": "code",
   "execution_count": 17,
   "id": "ba43371f-0ef0-42ad-bcd4-92abe3ba14d3",
   "metadata": {},
   "outputs": [
    {
     "name": "stderr",
     "output_type": "stream",
     "text": [
      "IOPub data rate exceeded.\n",
      "The Jupyter server will temporarily stop sending output\n",
      "to the client in order to avoid crashing it.\n",
      "To change this limit, set the config variable\n",
      "`--ServerApp.iopub_data_rate_limit`.\n",
      "\n",
      "Current values:\n",
      "ServerApp.iopub_data_rate_limit=1000000.0 (bytes/sec)\n",
      "ServerApp.rate_limit_window=3.0 (secs)\n",
      "\n"
     ]
    }
   ],
   "source": [
    "print(vibronic_samples)\n"
   ]
  },
  {
   "cell_type": "code",
   "execution_count": 18,
   "id": "1b76b8c7-bed9-4821-ae70-0548716b8483",
   "metadata": {},
   "outputs": [
    {
     "ename": "ImportError",
     "evalue": "Plotly required for using this function. It can be installed using pip install plotly or visiting https://plot.ly/python/getting-started/#installation",
     "output_type": "error",
     "traceback": [
      "\u001b[0;31m---------------------------------------------------------------------------\u001b[0m",
      "\u001b[0;31mModuleNotFoundError\u001b[0m                       Traceback (most recent call last)",
      "\u001b[0;32m/opt/conda/envs/pennylane/lib/python3.9/site-packages/strawberryfields/apps/plot.py\u001b[0m in \u001b[0;36mspectrum\u001b[0;34m(energies, gamma, xmin, xmax)\u001b[0m\n\u001b[1;32m    377\u001b[0m     \u001b[0;32mtry\u001b[0m\u001b[0;34m:\u001b[0m\u001b[0;34m\u001b[0m\u001b[0;34m\u001b[0m\u001b[0m\n\u001b[0;32m--> 378\u001b[0;31m         \u001b[0;32mimport\u001b[0m \u001b[0mplotly\u001b[0m\u001b[0;34m.\u001b[0m\u001b[0mgraph_objects\u001b[0m \u001b[0;32mas\u001b[0m \u001b[0mgo\u001b[0m\u001b[0;34m\u001b[0m\u001b[0;34m\u001b[0m\u001b[0m\n\u001b[0m\u001b[1;32m    379\u001b[0m     \u001b[0;32mexcept\u001b[0m \u001b[0mImportError\u001b[0m\u001b[0;34m:\u001b[0m\u001b[0;34m\u001b[0m\u001b[0;34m\u001b[0m\u001b[0m\n",
      "\u001b[0;31mModuleNotFoundError\u001b[0m: No module named 'plotly'",
      "\nDuring handling of the above exception, another exception occurred:\n",
      "\u001b[0;31mImportError\u001b[0m                               Traceback (most recent call last)",
      "\u001b[0;32m/tmp/ipykernel_254/2659333416.py\u001b[0m in \u001b[0;36m<cell line: 1>\u001b[0;34m()\u001b[0m\n\u001b[0;32m----> 1\u001b[0;31m \u001b[0mplot\u001b[0m\u001b[0;34m.\u001b[0m\u001b[0mspectrum\u001b[0m\u001b[0;34m(\u001b[0m\u001b[0menergies\u001b[0m\u001b[0;34m,\u001b[0m \u001b[0mxmin\u001b[0m\u001b[0;34m=\u001b[0m\u001b[0;34m-\u001b[0m\u001b[0;36m6000\u001b[0m\u001b[0;34m,\u001b[0m \u001b[0mxmax\u001b[0m\u001b[0;34m=\u001b[0m\u001b[0;36m6000\u001b[0m\u001b[0;34m)\u001b[0m\u001b[0;34m\u001b[0m\u001b[0;34m\u001b[0m\u001b[0m\n\u001b[0m",
      "\u001b[0;32m/opt/conda/envs/pennylane/lib/python3.9/site-packages/strawberryfields/apps/plot.py\u001b[0m in \u001b[0;36mspectrum\u001b[0;34m(energies, gamma, xmin, xmax)\u001b[0m\n\u001b[1;32m    378\u001b[0m         \u001b[0;32mimport\u001b[0m \u001b[0mplotly\u001b[0m\u001b[0;34m.\u001b[0m\u001b[0mgraph_objects\u001b[0m \u001b[0;32mas\u001b[0m \u001b[0mgo\u001b[0m\u001b[0;34m\u001b[0m\u001b[0;34m\u001b[0m\u001b[0m\n\u001b[1;32m    379\u001b[0m     \u001b[0;32mexcept\u001b[0m \u001b[0mImportError\u001b[0m\u001b[0;34m:\u001b[0m\u001b[0;34m\u001b[0m\u001b[0;34m\u001b[0m\u001b[0m\n\u001b[0;32m--> 380\u001b[0;31m         \u001b[0;32mraise\u001b[0m \u001b[0mImportError\u001b[0m\u001b[0;34m(\u001b[0m\u001b[0mplotly_error\u001b[0m\u001b[0;34m)\u001b[0m\u001b[0;34m\u001b[0m\u001b[0;34m\u001b[0m\u001b[0m\n\u001b[0m\u001b[1;32m    381\u001b[0m \u001b[0;34m\u001b[0m\u001b[0m\n\u001b[1;32m    382\u001b[0m     \u001b[0memin\u001b[0m \u001b[0;34m=\u001b[0m \u001b[0mmin\u001b[0m\u001b[0;34m(\u001b[0m\u001b[0menergies\u001b[0m\u001b[0;34m)\u001b[0m\u001b[0;34m\u001b[0m\u001b[0;34m\u001b[0m\u001b[0m\n",
      "\u001b[0;31mImportError\u001b[0m: Plotly required for using this function. It can be installed using pip install plotly or visiting https://plot.ly/python/getting-started/#installation"
     ]
    }
   ],
   "source": [
    "plot.spectrum(energies, xmin=-6000, xmax=6000)\n"
   ]
  },
  {
   "cell_type": "code",
   "execution_count": null,
   "id": "5e241be5-c9ba-4acc-8d4a-76582fd68c7b",
   "metadata": {},
   "outputs": [],
   "source": []
  }
 ],
 "metadata": {
  "kernelspec": {
   "display_name": "PennyLane",
   "language": "python",
   "name": "pennylane"
  },
  "language_info": {
   "codemirror_mode": {
    "name": "ipython",
    "version": 3
   },
   "file_extension": ".py",
   "mimetype": "text/x-python",
   "name": "python",
   "nbconvert_exporter": "python",
   "pygments_lexer": "ipython3",
   "version": "3.9.13"
  }
 },
 "nbformat": 4,
 "nbformat_minor": 5
}
