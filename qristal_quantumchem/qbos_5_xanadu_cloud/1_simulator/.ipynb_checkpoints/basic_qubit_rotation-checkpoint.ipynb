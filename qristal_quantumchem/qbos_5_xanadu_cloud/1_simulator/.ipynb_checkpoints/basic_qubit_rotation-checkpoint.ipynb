{
 "cells": [
  {
   "cell_type": "markdown",
   "metadata": {},
   "source": [
    "Basic tutorial: qubit rotation\n",
    "==============================\n",
    "\n",
    "*Author: PennyLane dev team. Last updated: 19 Jan 2021.*\n",
    "\n",
    "To see how PennyLane allows the easy construction and optimization of\n",
    "quantum functions, let's consider the simple case of **qubit rotation**\n",
    "the PennyLane version of the 'Hello, world!' example.\n",
    "\n",
    "The task at hand is to optimize two rotation gates in order to flip a\n",
    "single qubit from state $\\left|0\\right\\rangle$ to state\n",
    "$\\left|1\\right\\rangle$.\n",
    "\n",
    "The quantum circuit\n",
    "-------------------\n",
    "\n",
    "In the qubit rotation example, we wish to implement the following\n",
    "quantum circuit:\n",
    "\n",
    "![](.img/qubit_rotation_circuit.png)\n",
    "\n",
    "Breaking this down step-by-step, we first start with a qubit in the\n",
    "ground state $|0\\rangle = \\begin{bmatrix}1 & 0 \\end{bmatrix}^T$, and\n",
    "rotate it around the x-axis by applying the gate\n",
    "\n",
    "$$R_x(\\phi_1) = e^{-i \\phi_1 \\sigma_x /2} =\n",
    " \\begin{bmatrix} \\cos \\frac{\\phi_1}{2} &  -i \\sin \\frac{\\phi_1}{2} \\\\\n",
    "                -i \\sin \\frac{\\phi_1}{2} &  \\cos \\frac{\\phi_1}{2}\n",
    " \\end{bmatrix},$$\n",
    "\n",
    "and then around the y-axis via the gate\n",
    "\n",
    "$$R_y(\\phi_2) = e^{-i \\phi_2 \\sigma_y/2} =\n",
    "\\begin{bmatrix} \\cos \\frac{\\phi_2}{2} &  - \\sin \\frac{\\phi_2}{2} \\\\\n",
    "                \\sin \\frac{\\phi_2}{2} &  \\cos \\frac{\\phi_2}{2}\n",
    "\\end{bmatrix}.$$\n",
    "\n",
    "After these operations the qubit is now in the state\n",
    "\n",
    "$$| \\psi \\rangle = R_y(\\phi_2) R_x(\\phi_1) | 0 \\rangle.$$\n",
    "\n",
    "Finally, we measure the expectation value\n",
    "$\\langle \\psi \\mid \\sigma_z \\mid \\psi \\rangle$ of the Pauli-Z operator\n",
    "\n",
    "$$\\sigma_z =\n",
    "\\begin{bmatrix} 1 &  0 \\\\\n",
    "                0 & -1\n",
    "\\end{bmatrix}.$$\n",
    "\n",
    "Using the above to calculate the exact expectation value, we find that\n",
    "\n",
    "$$\\langle \\psi \\mid \\sigma_z \\mid \\psi \\rangle\n",
    " = \\langle 0 \\mid R_x(\\phi_1)^\\dagger R_y(\\phi_2)^\\dagger \\sigma_z  R_y(\\phi_2) R_x(\\phi_1) \\mid 0 \\rangle\n",
    " = \\cos(\\phi_1)\\cos(\\phi_2).$$\n",
    "\n",
    "Depending on the circuit parameters $\\phi_1$ and $\\phi_2$, the output\n",
    "expectation lies between $1$ (if\n",
    "$\\left|\\psi\\right\\rangle = \\left|0\\right\\rangle$) and $-1$ (if\n",
    "$\\left|\\psi\\right\\rangle = \\left|1\\right\\rangle$).\n"
   ]
  },
  {
   "cell_type": "markdown",
   "metadata": {},
   "source": [
    "Let's see how we can easily implement and optimize this circuit using\n",
    "PennyLane.\n",
    "\n",
    "Importing PennyLane and NumPy\n",
    "=============================\n",
    "\n",
    "The first thing we need to do is import PennyLane, as well as the\n",
    "wrapped version of NumPy provided by PennyLane.\n"
   ]
  },
  {
   "cell_type": "code",
   "execution_count": 1,
   "metadata": {
    "collapsed": false,
    "jupyter": {
     "outputs_hidden": false
    }
   },
   "outputs": [],
   "source": [
    "import pennylane as qml\n",
    "from pennylane import numpy as np"
   ]
  },
  {
   "cell_type": "markdown",
   "metadata": {},
   "source": [
    "> **Important**\n",
    ">\n",
    "> When constructing a hybrid quantum/classical computational model with\n",
    "> PennyLane, it is important to **always import NumPy from PennyLane**,\n",
    "> not the standard NumPy!\n",
    ">\n",
    "> By importing the wrapped version of NumPy provided by PennyLane, you\n",
    "> can combine the power of NumPy with PennyLane:\n",
    ">\n",
    "> -   continue to use the classical NumPy functions and arrays you know\n",
    ">     and love\n",
    "> -   combine quantum functions (evaluated on\n",
    ">     quantum hardware/simulators) and classical functions (provided\n",
    ">     by NumPy)\n",
    "> -   allow PennyLane to automatically calculate gradients of both\n",
    ">     classical and quantum functions\n",
    "\n"
   ]
  },
  {
   "cell_type": "markdown",
   "metadata": {},
   "source": [
    "Creating a device\n",
    "=================\n",
    "\n",
    "Before we can construct our quantum node, we need to initialize a\n",
    "**device**.\n",
    "\n",
    "> **Definition**\n",
    ">\n",
    "> Any computational object that can apply quantum operations and return\n",
    "> a measurement value is called a quantum **device**.\n",
    ">\n",
    "> In PennyLane, a device could be a hardware device (such as the IBM\n",
    "> QX4, via the PennyLane-PQ plugin), or a software simulator (such as\n",
    "> Strawberry Fields, via the PennyLane-SF plugin).\n"
   ]
  },
  {
   "cell_type": "markdown",
   "metadata": {},
   "source": [
    "\n",
    "> **Tip**\n",
    ">\n",
    "> *Devices are loaded in PennyLane via the function* [device()](https://pennylane.readthedocs.io/en/stable/code/api/pennylane.device.html)\n",
    "\n",
    "PennyLane supports devices using both the qubit model of quantum\n",
    "computation and devices using the CV model of quantum computation. In\n",
    "fact, even a hybrid computation containing both qubit and CV quantum\n",
    "nodes is possible; see the\n",
    "[hybrid computation example](https://pennylane.ai/qml/demos/tutorial_plugins_hybrid.html#hybrid-computation-example) for more details.\n",
    "\n",
    "For this tutorial, we are using the qubit model, so let's initialize the\n",
    "`'default.qubit'` device provided by PennyLane; a simple pure-state\n",
    "qubit simulator."
   ]
  },
  {
   "cell_type": "code",
   "execution_count": 2,
   "metadata": {
    "collapsed": false,
    "jupyter": {
     "outputs_hidden": false
    }
   },
   "outputs": [],
   "source": [
    "dev1 = qml.device(\"default.qubit\", wires=1)"
   ]
  },
  {
   "cell_type": "markdown",
   "metadata": {},
   "source": [
    "For all devices, \\~.pennylane.device accepts the following arguments:\n",
    "\n",
    "-   `name`: the name of the device to be loaded\n",
    "-   `wires`: the number of subsystems to initialize the device with\n",
    "\n",
    "Here, as we only require a single qubit for this example, we set\n",
    "`wires=1`.\n"
   ]
  },
  {
   "cell_type": "markdown",
   "metadata": {},
   "source": [
    "Constructing the QNode\n",
    "======================\n",
    "\n",
    "Now that we have initialized our device, we can begin to construct a\n",
    "**quantum node** (or QNode).\n",
    "\n",
    "> **Definition**\n",
    ">\n",
    "> QNodes are an abstract encapsulation of a quantum function, described\n",
    "> by a quantum circuit. QNodes are bound to a particular quantum device,\n",
    "> which is used to evaluate expectation and variance values of this\n",
    "> circuit.\n",
    "\n",
    "> **tip**\n",
    ">\n",
    "> *QNodes can be constructed via the* [QNode](https://pennylane.readthedocs.io/en/stable/code/api/pennylane.QNode.html) *class, or by\n",
    "> using the provided* [qnode()](https://pennylane.readthedocs.io/en/stable/code/api/pennylane.qnode.html) *decorator.*\n",
    "\n",
    "First, we need to define the quantum function that will be evaluated in\n",
    "the QNode:\n"
   ]
  },
  {
   "cell_type": "code",
   "execution_count": 3,
   "metadata": {
    "collapsed": false,
    "jupyter": {
     "outputs_hidden": false
    }
   },
   "outputs": [],
   "source": [
    "def circuit(params):\n",
    "    qml.RX(params[0], wires=0)\n",
    "    qml.RY(params[1], wires=0)\n",
    "    return qml.expval(qml.PauliZ(0))"
   ]
  },
  {
   "cell_type": "markdown",
   "metadata": {},
   "source": [
    "This is a simple circuit, matching the one described above. Notice that\n",
    "the function `circuit()` is constructed as if it were any other Python\n",
    "function; it accepts a positional argument `params`, which may be a\n",
    "list, tuple, or array, and uses the individual elements for gate\n",
    "parameters.\n",
    "\n",
    "However, quantum functions are a **restricted subset** of Python\n",
    "functions. For a Python function to also be a valid quantum function,\n",
    "there are some important restrictions:\n",
    "\n",
    "-   **Quantum functions must contain quantum operations, one operation\n",
    "    per line, in the order in which they are to be applied.**\n",
    "\n",
    "    In addition, we must always specify the subsystem the operation\n",
    "    applies to, by passing the `wires` argument; this may be a list or\n",
    "    an integer, depending on how many wires the operation acts on.\n",
    "\n",
    "    For a full list of quantum operations,\n",
    "    see the [documentation](https://pennylane.readthedocs.io/en/stable/introduction/operations.html).\n",
    "\n",
    "-   **Quantum functions must return either a single or a tuple of\n",
    "    measured observables**.\n",
    "\n",
    "    As a result, the quantum function always returns a classical\n",
    "    quantity, allowing the QNode to interface with other classical\n",
    "    functions (and also other QNodes).\n",
    "\n",
    "    For a full list of observables, see\n",
    "    the [documentation](https://pennylane.readthedocs.io/en/stable/introduction/operations.html). The documentation\n",
    "    also provides details on\n",
    "    supported [measurement return types](https://pennylane.readthedocs.io/en/stable/introduction/measurements.html).\n",
    "\n",
    "> **Note**\n",
    ">\n",
    "> Certain devices may only support a subset of the available PennyLane\n",
    "> operations/observables, or may even provide additional\n",
    "> operations/observables. Please consult the documentation for the\n",
    "> plugin/device for more details.\n",
    "\n",
    "Once we have written the quantum function, we convert it into a\n",
    "[QNode](https://pennylane.readthedocs.io/en/stable/code/api/pennylane.QNode.html) running on device `dev1` by applying the\n",
    "[qnode()](https://pennylane.readthedocs.io/en/stable/code/api/pennylane.qnode.html) decorator **directly above** the function\n",
    "definition:\n"
   ]
  },
  {
   "cell_type": "code",
   "execution_count": 4,
   "metadata": {
    "collapsed": false,
    "jupyter": {
     "outputs_hidden": false
    }
   },
   "outputs": [],
   "source": [
    "@qml.qnode(dev1)\n",
    "def circuit(params):\n",
    "    qml.RX(params[0], wires=0)\n",
    "    qml.RY(params[1], wires=0)\n",
    "    return qml.expval(qml.PauliZ(0))"
   ]
  },
  {
   "cell_type": "markdown",
   "metadata": {},
   "source": [
    "Thus, our `circuit()` quantum function is now a [QNode](https://pennylane.readthedocs.io/en/stable/code/api/pennylane.QNode.html),\n",
    "which will run on device `dev1` every time it is evaluated.\n",
    "\n",
    "To evaluate, we simply call the function with some appropriate numerical\n",
    "inputs:\n"
   ]
  },
  {
   "cell_type": "code",
   "execution_count": 5,
   "metadata": {
    "collapsed": false,
    "jupyter": {
     "outputs_hidden": false
    }
   },
   "outputs": [
    {
     "name": "stdout",
     "output_type": "stream",
     "text": [
      "0.8515405859048369\n"
     ]
    }
   ],
   "source": [
    "print(circuit([0.54, 0.12]))"
   ]
  },
  {
   "cell_type": "markdown",
   "metadata": {},
   "source": [
    "Calculating quantum gradients\n",
    "=============================\n",
    "\n",
    "The gradient of the function `circuit`, encapsulated within the `QNode`,\n",
    "can be evaluated by utilizing the same quantum device (`dev1`) that we\n",
    "used to evaluate the function itself.\n",
    "\n",
    "PennyLane incorporates both analytic differentiation, as well as\n",
    "numerical methods (such as the method of finite differences). Both of\n",
    "these are done automatically.\n",
    "\n",
    "We can differentiate by using the built-in `grad()` function.\n",
    "This returns another function, representing the gradient (i.e., the\n",
    "vector of partial derivatives) of `circuit`. The gradient can be\n",
    "evaluated in the same way as the original function:\n"
   ]
  },
  {
   "cell_type": "code",
   "execution_count": 6,
   "metadata": {
    "collapsed": false,
    "jupyter": {
     "outputs_hidden": false
    }
   },
   "outputs": [],
   "source": [
    "dcircuit = qml.grad(circuit, argnum=0)"
   ]
  },
  {
   "cell_type": "markdown",
   "metadata": {},
   "source": [
    "The function `grad()` itself **returns a function**,\n",
    "representing the derivative of the QNode with respect to the argument\n",
    "specified in `argnum`. In this case, the function `circuit` takes one\n",
    "argument (`params`), so we specify `argnum=0`. Because the argument has\n",
    "two elements, the returned gradient is two-dimensional. We can then\n",
    "evaluate this gradient function at any point in the parameter space.\n"
   ]
  },
  {
   "cell_type": "code",
   "execution_count": 7,
   "metadata": {
    "collapsed": false,
    "jupyter": {
     "outputs_hidden": false
    }
   },
   "outputs": [
    {
     "name": "stdout",
     "output_type": "stream",
     "text": [
      "[array(-0.51043865), array(-0.1026782)]\n"
     ]
    }
   ],
   "source": [
    "print(dcircuit([0.54, 0.12]))"
   ]
  },
  {
   "cell_type": "markdown",
   "metadata": {},
   "source": [
    "**A note on arguments**\n",
    "\n",
    "Quantum circuit functions, being a restricted subset of Python\n",
    "functions, can also make use of multiple positional arguments and\n",
    "keyword arguments. For example, we could have defined the above quantum\n",
    "circuit function using two positional arguments, instead of one array\n",
    "argument:\n"
   ]
  },
  {
   "cell_type": "code",
   "execution_count": 8,
   "metadata": {
    "collapsed": false,
    "jupyter": {
     "outputs_hidden": false
    }
   },
   "outputs": [],
   "source": [
    "@qml.qnode(dev1)\n",
    "def circuit2(phi1, phi2):\n",
    "    qml.RX(phi1, wires=0)\n",
    "    qml.RY(phi2, wires=0)\n",
    "    return qml.expval(qml.PauliZ(0))"
   ]
  },
  {
   "cell_type": "markdown",
   "metadata": {},
   "source": [
    "When we calculate the gradient for such a function, the usage of\n",
    "`argnum` will be slightly different. In this case, `argnum=0` will\n",
    "return the gradient with respect to only the first parameter (`phi1`),\n",
    "and `argnum=1` will give the gradient for `phi2`. To get the gradient\n",
    "with respect to both parameters, we can use `argnum=[0,1]`:\n"
   ]
  },
  {
   "cell_type": "code",
   "execution_count": 9,
   "metadata": {
    "collapsed": false,
    "jupyter": {
     "outputs_hidden": false
    }
   },
   "outputs": [
    {
     "name": "stdout",
     "output_type": "stream",
     "text": [
      "(array(-0.51043865), array(-0.1026782))\n"
     ]
    }
   ],
   "source": [
    "dcircuit = qml.grad(circuit2, argnum=[0, 1])\n",
    "print(dcircuit(0.54, 0.12))"
   ]
  },
  {
   "cell_type": "markdown",
   "metadata": {},
   "source": [
    "Keyword arguments may also be used in your custom quantum function.\n",
    "PennyLane does **not** differentiate QNodes with respect to keyword\n",
    "arguments, so they are useful for passing external data to your QNode.\n"
   ]
  },
  {
   "cell_type": "markdown",
   "metadata": {},
   "source": [
    "Optimization\n",
    "============\n",
    "\n",
    "> **Definition**\n",
    ">\n",
    "> If using the default NumPy/Autograd interface, PennyLane provides a\n",
    "> collection of optimizers based on gradient descent. These optimizers\n",
    "> accept a cost function and initial parameters, and utilize PennyLane's\n",
    "> automatic differentiation to perform gradient descent.\n",
    "\n",
    "> **tip**\n",
    ">\n",
    "> *See* [optimizers](https://pennylane.readthedocs.io/en/stable/introduction/optimizers.html) *for details and documentation of\n",
    "> available optimizers*\n",
    "\n",
    "Next, let's make use of PennyLane's built-in optimizers to optimize the\n",
    "two circuit parameters $\\phi_1$ and $\\phi_2$ such that the qubit,\n",
    "originally in state $\\left|0\\right\\rangle$, is rotated to be in state\n",
    "$\\left|1\\right\\rangle$. This is equivalent to measuring a Pauli-Z\n",
    "expectation value of $-1$, since the state $\\left|1\\right\\rangle$ is an\n",
    "eigenvector of the Pauli-Z matrix with eigenvalue $\\lambda=-1$.\n",
    "\n",
    "In other words, the optimization procedure will find the weights\n",
    "$\\phi_1$ and $\\phi_2$ that result in the following rotation on the Bloch\n",
    "sphere:\n",
    "\n",
    "![](.img/qubit_rotation_bloch.png)\n",
    "\n",
    "To do so, we need to define a **cost** function. By *minimizing* the\n",
    "cost function, the optimizer will determine the values of the circuit\n",
    "parameters that produce the desired outcome.\n",
    "\n",
    "In this case, our desired outcome is a Pauli-Z expectation value of\n",
    "$-1$. Since we know that the Pauli-Z expectation is bound between\n",
    "$[-1, 1]$, we can define our cost directly as the output of the QNode:\n"
   ]
  },
  {
   "cell_type": "code",
   "execution_count": 10,
   "metadata": {
    "collapsed": false,
    "jupyter": {
     "outputs_hidden": false
    }
   },
   "outputs": [],
   "source": [
    "def cost(x):\n",
    "    return circuit(x)"
   ]
  },
  {
   "cell_type": "markdown",
   "metadata": {},
   "source": [
    "To begin our optimization, let's choose small initial values of $\\phi_1$\n",
    "and $\\phi_2$:\n"
   ]
  },
  {
   "cell_type": "code",
   "execution_count": 11,
   "metadata": {
    "collapsed": false,
    "jupyter": {
     "outputs_hidden": false
    }
   },
   "outputs": [
    {
     "name": "stdout",
     "output_type": "stream",
     "text": [
      "0.9998675058299391\n"
     ]
    }
   ],
   "source": [
    "init_params = np.array([0.011, 0.012])\n",
    "print(cost(init_params))"
   ]
  },
  {
   "cell_type": "markdown",
   "metadata": {},
   "source": [
    "We can see that, for these initial parameter values, the cost function\n",
    "is close to $1$.\n",
    "\n",
    "Finally, we use an optimizer to update the circuit parameters for 100\n",
    "steps. We can use the built-in [GradientDescentOptimizer](https://pennylane.readthedocs.io/en/stable/code/api/pennylane.GradientDescentOptimizer.html)\n",
    "class:\n"
   ]
  },
  {
   "cell_type": "code",
   "execution_count": 12,
   "metadata": {
    "collapsed": false,
    "jupyter": {
     "outputs_hidden": false
    }
   },
   "outputs": [
    {
     "name": "stdout",
     "output_type": "stream",
     "text": [
      "Cost after step     5:  0.9961778\n",
      "Cost after step    10:  0.8974944\n",
      "Cost after step    15:  0.1440490\n",
      "Cost after step    20: -0.1536720\n",
      "Cost after step    25: -0.9152496\n",
      "Cost after step    30: -0.9994046\n",
      "Cost after step    35: -0.9999964\n",
      "Cost after step    40: -1.0000000\n",
      "Cost after step    45: -1.0000000\n",
      "Cost after step    50: -1.0000000\n",
      "Cost after step    55: -1.0000000\n",
      "Cost after step    60: -1.0000000\n",
      "Cost after step    65: -1.0000000\n",
      "Cost after step    70: -1.0000000\n",
      "Cost after step    75: -1.0000000\n",
      "Cost after step    80: -1.0000000\n",
      "Cost after step    85: -1.0000000\n",
      "Cost after step    90: -1.0000000\n",
      "Cost after step    95: -1.0000000\n",
      "Cost after step   100: -1.0000000\n",
      "Optimized rotation angles: [7.15266381e-18 3.14159265e+00]\n"
     ]
    }
   ],
   "source": [
    "# initialise the optimizer\n",
    "opt = qml.GradientDescentOptimizer(stepsize=0.4)\n",
    "\n",
    "# set the number of steps\n",
    "steps = 100\n",
    "# set the initial parameter values\n",
    "params = init_params\n",
    "\n",
    "for i in range(steps):\n",
    "    # update the circuit parameters\n",
    "    params = opt.step(cost, params)\n",
    "\n",
    "    if (i + 1) % 5 == 0:\n",
    "        print(\"Cost after step {:5d}: {: .7f}\".format(i + 1, cost(params)))\n",
    "\n",
    "print(\"Optimized rotation angles: {}\".format(params))"
   ]
  },
  {
   "cell_type": "markdown",
   "metadata": {},
   "source": [
    "We can see that the optimization converges after approximately 40 steps.\n",
    "\n",
    "Substituting this into the theoretical result\n",
    "$\\langle \\psi \\mid \\sigma_z \\mid \\psi \\rangle = \\cos\\phi_1\\cos\\phi_2$,\n",
    "we can verify that this is indeed one possible value of the circuit\n",
    "parameters that produces\n",
    "$\\langle \\psi \\mid \\sigma_z \\mid \\psi \\rangle=-1$, resulting in the\n",
    "qubit being rotated to the state $\\left|1\\right\\rangle$.\n",
    "\n",
    "> **Note**\n",
    ">\n",
    "> Some optimizers, such as [AdagradOptimizer](https://pennylane.readthedocs.io/en/stable/code/api/pennylane.AdagradOptimizer.html), have internal\n",
    "> hyperparameters that are stored in the optimizer instance. These can\n",
    "> be `reset()` using the reset method.\n",
    "\n",
    "Continue on to the next tutorial, [Gaussian transformation](https://pennylane.ai/qml/demos/tutorial_gaussian_transformation.html#gaussian-transformation), to see a\n",
    "similar example using continuous-variable (CV) quantum nodes.\n"
   ]
  },
  {
   "cell_type": "code",
   "execution_count": null,
   "metadata": {},
   "outputs": [],
   "source": []
  }
 ],
 "metadata": {
  "kernelspec": {
   "display_name": "PennyLane",
   "language": "python",
   "name": "pennylane"
  },
  "language_info": {
   "codemirror_mode": {
    "name": "ipython",
    "version": 3
   },
   "file_extension": ".py",
   "mimetype": "text/x-python",
   "name": "python",
   "nbconvert_exporter": "python",
   "pygments_lexer": "ipython3",
   "version": "3.9.13"
  }
 },
 "nbformat": 4,
 "nbformat_minor": 4
}
