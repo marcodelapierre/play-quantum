{
 "cells": [
  {
   "cell_type": "markdown",
   "id": "e210f447-83d3-490f-9032-4d5567f269f3",
   "metadata": {},
   "source": [
    "# Simulating a simple photonic circuit"
   ]
  },
  {
   "cell_type": "markdown",
   "id": "961b7812-ff82-4d88-8769-5df4e7e01da3",
   "metadata": {},
   "source": [
    "## Creating the program"
   ]
  },
  {
   "cell_type": "markdown",
   "id": "9ad5f36a-9291-4ecd-8857-8e57a1d97a05",
   "metadata": {},
   "source": [
    "Import Strawberry Fields and all necessary subpackages. In this case we need the `ops` module, which contains all operations that can be applied within the context."
   ]
  },
  {
   "cell_type": "code",
   "execution_count": 1,
   "id": "9216b68e-4746-4a7b-90cf-19106312451f",
   "metadata": {},
   "outputs": [
    {
     "name": "stderr",
     "output_type": "stream",
     "text": [
      "2022-11-23 08:20:21.737800: I tensorflow/core/platform/cpu_feature_guard.cc:193] This TensorFlow binary is optimized with oneAPI Deep Neural Network Library (oneDNN) to use the following CPU instructions in performance-critical operations:  AVX2 AVX512F FMA\n",
      "To enable them in other operations, rebuild TensorFlow with the appropriate compiler flags.\n"
     ]
    }
   ],
   "source": [
    "import strawberryfields as sf\n",
    "from strawberryfields import ops"
   ]
  },
  {
   "cell_type": "markdown",
   "id": "a6cc9aaa-58c4-4add-9560-036f48becbb8",
   "metadata": {},
   "source": [
    "Create the program and declare the number of modes. Here, we will use 2 modes in total."
   ]
  },
  {
   "cell_type": "code",
   "execution_count": 2,
   "id": "98456ac1-7de6-48f9-8772-5b6a80bd86f4",
   "metadata": {},
   "outputs": [],
   "source": [
    "prog = sf.Program(2)"
   ]
  },
  {
   "cell_type": "markdown",
   "id": "54a9ee5b-c5a8-48a8-8870-060ca4f74042",
   "metadata": {},
   "source": [
    "Apply the quantum operations within the program context. Begin with preparing a Fock states for each mode, apply a beamplitter gate on both modes, and finally, perform a Fock measurement on all modes."
   ]
  },
  {
   "cell_type": "code",
   "execution_count": 3,
   "id": "bc5a2360-0fc1-40f9-a00d-1bdfd37ddd44",
   "metadata": {},
   "outputs": [],
   "source": [
    "with prog.context as q:\n",
    "    ops.Fock(5) | q[0]\n",
    "    ops.Fock(1) | q[1]\n",
    "    ops.BSgate() | q\n",
    "    ops.MeasureFock() | q"
   ]
  },
  {
   "cell_type": "markdown",
   "id": "373053aa-9099-4268-9009-f15650de9b56",
   "metadata": {},
   "source": [
    "We can print the circuit with all it's operations."
   ]
  },
  {
   "cell_type": "code",
   "execution_count": 4,
   "id": "af998db8-3057-42c5-bf7b-34dbdcfa114e",
   "metadata": {},
   "outputs": [
    {
     "name": "stdout",
     "output_type": "stream",
     "text": [
      "Fock(5) | (q[0])\n",
      "Fock(1) | (q[1])\n",
      "BSgate(0.7854, 0) | (q[0], q[1])\n",
      "MeasureFock | (q[0], q[1])\n"
     ]
    }
   ],
   "source": [
    "for cmd in prog.circuit:\n",
    "    print(cmd)"
   ]
  },
  {
   "cell_type": "markdown",
   "id": "c3e8c423-26e9-4eee-8622-5b1c2833ecb2",
   "metadata": {},
   "source": [
    "## Running the program on the Fock backend"
   ]
  },
  {
   "cell_type": "markdown",
   "id": "9b6f8b01-1563-4810-9ab7-914d10a78f73",
   "metadata": {},
   "source": [
    "Choose a backend and create the engine. Then execute the program and extract the results.\n"
   ]
  },
  {
   "cell_type": "code",
   "execution_count": 5,
   "id": "0d861b8f-f05e-404b-afac-368f617fcffc",
   "metadata": {},
   "outputs": [],
   "source": [
    "eng = sf.Engine(\"fock\", backend_options={\"cutoff_dim\": 8})\n",
    "result = eng.run(prog)"
   ]
  },
  {
   "cell_type": "markdown",
   "id": "a25365aa-330e-4b94-a277-4a2057524437",
   "metadata": {},
   "source": [
    "Get the state as well as the samples from the circuit.\n",
    "\n",
    "Note that the number of photons should be preserved. E.g., if we prepare two fock states with `n` and `m` photons respectively, the samples will contain `n + m` photons in total."
   ]
  },
  {
   "cell_type": "code",
   "execution_count": 6,
   "id": "febc32da-b52f-4acb-a9e6-17d496fe644c",
   "metadata": {},
   "outputs": [
    {
     "name": "stdout",
     "output_type": "stream",
     "text": [
      "<FockState: num_modes=2, cutoff=8, pure=False, hbar=2>\n"
     ]
    }
   ],
   "source": [
    "state = result.state\n",
    "print(state)"
   ]
  },
  {
   "cell_type": "code",
   "execution_count": 7,
   "id": "4f5c7394-6bb9-45cb-aa8c-461274e22726",
   "metadata": {},
   "outputs": [
    {
     "name": "stdout",
     "output_type": "stream",
     "text": [
      "[[0 6]]\n"
     ]
    }
   ],
   "source": [
    "samples = result.samples\n",
    "print(samples)"
   ]
  },
  {
   "cell_type": "markdown",
   "id": "a1b31fb0-ba65-4879-a551-9ef7c1fe45f5",
   "metadata": {},
   "source": [
    "Try running the circuit above again, but change the number of initialized photons, or change the parameters in the beamsplitter gate. You can read more about that gates and what the parameters do [in the Strawberry Fields documentation](https://strawberryfields.readthedocs.io/en/stable/code/api/strawberryfields.ops.BSgate.html)."
   ]
  }
 ],
 "metadata": {
  "kernelspec": {
   "display_name": "PennyLane",
   "language": "python",
   "name": "pennylane"
  },
  "language_info": {
   "codemirror_mode": {
    "name": "ipython",
    "version": 3
   },
   "file_extension": ".py",
   "mimetype": "text/x-python",
   "name": "python",
   "nbconvert_exporter": "python",
   "pygments_lexer": "ipython3",
   "version": "3.9.13"
  }
 },
 "nbformat": 4,
 "nbformat_minor": 5
}
