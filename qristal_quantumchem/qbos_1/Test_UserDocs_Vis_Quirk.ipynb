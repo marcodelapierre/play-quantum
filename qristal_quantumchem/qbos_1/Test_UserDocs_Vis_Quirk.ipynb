{
 "cells": [
  {
   "cell_type": "code",
   "execution_count": 1,
   "id": "eccee019",
   "metadata": {},
   "outputs": [],
   "source": [
    "import qbos"
   ]
  },
  {
   "cell_type": "code",
   "execution_count": 2,
   "id": "2b6bf578",
   "metadata": {},
   "outputs": [
    {
     "name": "stderr",
     "output_type": "stream",
     "text": [
      "Matplotlib is building the font cache; this may take a moment.\n"
     ]
    }
   ],
   "source": [
    "import qbos_vis"
   ]
  },
  {
   "cell_type": "code",
   "execution_count": 3,
   "id": "acb8a5ca",
   "metadata": {},
   "outputs": [
    {
     "data": {
      "application/vnd.jupyter.widget-view+json": {
       "model_id": "98b124df2fda4c04a3bb1e18ae368bc9",
       "version_major": 2,
       "version_minor": 0
      },
      "text/plain": [
       "Quirk(height=280)"
      ]
     },
     "metadata": {},
     "output_type": "display_data"
    }
   ],
   "source": [
    "qbos_vis.quirk"
   ]
  },
  {
   "cell_type": "code",
   "execution_count": null,
   "id": "5b6b1499",
   "metadata": {},
   "outputs": [],
   "source": []
  }
 ],
 "metadata": {
  "kernelspec": {
   "display_name": "Python 3 (ipykernel)",
   "language": "python",
   "name": "python3"
  },
  "language_info": {
   "codemirror_mode": {
    "name": "ipython",
    "version": 3
   },
   "file_extension": ".py",
   "mimetype": "text/x-python",
   "name": "python",
   "nbconvert_exporter": "python",
   "pygments_lexer": "ipython3",
   "version": "3.8.10"
  }
 },
 "nbformat": 4,
 "nbformat_minor": 5
}
