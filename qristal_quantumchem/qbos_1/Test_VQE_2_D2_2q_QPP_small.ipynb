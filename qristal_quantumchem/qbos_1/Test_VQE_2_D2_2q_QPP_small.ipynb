{
 "cells": [
  {
   "cell_type": "markdown",
   "metadata": {},
   "source": [
    "<img src=\"../Quantum_Brilliance_dark_blue_Logo_RGB.png\" alt=\"Copyright (c) 2021 Quantum Brilliance Pty Ltd\" width=\"240\">\n",
    "\n",
    "# qbOS Built 0.0721.002\n",
    "> *Quantum Brilliance Operating System supporting a complete set of quantum computational tasks*"
   ]
  },
  {
   "cell_type": "markdown",
   "metadata": {},
   "source": [
    "## Example of the Variational Quantum Eigensolver (VQE) in qbOS"
   ]
  },
  {
   "cell_type": "code",
   "execution_count": 23,
   "metadata": {},
   "outputs": [],
   "source": [
    "import qbos_op"
   ]
  },
  {
   "cell_type": "markdown",
   "metadata": {},
   "source": [
    "### Function for minimiser to call"
   ]
  },
  {
   "cell_type": "code",
   "execution_count": 24,
   "metadata": {},
   "outputs": [],
   "source": [
    "def qbvqe(theta,m_qv):\n",
    "    for el in range(len(theta)):\n",
    "        m_qv.theta[0][0][el] = theta[el]\n",
    "    m_qv.run()\n",
    "    return m_qv.out_energy[0][0][0]"
   ]
  },
  {
   "cell_type": "markdown",
   "metadata": {},
   "source": [
    "### VQE for deuteron, using built-in optimiser (Nelder-Mead)"
   ]
  },
  {
   "cell_type": "code",
   "execution_count": 25,
   "metadata": {},
   "outputs": [
    {
     "name": "stdout",
     "output_type": "stream",
     "text": [
      "[2022-09-19 08:52:20.838] [xacc-logger] [info] \u001b[1;34mSet 'timeReversalSymmetry' to 1\u001b[0m\n",
      "[2022-09-19 08:52:20.838] [xacc-logger] [info] \u001b[1;33m'szSymmetry' was not provided. Assume no symmetry.\u001b[0m\n",
      "[2022-09-19 08:52:20.843] [xacc-logger] [info] \u001b[1;34mEnable VQE Mode.\u001b[0m\n",
      "[2022-09-19 08:52:20.843] [xacc-logger] [info] \u001b[1;33mChosen optimizer does not support gradients. Using default.\u001b[0m\n",
      "[2022-09-19 08:52:20.843] [xacc-logger] [info] \u001b[1;34m[NLOpt] max function evaluations set to 400\u001b[0m\n",
      "[2022-09-19 08:52:20.846] [xacc-logger] [info] \u001b[1;34mE(0.110000) = 0.652062570935\u001b[0m\n",
      "[2022-09-19 08:52:20.848] [xacc-logger] [info] \u001b[1;34mE(1.680796) = 11.1619377274\u001b[0m\n",
      "[2022-09-19 08:52:20.850] [xacc-logger] [info] \u001b[1;34mE(-1.460796) = 11.1619371307\u001b[0m\n",
      "[2022-09-19 08:52:20.853] [xacc-logger] [info] \u001b[1;34mE(-0.675398) = 0.3394240671\u001b[0m\n",
      "[2022-09-19 08:52:20.855] [xacc-logger] [info] \u001b[1;34mE(-1.460796) = 11.1619371307\u001b[0m\n",
      "[2022-09-19 08:52:20.857] [xacc-logger] [info] \u001b[1;34mE(-0.282699) = -1.7456724852\u001b[0m\n",
      "[2022-09-19 08:52:20.860] [xacc-logger] [info] \u001b[1;34mE(0.110000) = 0.652062570935\u001b[0m\n",
      "[2022-09-19 08:52:20.862] [xacc-logger] [info] \u001b[1;34mE(-0.479049) = -1.24774686699\u001b[0m\n",
      "[2022-09-19 08:52:20.865] [xacc-logger] [info] \u001b[1;34mE(-0.086350) = -1.07854812843\u001b[0m\n",
      "[2022-09-19 08:52:20.867] [xacc-logger] [info] \u001b[1;34mE(-0.380874) = -1.64175691866\u001b[0m\n",
      "[2022-09-19 08:52:20.870] [xacc-logger] [info] \u001b[1;34mE(-0.184524) = -1.55550014981\u001b[0m\n",
      "[2022-09-19 08:52:20.872] [xacc-logger] [info] \u001b[1;34mE(-0.331786) = -1.73049130887\u001b[0m\n",
      "[2022-09-19 08:52:20.875] [xacc-logger] [info] \u001b[1;34mE(-0.233612) = -1.68715424464\u001b[0m\n",
      "[2022-09-19 08:52:20.877] [xacc-logger] [info] \u001b[1;34mE(-0.307243) = -1.7473018385\u001b[0m\n",
      "[2022-09-19 08:52:20.879] [xacc-logger] [info] \u001b[1;34mE(-0.331786) = -1.73049130887\u001b[0m\n",
      "[2022-09-19 08:52:20.882] [xacc-logger] [info] \u001b[1;34mE(-0.294971) = -1.74879294347\u001b[0m\n",
      "[2022-09-19 08:52:20.884] [xacc-logger] [info] \u001b[1;34mE(-0.282699) = -1.7456724852\u001b[0m\n",
      "[2022-09-19 08:52:20.886] [xacc-logger] [info] \u001b[1;34mE(-0.301107) = -1.74862384536\u001b[0m\n",
      "[2022-09-19 08:52:20.889] [xacc-logger] [info] \u001b[1;34mE(-0.288835) = -1.74780910736\u001b[0m\n",
      "[2022-09-19 08:52:20.891] [xacc-logger] [info] \u001b[1;34mE(-0.298039) = -1.74885251367\u001b[0m\n",
      "[2022-09-19 08:52:20.894] [xacc-logger] [info] \u001b[1;34mE(-0.301107) = -1.74862384536\u001b[0m\n",
      "[2022-09-19 08:52:20.896] [xacc-logger] [info] \u001b[1;34mE(-0.296505) = -1.7488587585\u001b[0m\n",
      "[2022-09-19 08:52:20.898] [xacc-logger] [info] \u001b[1;34mE(-0.294971) = -1.74879294347\u001b[0m\n",
      "[2022-09-19 08:52:20.901] [xacc-logger] [info] \u001b[1;34mE(-0.297272) = -1.74886464358\u001b[0m\n",
      "[2022-09-19 08:52:20.903] [xacc-logger] [info] \u001b[1;34mE(-0.298039) = -1.74885251367\u001b[0m\n",
      "[2022-09-19 08:52:20.906] [xacc-logger] [info] \u001b[1;34mE(-0.296888) = -1.74886395292\u001b[0m\n",
      "Min. energy: -1.7488646435818769\n"
     ]
    }
   ],
   "source": [
    "qv=qbos_op.vqe()\n",
    "qv.sn = 0\n",
    "qv.acc   = 'qpp'\n",
    "\n",
    "# Deuteron Hamiltonian with aswap ansatz\n",
    "qv.qn = 2  # Number of qubits\n",
    "qv.ham = \"5.907 - 2.1433 X0X1 - 2.1433 Y0Y1 + .21829 Z0 - 6.125 Z1\"\n",
    "qv.ansatz = \"aswap\"\n",
    "qv.maxeval = 400\n",
    "qv.theta = qbos_op.ND()\n",
    "\n",
    "optimum_energy = qbvqe([0.11],qv)  # Initial parameter theta values = [0.11]\n",
    "print('Min. energy: ' + str(optimum_energy))\n"
   ]
  },
  {
   "cell_type": "code",
   "execution_count": 26,
   "metadata": {},
   "outputs": [
    {
     "data": {
      "text/plain": [
       "[[\"qpp\"]]"
      ]
     },
     "execution_count": 26,
     "metadata": {},
     "output_type": "execute_result"
    }
   ],
   "source": [
    "qv.acc"
   ]
  },
  {
   "cell_type": "code",
   "execution_count": 27,
   "metadata": {},
   "outputs": [
    {
     "data": {
      "text/plain": [
       "-1.7488646435818769"
      ]
     },
     "execution_count": 27,
     "metadata": {},
     "output_type": "execute_result"
    }
   ],
   "source": [
    "optimum_energy"
   ]
  },
  {
   "cell_type": "code",
   "execution_count": 28,
   "metadata": {},
   "outputs": [
    {
     "data": {
      "text/plain": [
       "-1.7488646435818769"
      ]
     },
     "execution_count": 28,
     "metadata": {},
     "output_type": "execute_result"
    }
   ],
   "source": [
    "qv.out_energy[0][0][0]"
   ]
  },
  {
   "cell_type": "code",
   "execution_count": null,
   "metadata": {},
   "outputs": [],
   "source": []
  },
  {
   "cell_type": "code",
   "execution_count": null,
   "metadata": {},
   "outputs": [],
   "source": []
  }
 ],
 "metadata": {
  "kernelspec": {
   "display_name": "Python 3 (ipykernel)",
   "language": "python",
   "name": "python3"
  },
  "language_info": {
   "codemirror_mode": {
    "name": "ipython",
    "version": 3
   },
   "file_extension": ".py",
   "mimetype": "text/x-python",
   "name": "python",
   "nbconvert_exporter": "python",
   "pygments_lexer": "ipython3",
   "version": "3.8.10"
  }
 },
 "nbformat": 4,
 "nbformat_minor": 4
}
