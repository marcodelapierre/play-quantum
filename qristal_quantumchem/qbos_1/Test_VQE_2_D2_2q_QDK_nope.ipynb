{
 "cells": [
  {
   "cell_type": "markdown",
   "metadata": {},
   "source": [
    "<img src=\"../Quantum_Brilliance_dark_blue_Logo_RGB.png\" alt=\"Copyright (c) 2021 Quantum Brilliance Pty Ltd\" width=\"240\">\n",
    "\n",
    "# qbOS Built 0.0721.002\n",
    "> *Quantum Brilliance Operating System supporting a complete set of quantum computational tasks*"
   ]
  },
  {
   "cell_type": "markdown",
   "metadata": {},
   "source": [
    "## Example of the Variational Quantum Eigensolver (VQE) in qbOS"
   ]
  },
  {
   "cell_type": "code",
   "execution_count": 1,
   "metadata": {},
   "outputs": [],
   "source": [
    "import qbos_op"
   ]
  },
  {
   "cell_type": "markdown",
   "metadata": {},
   "source": [
    "### Function for minimiser to call"
   ]
  },
  {
   "cell_type": "code",
   "execution_count": 2,
   "metadata": {},
   "outputs": [],
   "source": [
    "def qbvqe(theta,m_qv):\n",
    "    for el in range(len(theta)):\n",
    "        m_qv.theta[0][0][el] = theta[el]\n",
    "    m_qv.run()\n",
    "    return m_qv.out_energy[0][0][0]"
   ]
  },
  {
   "cell_type": "markdown",
   "metadata": {},
   "source": [
    "### VQE for deuteron, using built-in optimiser (Nelder-Mead)"
   ]
  },
  {
   "cell_type": "code",
   "execution_count": 3,
   "metadata": {},
   "outputs": [
    {
     "ename": "ValueError",
     "evalue": "Invalid value: qdk_gen1 - valid values are:\n\n  qpp\n  tnqvm\n  aer\n",
     "output_type": "error",
     "traceback": [
      "\u001b[0;31m---------------------------------------------------------------------------\u001b[0m",
      "\u001b[0;31mValueError\u001b[0m                                Traceback (most recent call last)",
      "Input \u001b[0;32mIn [3]\u001b[0m, in \u001b[0;36m<cell line: 3>\u001b[0;34m()\u001b[0m\n\u001b[1;32m      1\u001b[0m qv\u001b[38;5;241m=\u001b[39mqbos_op\u001b[38;5;241m.\u001b[39mvqe()\n\u001b[1;32m      2\u001b[0m qv\u001b[38;5;241m.\u001b[39msn \u001b[38;5;241m=\u001b[39m \u001b[38;5;241m0\u001b[39m\n\u001b[0;32m----> 3\u001b[0m \u001b[43mqv\u001b[49m\u001b[38;5;241;43m.\u001b[39;49m\u001b[43macc\u001b[49m   \u001b[38;5;241m=\u001b[39m \u001b[38;5;124m'\u001b[39m\u001b[38;5;124mqdk_gen1\u001b[39m\u001b[38;5;124m'\u001b[39m\n\u001b[1;32m      5\u001b[0m \u001b[38;5;66;03m# Deuteron Hamiltonian with aswap ansatz\u001b[39;00m\n\u001b[1;32m      6\u001b[0m qv\u001b[38;5;241m.\u001b[39mqn \u001b[38;5;241m=\u001b[39m \u001b[38;5;241m2\u001b[39m  \u001b[38;5;66;03m# Number of qubits\u001b[39;00m\n",
      "\u001b[0;31mValueError\u001b[0m: Invalid value: qdk_gen1 - valid values are:\n\n  qpp\n  tnqvm\n  aer\n"
     ]
    }
   ],
   "source": [
    "qv=qbos_op.vqe()\n",
    "qv.sn = 0\n",
    "qv.acc   = 'qdk_gen1'\n",
    "\n",
    "# Deuteron Hamiltonian with aswap ansatz\n",
    "qv.qn = 2  # Number of qubits\n",
    "qv.ham = \"5.907 - 2.1433 X0X1 - 2.1433 Y0Y1 + .21829 Z0 - 6.125 Z1\"\n",
    "qv.ansatz = \"aswap\"\n",
    "qv.maxeval = 400\n",
    "qv.theta = qbos_op.ND()\n",
    "\n",
    "optimum_energy = qbvqe([0.11],qv)  # Initial parameter theta values = [0.11]\n",
    "print('Min. energy: ' + str(optimum_energy))\n"
   ]
  },
  {
   "cell_type": "code",
   "execution_count": 6,
   "metadata": {},
   "outputs": [
    {
     "data": {
      "text/plain": [
       "[[\"qpp\"]]"
      ]
     },
     "execution_count": 6,
     "metadata": {},
     "output_type": "execute_result"
    }
   ],
   "source": [
    "qv.acc"
   ]
  },
  {
   "cell_type": "code",
   "execution_count": null,
   "metadata": {},
   "outputs": [],
   "source": [
    "optimum_energy"
   ]
  },
  {
   "cell_type": "code",
   "execution_count": null,
   "metadata": {},
   "outputs": [],
   "source": [
    "qv.out_energy[0][0][0]"
   ]
  },
  {
   "cell_type": "code",
   "execution_count": null,
   "metadata": {},
   "outputs": [],
   "source": []
  },
  {
   "cell_type": "code",
   "execution_count": null,
   "metadata": {},
   "outputs": [],
   "source": []
  }
 ],
 "metadata": {
  "kernelspec": {
   "display_name": "Python 3 (ipykernel)",
   "language": "python",
   "name": "python3"
  },
  "language_info": {
   "codemirror_mode": {
    "name": "ipython",
    "version": 3
   },
   "file_extension": ".py",
   "mimetype": "text/x-python",
   "name": "python",
   "nbconvert_exporter": "python",
   "pygments_lexer": "ipython3",
   "version": "3.8.10"
  }
 },
 "nbformat": 4,
 "nbformat_minor": 4
}
