{
 "cells": [
  {
   "cell_type": "code",
   "execution_count": 2,
   "id": "95dde24f",
   "metadata": {},
   "outputs": [
    {
     "name": "stdout",
     "output_type": "stream",
     "text": [
      "0x7fe3ba28edeb: (xacc::error(std::__cxx11::basic_string<char, std::char_traits<char>, std::allocator<char> > const&, std::function<bool ()>)+0x2b)\n",
      "0x7fe3ba289033: (xacc::RemoteAccelerator::handleExceptionRestClientPost(std::__cxx11::basic_string<char, std::char_traits<char>, std::allocator<char> > const&, std::__cxx11::basic_string<char, std::char_traits<char>, std::allocator<char> > const&, std::__cxx11::basic_string<char, std::char_traits<char>, std::allocator<char> > const&, std::map<std::__cxx11::basic_string<char, std::char_traits<char>, std::allocator<char> >, std::__cxx11::basic_string<char, std::char_traits<char>, std::allocator<char> >, std::less<std::__cxx11::basic_string<char, std::char_traits<char>, std::allocator<char> > >, std::allocator<std::pair<std::__cxx11::basic_string<char, std::char_traits<char>, std::allocator<char> > const, std::__cxx11::basic_string<char, std::char_traits<char>, std::allocator<char> > > > >) [clone .cold]+0x267)\n",
      "0x7fe3ba31167e: (xacc::RemoteAccelerator::execute(std::shared_ptr<xacc::AcceleratorBuffer>, std::shared_ptr<xacc::CompositeInstruction>)+0x2ae)\n",
      "0x7fe3ba6099c4: (xacc::quantum::QuantumBrillianceRemoteAccelerator::execute(std::shared_ptr<xacc::AcceleratorBuffer>, std::vector<std::shared_ptr<xacc::CompositeInstruction>, std::allocator<std::shared_ptr<xacc::CompositeInstruction> > >)+0x2ac)\n",
      "0x7fe3d0319420: (qbOS::Qbqe::run(unsigned long const&, unsigned long const&)+0x72c2)\n",
      "0x7fe3d031e591: (qbOS::Qbqe::run()+0xbd1)\n",
      "0x7fe3d04599d9: (pybind11::cpp_function::cpp_function<void, qbOS::Qbqe, , pybind11::name, pybind11::is_method, pybind11::sibling, char [59]>(void (qbOS::Qbqe::*)(), pybind11::name const&, pybind11::is_method const&, pybind11::sibling const&, char const (&) [59])::{lambda(qbOS::Qbqe*)#1}::operator()(qbOS::Qbqe*) const+0x65)\n",
      "0x7fe3d05352eb: (void pybind11::detail::argument_loader<qbOS::Qbqe*>::call_impl<void, pybind11::cpp_function::cpp_function<void, qbOS::Qbqe, , pybind11::name, pybind11::is_method, pybind11::sibling, char [59]>(void (qbOS::Qbqe::*)(), pybind11::name const&, pybind11::is_method const&, pybind11::sibling const&, char const (&) [59])::{lambda(qbOS::Qbqe*)#1}&, 0ul, pybind11::detail::void_type>(pybind11::cpp_function::cpp_function<void, qbOS::Qbqe, , pybind11::name, pybind11::is_method, pybind11::sibling, char [59]>(void (qbOS::Qbqe::*)(), pybind11::name const&, pybind11::is_method const&, pybind11::sibling const&, char const (&) [59])::{lambda(qbOS::Qbqe*)#1}&, std::integer_sequence<unsigned long, 0ul>, pybind11::detail::void_type&&) &&+0x4b)\n",
      "0x7fe3d04db9a4: (std::enable_if<std::is_void<void>::value, pybind11::detail::void_type>::type pybind11::detail::argument_loader<qbOS::Qbqe*>::call<void, pybind11::detail::void_type, pybind11::cpp_function::cpp_function<void, qbOS::Qbqe, , pybind11::name, pybind11::is_method, pybind11::sibling, char [59]>(void (qbOS::Qbqe::*)(), pybind11::name const&, pybind11::is_method const&, pybind11::sibling const&, char const (&) [59])::{lambda(qbOS::Qbqe*)#1}&>(pybind11::cpp_function::cpp_function<void, qbOS::Qbqe, , pybind11::name, pybind11::is_method, pybind11::sibling, char [59]>(void (qbOS::Qbqe::*)(), pybind11::name const&, pybind11::is_method const&, pybind11::sibling const&, char const (&) [59])::{lambda(qbOS::Qbqe*)#1}&) &&+0x52)\n",
      "0x7fe3d0497d47: (pybind11::cpp_function::initialize<pybind11::cpp_function::initialize<void, qbOS::Qbqe, , pybind11::name, pybind11::is_method, pybind11::sibling, char [59]>(void (qbOS::Qbqe::*)(), pybind11::name const&, pybind11::is_method const&, pybind11::sibling const&, char const (&) [59])::{lambda(qbOS::Qbqe*)#1}, void, qbOS::Qbqe*, pybind11::name, pybind11::is_method, pybind11::sibling, char [59]>(pybind11::cpp_function::initialize<void, qbOS::Qbqe, , pybind11::name, pybind11::is_method, pybind11::sibling, char [59]>(void (qbOS::Qbqe::*)(), pybind11::name const&, pybind11::is_method const&, pybind11::sibling const&, char const (&) [59])::{lambda(qbOS::Qbqe*)#1}&&, void (*)(qbOS::Qbqe*), pybind11::name const&, pybind11::is_method const&, pybind11::sibling const&, char const (&) [59]):"
     ]
    },
    {
     "ename": "ValueError",
     "evalue": "The execution on hardware of your input circuit failed",
     "output_type": "error",
     "traceback": [
      "\u001b[0;31m---------------------------------------------------------------------------\u001b[0m",
      "\u001b[0;31mValueError\u001b[0m                                Traceback (most recent call last)",
      "Input \u001b[0;32mIn [2]\u001b[0m, in \u001b[0;36m<cell line: 18>\u001b[0;34m()\u001b[0m\n\u001b[1;32m      6\u001b[0m tqb\u001b[38;5;241m.\u001b[39mqn    \u001b[38;5;241m=\u001b[39m \u001b[38;5;241m2\u001b[39m           \u001b[38;5;66;03m# 2 qubits\u001b[39;00m\n\u001b[1;32m      7\u001b[0m tqb\u001b[38;5;241m.\u001b[39minstring \u001b[38;5;241m=\u001b[39m \u001b[38;5;124m'''\u001b[39m\n\u001b[1;32m      8\u001b[0m \u001b[38;5;124m__qpu__ void QBCIRCUIT(qreg q)\u001b[39m\u001b[38;5;124m{\u001b[39m\n\u001b[1;32m      9\u001b[0m \u001b[38;5;124mOPENQASM 2.0;\u001b[39m\n\u001b[0;32m   (...)\u001b[0m\n\u001b[1;32m     16\u001b[0m \u001b[38;5;124m}\u001b[39m\n\u001b[1;32m     17\u001b[0m \u001b[38;5;124m'''\u001b[39m\n\u001b[0;32m---> 18\u001b[0m \u001b[43mtqb\u001b[49m\u001b[38;5;241;43m.\u001b[39;49m\u001b[43mrun\u001b[49m\u001b[43m(\u001b[49m\u001b[43m)\u001b[49m\n",
      "\u001b[0;31mValueError\u001b[0m: The execution on hardware of your input circuit failed"
     ]
    }
   ],
   "source": [
    "import qbos\n",
    "tqb = qbos.core()\n",
    "tqb.qb12()              # Set up meaningful defaults\n",
    "tqb.acc   = 'qdk_gen1'  # If QDK is not available, use a simulator by setting: tqb.acc = 'aer'\n",
    "tqb.sn    = 32          # 32 shots\n",
    "tqb.qn    = 2           # 2 qubits\n",
    "tqb.instring = '''\n",
    "__qpu__ void QBCIRCUIT(qreg q){\n",
    "OPENQASM 2.0;\n",
    "include \"qelib1.inc\";\n",
    "creg c[2];\n",
    "h q[0];\n",
    "x q[1];\n",
    "measure q[1] -> c[1];\n",
    "measure q[0] -> c[0];\n",
    "}\n",
    "'''\n",
    "tqb.run()"
   ]
  },
  {
   "cell_type": "code",
   "execution_count": null,
   "id": "ccb88856",
   "metadata": {},
   "outputs": [],
   "source": []
  }
 ],
 "metadata": {
  "kernelspec": {
   "display_name": "Python 3 (ipykernel)",
   "language": "python",
   "name": "python3"
  },
  "language_info": {
   "codemirror_mode": {
    "name": "ipython",
    "version": 3
   },
   "file_extension": ".py",
   "mimetype": "text/x-python",
   "name": "python",
   "nbconvert_exporter": "python",
   "pygments_lexer": "ipython3",
   "version": "3.8.10"
  }
 },
 "nbformat": 4,
 "nbformat_minor": 5
}
