{
 "cells": [
  {
   "cell_type": "markdown",
   "metadata": {},
   "source": [
    "<img src=\"../Quantum_Brilliance_dark_blue_Logo_RGB.png\" alt=\"Copyright (c) 2021 Quantum Brilliance Pty Ltd\" width=\"240\">\n",
    "\n",
    "# qbOS Built 0.0721.002\n",
    "> *Quantum Brilliance Operating System supporting a complete set of quantum computational tasks*"
   ]
  },
  {
   "cell_type": "markdown",
   "metadata": {},
   "source": [
    "## Example of the Variational Quantum Eigensolver (VQE) in qbOS"
   ]
  },
  {
   "cell_type": "code",
   "execution_count": 1,
   "metadata": {},
   "outputs": [],
   "source": [
    "import qbos_op"
   ]
  },
  {
   "cell_type": "markdown",
   "metadata": {},
   "source": [
    "### Function for minimiser to call"
   ]
  },
  {
   "cell_type": "code",
   "execution_count": 2,
   "metadata": {},
   "outputs": [],
   "source": [
    "def qbvqe(theta,m_qv):\n",
    "    for el in range(len(theta)):\n",
    "        m_qv.theta[0][0][el] = theta[el]\n",
    "    m_qv.run()\n",
    "    return m_qv.out_energy[0][0][0]"
   ]
  },
  {
   "cell_type": "markdown",
   "metadata": {},
   "source": [
    "### VQE for deuteron, using built-in optimiser (Nelder-Mead)"
   ]
  },
  {
   "cell_type": "code",
   "execution_count": 3,
   "metadata": {},
   "outputs": [
    {
     "name": "stdout",
     "output_type": "stream",
     "text": [
      "[2022-09-19 08:59:25.052] [xacc-logger] [info] \u001b[1;34mSet 'timeReversalSymmetry' to 1\u001b[0m\n",
      "[2022-09-19 08:59:25.052] [xacc-logger] [info] \u001b[1;33m'szSymmetry' was not provided. Assume no symmetry.\u001b[0m\n",
      "[2022-09-19 08:59:25.058] [xacc-logger] [info] \u001b[1;33mChosen optimizer does not support gradients. Using default.\u001b[0m\n",
      "[2022-09-19 08:59:25.058] [xacc-logger] [info] \u001b[1;34m[NLOpt] max function evaluations set to 400\u001b[0m\n",
      "[2022-09-19 08:59:25.061] [xacc-logger] [info] \u001b[1;34mNumber of instructions: 8\u001b[0m\n",
      "[2022-09-19 08:59:25.572] [xacc-logger] [info] \u001b[1;34mE(0.110000) = -1.21886363366\u001b[0m\n",
      "[2022-09-19 08:59:25.575] [xacc-logger] [info] \u001b[1;34mNumber of instructions: 8\u001b[0m\n",
      "[2022-09-19 08:59:25.576] [xacc-logger] [info] \u001b[1;34mE(1.680796) = 13.0328634837\u001b[0m\n",
      "[2022-09-19 08:59:25.578] [xacc-logger] [info] \u001b[1;34mNumber of instructions: 8\u001b[0m\n",
      "[2022-09-19 08:59:25.579] [xacc-logger] [info] \u001b[1;34mE(-1.460796) = 13.0328637837\u001b[0m\n",
      "[2022-09-19 08:59:25.582] [xacc-logger] [info] \u001b[1;34mNumber of instructions: 8\u001b[0m\n",
      "[2022-09-19 08:59:25.583] [xacc-logger] [info] \u001b[1;34mE(0.895398) = 3.10801158856\u001b[0m\n",
      "[2022-09-19 08:59:25.585] [xacc-logger] [info] \u001b[1;34mNumber of instructions: 8\u001b[0m\n",
      "[2022-09-19 08:59:25.586] [xacc-logger] [info] \u001b[1;34mE(-0.675398) = 8.70598802957\u001b[0m\n",
      "[2022-09-19 08:59:25.588] [xacc-logger] [info] \u001b[1;34mNumber of instructions: 8\u001b[0m\n",
      "[2022-09-19 08:59:25.589] [xacc-logger] [info] \u001b[1;34mE(0.502699) = -1.11093008935\u001b[0m\n",
      "[2022-09-19 08:59:25.591] [xacc-logger] [info] \u001b[1;34mNumber of instructions: 8\u001b[0m\n",
      "[2022-09-19 08:59:25.592] [xacc-logger] [info] \u001b[1;34mE(-0.282699) = 2.84743695999\u001b[0m\n",
      "[2022-09-19 08:59:25.595] [xacc-logger] [info] \u001b[1;34mNumber of instructions: 8\u001b[0m\n",
      "[2022-09-19 08:59:25.595] [xacc-logger] [info] \u001b[1;34mE(0.306350) = -1.74756598293\u001b[0m\n",
      "[2022-09-19 08:59:25.598] [xacc-logger] [info] \u001b[1;34mNumber of instructions: 8\u001b[0m\n",
      "[2022-09-19 08:59:25.599] [xacc-logger] [info] \u001b[1;34mE(0.502699) = -1.11093008935\u001b[0m\n",
      "[2022-09-19 08:59:25.601] [xacc-logger] [info] \u001b[1;34mNumber of instructions: 8\u001b[0m\n",
      "[2022-09-19 08:59:25.602] [xacc-logger] [info] \u001b[1;34mE(0.208175) = -1.62799767078\u001b[0m\n",
      "[2022-09-19 08:59:25.604] [xacc-logger] [info] \u001b[1;34mNumber of instructions: 8\u001b[0m\n",
      "[2022-09-19 08:59:25.605] [xacc-logger] [info] \u001b[1;34mE(0.404524) = -1.57297362708\u001b[0m\n",
      "[2022-09-19 08:59:25.608] [xacc-logger] [info] \u001b[1;34mNumber of instructions: 8\u001b[0m\n",
      "[2022-09-19 08:59:25.608] [xacc-logger] [info] \u001b[1;34mE(0.257262) = -1.72452972714\u001b[0m\n",
      "[2022-09-19 08:59:25.611] [xacc-logger] [info] \u001b[1;34mNumber of instructions: 8\u001b[0m\n",
      "[2022-09-19 08:59:25.612] [xacc-logger] [info] \u001b[1;34mE(0.355437) = -1.69688458639\u001b[0m\n",
      "[2022-09-19 08:59:25.614] [xacc-logger] [info] \u001b[1;34mNumber of instructions: 8\u001b[0m\n",
      "[2022-09-19 08:59:25.615] [xacc-logger] [info] \u001b[1;34mE(0.281806) = -1.74526534346\u001b[0m\n",
      "[2022-09-19 08:59:25.617] [xacc-logger] [info] \u001b[1;34mNumber of instructions: 8\u001b[0m\n",
      "[2022-09-19 08:59:25.618] [xacc-logger] [info] \u001b[1;34mE(0.330893) = -1.73142610311\u001b[0m\n",
      "[2022-09-19 08:59:25.620] [xacc-logger] [info] \u001b[1;34mNumber of instructions: 8\u001b[0m\n",
      "[2022-09-19 08:59:25.621] [xacc-logger] [info] \u001b[1;34mE(0.294078) = -1.74872142327\u001b[0m\n",
      "[2022-09-19 08:59:25.623] [xacc-logger] [info] \u001b[1;34mNumber of instructions: 8\u001b[0m\n",
      "[2022-09-19 08:59:25.624] [xacc-logger] [info] \u001b[1;34mE(0.281806) = -1.74526534346\u001b[0m\n",
      "[2022-09-19 08:59:25.627] [xacc-logger] [info] \u001b[1;34mNumber of instructions: 8\u001b[0m\n",
      "[2022-09-19 08:59:25.627] [xacc-logger] [info] \u001b[1;34mE(0.300214) = -1.74872016473\u001b[0m\n",
      "Min. energy: -1.7487214232720727\n"
     ]
    }
   ],
   "source": [
    "qv=qbos_op.vqe()\n",
    "qv.sn = 0\n",
    "qv.acc   = 'tnqvm'\n",
    "\n",
    "# Deuteron Hamiltonian with aswap ansatz\n",
    "qv.qn = 2  # Number of qubits\n",
    "qv.ham = \"5.907 - 2.1433 X0X1 - 2.1433 Y0Y1 + .21829 Z0 - 6.125 Z1\"\n",
    "qv.ansatz = \"aswap\"\n",
    "qv.maxeval = 400\n",
    "qv.theta = qbos_op.ND()\n",
    "\n",
    "optimum_energy = qbvqe([0.11],qv)  # Initial parameter theta values = [0.11]\n",
    "print('Min. energy: ' + str(optimum_energy))\n"
   ]
  },
  {
   "cell_type": "code",
   "execution_count": 4,
   "metadata": {},
   "outputs": [
    {
     "data": {
      "text/plain": [
       "[[\"tnqvm\"]]"
      ]
     },
     "execution_count": 4,
     "metadata": {},
     "output_type": "execute_result"
    }
   ],
   "source": [
    "qv.acc"
   ]
  },
  {
   "cell_type": "code",
   "execution_count": 5,
   "metadata": {},
   "outputs": [
    {
     "data": {
      "text/plain": [
       "-1.7487214232720727"
      ]
     },
     "execution_count": 5,
     "metadata": {},
     "output_type": "execute_result"
    }
   ],
   "source": [
    "optimum_energy"
   ]
  },
  {
   "cell_type": "code",
   "execution_count": 6,
   "metadata": {},
   "outputs": [
    {
     "data": {
      "text/plain": [
       "-1.7487214232720727"
      ]
     },
     "execution_count": 6,
     "metadata": {},
     "output_type": "execute_result"
    }
   ],
   "source": [
    "qv.out_energy[0][0][0]"
   ]
  },
  {
   "cell_type": "code",
   "execution_count": null,
   "metadata": {},
   "outputs": [],
   "source": []
  },
  {
   "cell_type": "code",
   "execution_count": null,
   "metadata": {},
   "outputs": [],
   "source": []
  }
 ],
 "metadata": {
  "kernelspec": {
   "display_name": "Python 3 (ipykernel)",
   "language": "python",
   "name": "python3"
  },
  "language_info": {
   "codemirror_mode": {
    "name": "ipython",
    "version": 3
   },
   "file_extension": ".py",
   "mimetype": "text/x-python",
   "name": "python",
   "nbconvert_exporter": "python",
   "pygments_lexer": "ipython3",
   "version": "3.8.10"
  }
 },
 "nbformat": 4,
 "nbformat_minor": 4
}
