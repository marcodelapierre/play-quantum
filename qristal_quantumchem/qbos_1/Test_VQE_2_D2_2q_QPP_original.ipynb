{
 "cells": [
  {
   "cell_type": "markdown",
   "metadata": {},
   "source": [
    "<img src=\"../Quantum_Brilliance_dark_blue_Logo_RGB.png\" alt=\"Copyright (c) 2021 Quantum Brilliance Pty Ltd\" width=\"240\">\n",
    "\n",
    "# qbOS Built 0.0721.002\n",
    "> *Quantum Brilliance Operating System supporting a complete set of quantum computational tasks*"
   ]
  },
  {
   "cell_type": "markdown",
   "metadata": {},
   "source": [
    "## Example of the Variational Quantum Eigensolver (VQE) in qbOS"
   ]
  },
  {
   "cell_type": "code",
   "execution_count": 2,
   "metadata": {},
   "outputs": [],
   "source": [
    "import qbos_op\n",
    "from scipy.optimize import minimize, show_options, Bounds"
   ]
  },
  {
   "cell_type": "markdown",
   "metadata": {},
   "source": [
    "### Function for scipy.optimize to call"
   ]
  },
  {
   "cell_type": "code",
   "execution_count": 3,
   "metadata": {},
   "outputs": [],
   "source": [
    "def qbvqe(theta,m_qv):\n",
    "    for el in range(len(theta)):\n",
    "        m_qv.theta[0][0][el] = theta[el]\n",
    "    m_qv.run()\n",
    "    return m_qv.out_energy[0][0][0]"
   ]
  },
  {
   "cell_type": "markdown",
   "metadata": {},
   "source": [
    "### VQE for deuteron, using built-in optimiser (Nelder-Mead)"
   ]
  },
  {
   "cell_type": "code",
   "execution_count": 4,
   "metadata": {},
   "outputs": [
    {
     "name": "stdout",
     "output_type": "stream",
     "text": [
      "[2022-09-19 08:51:09.720] [xacc-logger] [info] \u001b[1;34mSet 'timeReversalSymmetry' to 1\u001b[0m\n",
      "[2022-09-19 08:51:09.720] [xacc-logger] [info] \u001b[1;33m'szSymmetry' was not provided. Assume no symmetry.\u001b[0m\n",
      "[2022-09-19 08:51:09.725] [xacc-logger] [info] \u001b[1;34mEnable VQE Mode.\u001b[0m\n",
      "[2022-09-19 08:51:09.725] [xacc-logger] [info] \u001b[1;33mChosen optimizer does not support gradients. Using default.\u001b[0m\n",
      "[2022-09-19 08:51:09.725] [xacc-logger] [info] \u001b[1;34m[NLOpt] max function evaluations set to 400\u001b[0m\n",
      "[2022-09-19 08:51:09.732] [xacc-logger] [info] \u001b[1;34mE(0.110000) = 0.652062570935\u001b[0m\n",
      "[2022-09-19 08:51:09.734] [xacc-logger] [info] \u001b[1;34mE(1.680796) = 11.1619377274\u001b[0m\n",
      "[2022-09-19 08:51:09.738] [xacc-logger] [info] \u001b[1;34mE(-1.460796) = 11.1619371307\u001b[0m\n",
      "[2022-09-19 08:51:09.742] [xacc-logger] [info] \u001b[1;34mE(-0.675398) = 0.3394240671\u001b[0m\n",
      "[2022-09-19 08:51:09.744] [xacc-logger] [info] \u001b[1;34mE(-1.460796) = 11.1619371307\u001b[0m\n",
      "[2022-09-19 08:51:09.749] [xacc-logger] [info] \u001b[1;34mE(-0.282699) = -1.7456724852\u001b[0m\n",
      "[2022-09-19 08:51:09.752] [xacc-logger] [info] \u001b[1;34mE(0.110000) = 0.652062570935\u001b[0m\n",
      "[2022-09-19 08:51:09.754] [xacc-logger] [info] \u001b[1;34mE(-0.479049) = -1.24774686699\u001b[0m\n",
      "[2022-09-19 08:51:09.759] [xacc-logger] [info] \u001b[1;34mE(-0.086350) = -1.07854812843\u001b[0m\n",
      "[2022-09-19 08:51:09.762] [xacc-logger] [info] \u001b[1;34mE(-0.380874) = -1.64175691866\u001b[0m\n",
      "[2022-09-19 08:51:09.764] [xacc-logger] [info] \u001b[1;34mE(-0.184524) = -1.55550014981\u001b[0m\n",
      "[2022-09-19 08:51:09.766] [xacc-logger] [info] \u001b[1;34mE(-0.331786) = -1.73049130887\u001b[0m\n",
      "[2022-09-19 08:51:09.769] [xacc-logger] [info] \u001b[1;34mE(-0.233612) = -1.68715424464\u001b[0m\n",
      "[2022-09-19 08:51:09.771] [xacc-logger] [info] \u001b[1;34mE(-0.307243) = -1.7473018385\u001b[0m\n",
      "[2022-09-19 08:51:09.774] [xacc-logger] [info] \u001b[1;34mE(-0.331786) = -1.73049130887\u001b[0m\n",
      "[2022-09-19 08:51:09.776] [xacc-logger] [info] \u001b[1;34mE(-0.294971) = -1.74879294347\u001b[0m\n",
      "[2022-09-19 08:51:09.778] [xacc-logger] [info] \u001b[1;34mE(-0.282699) = -1.7456724852\u001b[0m\n",
      "[2022-09-19 08:51:09.781] [xacc-logger] [info] \u001b[1;34mE(-0.301107) = -1.74862384536\u001b[0m\n",
      "[2022-09-19 08:51:09.784] [xacc-logger] [info] \u001b[1;34mE(-0.288835) = -1.74780910736\u001b[0m\n",
      "[2022-09-19 08:51:09.786] [xacc-logger] [info] \u001b[1;34mE(-0.298039) = -1.74885251367\u001b[0m\n",
      "[2022-09-19 08:51:09.789] [xacc-logger] [info] \u001b[1;34mE(-0.301107) = -1.74862384536\u001b[0m\n",
      "[2022-09-19 08:51:09.791] [xacc-logger] [info] \u001b[1;34mE(-0.296505) = -1.7488587585\u001b[0m\n",
      "[2022-09-19 08:51:09.793] [xacc-logger] [info] \u001b[1;34mE(-0.294971) = -1.74879294347\u001b[0m\n",
      "[2022-09-19 08:51:09.796] [xacc-logger] [info] \u001b[1;34mE(-0.297272) = -1.74886464358\u001b[0m\n",
      "[2022-09-19 08:51:09.798] [xacc-logger] [info] \u001b[1;34mE(-0.298039) = -1.74885251367\u001b[0m\n",
      "[2022-09-19 08:51:09.801] [xacc-logger] [info] \u001b[1;34mE(-0.296888) = -1.74886395292\u001b[0m\n",
      "Min. energy: -1.7488646435818769\n"
     ]
    }
   ],
   "source": [
    "qv=qbos_op.vqe()\n",
    "qv.sn = 0   # No shots - deterministic VQE\n",
    "\n",
    "# Deuteron Hamiltonian with aswap ansatz\n",
    "qv.qn = 2  # Number of qubits\n",
    "qv.ham = \"5.907 - 2.1433 X0X1 - 2.1433 Y0Y1 + .21829 Z0 - 6.125 Z1\"\n",
    "qv.ansatz = \"aswap\"\n",
    "qv.maxeval = 400\n",
    "qv.theta = qbos_op.ND()\n",
    "optimum_energy = qbvqe([0.11],qv)  # Initial parameter theta values = [0.11]\n",
    "print('Min. energy: ' + str(optimum_energy))\n"
   ]
  },
  {
   "cell_type": "markdown",
   "metadata": {},
   "source": [
    "### VQE for deuteron, using SLSQP in scipy.optimize"
   ]
  },
  {
   "cell_type": "markdown",
   "metadata": {},
   "source": [
    "We first need to apply value constraints on the parameters before using SLSQP:"
   ]
  },
  {
   "cell_type": "code",
   "execution_count": 5,
   "metadata": {},
   "outputs": [],
   "source": [
    "qvbound = Bounds(-3.14159,3.14159,True)"
   ]
  },
  {
   "cell_type": "markdown",
   "metadata": {},
   "source": [
    "Now proceed to run ```minimize()```. \n",
    "\n",
    "**Important**: ensure that the number of parameters provided in the initial list matches the number required by the ansatz used."
   ]
  },
  {
   "cell_type": "code",
   "execution_count": 6,
   "metadata": {},
   "outputs": [
    {
     "name": "stdout",
     "output_type": "stream",
     "text": [
      "[2022-09-19 08:51:12.847] [xacc-logger] [info] \u001b[1;34mSet 'timeReversalSymmetry' to 1\u001b[0m\n",
      "[2022-09-19 08:51:12.847] [xacc-logger] [info] \u001b[1;33m'szSymmetry' was not provided. Assume no symmetry.\u001b[0m\n",
      "[2022-09-19 08:51:12.851] [xacc-logger] [info] \u001b[1;34mEnable VQE Mode.\u001b[0m\n",
      "[2022-09-19 08:51:12.851] [xacc-logger] [info] \u001b[1;33mChosen optimizer does not support gradients. Using default.\u001b[0m\n",
      "[2022-09-19 08:51:12.851] [xacc-logger] [info] \u001b[1;34m[NLOpt] max function evaluations set to 1\u001b[0m\n",
      "[2022-09-19 08:51:12.854] [xacc-logger] [info] \u001b[1;34mE(0.110000) = 0.652062570935\u001b[0m\n",
      "[2022-09-19 08:51:12.858] [xacc-logger] [info] \u001b[1;34mSet 'timeReversalSymmetry' to 1\u001b[0m\n",
      "[2022-09-19 08:51:12.858] [xacc-logger] [info] \u001b[1;33m'szSymmetry' was not provided. Assume no symmetry.\u001b[0m\n",
      "[2022-09-19 08:51:12.862] [xacc-logger] [info] \u001b[1;34mEnable VQE Mode.\u001b[0m\n",
      "[2022-09-19 08:51:12.862] [xacc-logger] [info] \u001b[1;33mChosen optimizer does not support gradients. Using default.\u001b[0m\n",
      "[2022-09-19 08:51:12.862] [xacc-logger] [info] \u001b[1;34m[NLOpt] max function evaluations set to 1\u001b[0m\n",
      "[2022-09-19 08:51:12.865] [xacc-logger] [info] \u001b[1;34mE(0.110000) = 0.652062736862\u001b[0m\n",
      "[2022-09-19 08:51:12.868] [xacc-logger] [info] \u001b[1;34mSet 'timeReversalSymmetry' to 1\u001b[0m\n",
      "[2022-09-19 08:51:12.868] [xacc-logger] [info] \u001b[1;33m'szSymmetry' was not provided. Assume no symmetry.\u001b[0m\n",
      "[2022-09-19 08:51:12.873] [xacc-logger] [info] \u001b[1;34mEnable VQE Mode.\u001b[0m\n",
      "[2022-09-19 08:51:12.873] [xacc-logger] [info] \u001b[1;33mChosen optimizer does not support gradients. Using default.\u001b[0m\n",
      "[2022-09-19 08:51:12.873] [xacc-logger] [info] \u001b[1;34m[NLOpt] max function evaluations set to 1\u001b[0m\n",
      "[2022-09-19 08:51:12.876] [xacc-logger] [info] \u001b[1;34mE(-3.141590) = -0.436267250154\u001b[0m\n",
      "[2022-09-19 08:51:12.879] [xacc-logger] [info] \u001b[1;34mSet 'timeReversalSymmetry' to 1\u001b[0m\n",
      "[2022-09-19 08:51:12.879] [xacc-logger] [info] \u001b[1;33m'szSymmetry' was not provided. Assume no symmetry.\u001b[0m\n",
      "[2022-09-19 08:51:12.883] [xacc-logger] [info] \u001b[1;34mEnable VQE Mode.\u001b[0m\n",
      "[2022-09-19 08:51:12.884] [xacc-logger] [info] \u001b[1;33mChosen optimizer does not support gradients. Using default.\u001b[0m\n",
      "[2022-09-19 08:51:12.884] [xacc-logger] [info] \u001b[1;34m[NLOpt] max function evaluations set to 1\u001b[0m\n",
      "[2022-09-19 08:51:12.886] [xacc-logger] [info] \u001b[1;34mE(-1.566179) = 12.2104310409\u001b[0m\n",
      "[2022-09-19 08:51:12.889] [xacc-logger] [info] \u001b[1;34mSet 'timeReversalSymmetry' to 1\u001b[0m\n",
      "[2022-09-19 08:51:12.889] [xacc-logger] [info] \u001b[1;33m'szSymmetry' was not provided. Assume no symmetry.\u001b[0m\n",
      "[2022-09-19 08:51:12.893] [xacc-logger] [info] \u001b[1;34mEnable VQE Mode.\u001b[0m\n",
      "[2022-09-19 08:51:12.893] [xacc-logger] [info] \u001b[1;33mChosen optimizer does not support gradients. Using default.\u001b[0m\n",
      "[2022-09-19 08:51:12.893] [xacc-logger] [info] \u001b[1;34m[NLOpt] max function evaluations set to 1\u001b[0m\n",
      "[2022-09-19 08:51:12.896] [xacc-logger] [info] \u001b[1;34mE(-0.407572) = -1.56288836458\u001b[0m\n",
      "[2022-09-19 08:51:12.899] [xacc-logger] [info] \u001b[1;34mSet 'timeReversalSymmetry' to 1\u001b[0m\n",
      "[2022-09-19 08:51:12.899] [xacc-logger] [info] \u001b[1;33m'szSymmetry' was not provided. Assume no symmetry.\u001b[0m\n",
      "[2022-09-19 08:51:12.903] [xacc-logger] [info] \u001b[1;34mEnable VQE Mode.\u001b[0m\n",
      "[2022-09-19 08:51:12.903] [xacc-logger] [info] \u001b[1;33mChosen optimizer does not support gradients. Using default.\u001b[0m\n",
      "[2022-09-19 08:51:12.903] [xacc-logger] [info] \u001b[1;34m[NLOpt] max function evaluations set to 1\u001b[0m\n",
      "[2022-09-19 08:51:12.905] [xacc-logger] [info] \u001b[1;34mE(-0.407572) = -1.56288841456\u001b[0m\n",
      "[2022-09-19 08:51:12.908] [xacc-logger] [info] \u001b[1;34mSet 'timeReversalSymmetry' to 1\u001b[0m\n",
      "[2022-09-19 08:51:12.908] [xacc-logger] [info] \u001b[1;33m'szSymmetry' was not provided. Assume no symmetry.\u001b[0m\n",
      "[2022-09-19 08:51:12.912] [xacc-logger] [info] \u001b[1;34mEnable VQE Mode.\u001b[0m\n",
      "[2022-09-19 08:51:12.912] [xacc-logger] [info] \u001b[1;33mChosen optimizer does not support gradients. Using default.\u001b[0m\n",
      "[2022-09-19 08:51:12.912] [xacc-logger] [info] \u001b[1;34m[NLOpt] max function evaluations set to 1\u001b[0m\n",
      "[2022-09-19 08:51:12.915] [xacc-logger] [info] \u001b[1;34mE(-0.287751) = -1.74751554586\u001b[0m\n",
      "[2022-09-19 08:51:12.918] [xacc-logger] [info] \u001b[1;34mSet 'timeReversalSymmetry' to 1\u001b[0m\n",
      "[2022-09-19 08:51:12.918] [xacc-logger] [info] \u001b[1;33m'szSymmetry' was not provided. Assume no symmetry.\u001b[0m\n",
      "[2022-09-19 08:51:12.923] [xacc-logger] [info] \u001b[1;34mEnable VQE Mode.\u001b[0m\n",
      "[2022-09-19 08:51:12.923] [xacc-logger] [info] \u001b[1;33mChosen optimizer does not support gradients. Using default.\u001b[0m\n",
      "[2022-09-19 08:51:12.923] [xacc-logger] [info] \u001b[1;34m[NLOpt] max function evaluations set to 1\u001b[0m\n",
      "[2022-09-19 08:51:12.925] [xacc-logger] [info] \u001b[1;34mE(-0.287751) = -1.74751554158\u001b[0m\n",
      "[2022-09-19 08:51:12.928] [xacc-logger] [info] \u001b[1;34mSet 'timeReversalSymmetry' to 1\u001b[0m\n",
      "[2022-09-19 08:51:12.928] [xacc-logger] [info] \u001b[1;33m'szSymmetry' was not provided. Assume no symmetry.\u001b[0m\n",
      "[2022-09-19 08:51:12.932] [xacc-logger] [info] \u001b[1;34mEnable VQE Mode.\u001b[0m\n",
      "[2022-09-19 08:51:12.933] [xacc-logger] [info] \u001b[1;33mChosen optimizer does not support gradients. Using default.\u001b[0m\n",
      "[2022-09-19 08:51:12.933] [xacc-logger] [info] \u001b[1;34m[NLOpt] max function evaluations set to 1\u001b[0m\n",
      "[2022-09-19 08:51:12.935] [xacc-logger] [info] \u001b[1;34mE(-0.297209) = -1.74886483871\u001b[0m\n",
      "[2022-09-19 08:51:12.939] [xacc-logger] [info] \u001b[1;34mSet 'timeReversalSymmetry' to 1\u001b[0m\n",
      "[2022-09-19 08:51:12.939] [xacc-logger] [info] \u001b[1;33m'szSymmetry' was not provided. Assume no symmetry.\u001b[0m\n",
      "[2022-09-19 08:51:12.943] [xacc-logger] [info] \u001b[1;34mEnable VQE Mode.\u001b[0m\n",
      "[2022-09-19 08:51:12.943] [xacc-logger] [info] \u001b[1;33mChosen optimizer does not support gradients. Using default.\u001b[0m\n",
      "[2022-09-19 08:51:12.943] [xacc-logger] [info] \u001b[1;34m[NLOpt] max function evaluations set to 1\u001b[0m\n",
      "[2022-09-19 08:51:12.946] [xacc-logger] [info] \u001b[1;34mE(-0.297209) = -1.74886483875\u001b[0m\n"
     ]
    }
   ],
   "source": [
    "qv.maxeval = 1\n",
    "res = minimize(qbvqe, [0.11], args=(qv,), method='SLSQP', bounds=qvbound , tol=1e-6)"
   ]
  },
  {
   "cell_type": "markdown",
   "metadata": {},
   "source": [
    "Inspect the optimum results returned by ```minimize()```"
   ]
  },
  {
   "cell_type": "code",
   "execution_count": 7,
   "metadata": {},
   "outputs": [
    {
     "data": {
      "text/plain": [
       "     fun: -1.7488648387146903\n",
       "     jac: array([-0.00214967])\n",
       " message: 'Optimization terminated successfully'\n",
       "    nfev: 10\n",
       "     nit: 4\n",
       "    njev: 4\n",
       "  status: 0\n",
       " success: True\n",
       "       x: array([-0.29720916])"
      ]
     },
     "execution_count": 7,
     "metadata": {},
     "output_type": "execute_result"
    }
   ],
   "source": [
    "res"
   ]
  },
  {
   "cell_type": "code",
   "execution_count": 8,
   "metadata": {},
   "outputs": [
    {
     "data": {
      "text/plain": [
       "[[\"qpp\"]]"
      ]
     },
     "execution_count": 8,
     "metadata": {},
     "output_type": "execute_result"
    }
   ],
   "source": [
    "qv.acc"
   ]
  },
  {
   "cell_type": "code",
   "execution_count": null,
   "metadata": {},
   "outputs": [],
   "source": []
  }
 ],
 "metadata": {
  "kernelspec": {
   "display_name": "Python 3 (ipykernel)",
   "language": "python",
   "name": "python3"
  },
  "language_info": {
   "codemirror_mode": {
    "name": "ipython",
    "version": 3
   },
   "file_extension": ".py",
   "mimetype": "text/x-python",
   "name": "python",
   "nbconvert_exporter": "python",
   "pygments_lexer": "ipython3",
   "version": "3.8.10"
  }
 },
 "nbformat": 4,
 "nbformat_minor": 4
}
