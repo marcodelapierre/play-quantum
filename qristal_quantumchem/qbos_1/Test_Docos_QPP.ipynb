{
 "cells": [
  {
   "cell_type": "code",
   "execution_count": 1,
   "id": "7de4197a",
   "metadata": {},
   "outputs": [],
   "source": [
    "import qbos\n",
    "tqb = qbos.core()\n",
    "tqb.qb12()              # Set up meaningful defaults\n",
    "tqb.acc   = 'qpp'  # If QDK is not available, use a simulator by setting: tqb.acc = 'aer'\n",
    "tqb.sn    = 32          # 32 shots\n",
    "tqb.qn    = 2           # 2 qubits\n",
    "tqb.instring = '''\n",
    "__qpu__ void QBCIRCUIT(qreg q){\n",
    "OPENQASM 2.0;\n",
    "include \"qelib1.inc\";\n",
    "creg c[2];\n",
    "h q[0];\n",
    "x q[1];\n",
    "measure q[1] -> c[1];\n",
    "measure q[0] -> c[0];\n",
    "}\n",
    "'''\n",
    "tqb.run()"
   ]
  },
  {
   "cell_type": "code",
   "execution_count": 2,
   "id": "b8569805",
   "metadata": {},
   "outputs": [
    {
     "data": {
      "text/plain": [
       "String[{\n",
       "    \"10\": 14,\n",
       "    \"11\": 18\n",
       "}]"
      ]
     },
     "execution_count": 2,
     "metadata": {},
     "output_type": "execute_result"
    }
   ],
   "source": [
    "tqb.out_raw[0]"
   ]
  },
  {
   "cell_type": "code",
   "execution_count": null,
   "id": "36c1b57b",
   "metadata": {},
   "outputs": [],
   "source": []
  }
 ],
 "metadata": {
  "kernelspec": {
   "display_name": "Python 3 (ipykernel)",
   "language": "python",
   "name": "python3"
  },
  "language_info": {
   "codemirror_mode": {
    "name": "ipython",
    "version": 3
   },
   "file_extension": ".py",
   "mimetype": "text/x-python",
   "name": "python",
   "nbconvert_exporter": "python",
   "pygments_lexer": "ipython3",
   "version": "3.8.10"
  }
 },
 "nbformat": 4,
 "nbformat_minor": 5
}
