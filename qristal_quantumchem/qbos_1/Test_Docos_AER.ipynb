{
 "cells": [
  {
   "cell_type": "code",
   "execution_count": 9,
   "id": "96c2100d",
   "metadata": {},
   "outputs": [],
   "source": [
    "import qbos\n",
    "tqb = qbos.core()\n",
    "tqb.qb12()              # Set up meaningful defaults\n",
    "tqb.acc   = 'aer' #'qdk_gen1'  # If QDK is not available, use a simulator by setting: tqb.acc = 'aer'\n",
    "tqb.sn    = 32          # 32 shots\n",
    "tqb.qn    = 2           # 2 qubits\n",
    "tqb.instring = '''\n",
    "__qpu__ void QBCIRCUIT(qreg q){\n",
    "OPENQASM 2.0;\n",
    "include \"qelib1.inc\";\n",
    "creg c[2];\n",
    "h q[0];\n",
    "x q[1];\n",
    "measure q[1] -> c[1];\n",
    "measure q[0] -> c[0];\n",
    "}\n",
    "'''\n",
    "tqb.run()"
   ]
  },
  {
   "cell_type": "code",
   "execution_count": 6,
   "id": "cb1987ff",
   "metadata": {},
   "outputs": [],
   "source": [
    "a=3"
   ]
  },
  {
   "cell_type": "code",
   "execution_count": 7,
   "id": "7fb09b70",
   "metadata": {},
   "outputs": [],
   "source": [
    "b=6"
   ]
  },
  {
   "cell_type": "code",
   "execution_count": 8,
   "id": "8f2796d4",
   "metadata": {},
   "outputs": [
    {
     "data": {
      "text/plain": [
       "9"
      ]
     },
     "execution_count": 8,
     "metadata": {},
     "output_type": "execute_result"
    }
   ],
   "source": [
    "a+b"
   ]
  },
  {
   "cell_type": "code",
   "execution_count": 10,
   "id": "58c6d0b4",
   "metadata": {},
   "outputs": [
    {
     "data": {
      "text/plain": [
       "String[{\n",
       "    \"01\": 15,\n",
       "    \"11\": 17\n",
       "}]"
      ]
     },
     "execution_count": 10,
     "metadata": {},
     "output_type": "execute_result"
    }
   ],
   "source": [
    "tqb.out_raw[0]"
   ]
  },
  {
   "cell_type": "code",
   "execution_count": null,
   "id": "259a477f",
   "metadata": {},
   "outputs": [],
   "source": []
  }
 ],
 "metadata": {
  "kernelspec": {
   "display_name": "Python 3 (ipykernel)",
   "language": "python",
   "name": "python3"
  },
  "language_info": {
   "codemirror_mode": {
    "name": "ipython",
    "version": 3
   },
   "file_extension": ".py",
   "mimetype": "text/x-python",
   "name": "python",
   "nbconvert_exporter": "python",
   "pygments_lexer": "ipython3",
   "version": "3.8.10"
  }
 },
 "nbformat": 4,
 "nbformat_minor": 5
}
