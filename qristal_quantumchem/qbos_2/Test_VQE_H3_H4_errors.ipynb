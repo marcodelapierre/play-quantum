{
 "cells": [
  {
   "cell_type": "code",
   "execution_count": 15,
   "id": "7cc0f37b",
   "metadata": {},
   "outputs": [],
   "source": [
    "# qbOS optimization module\n",
    "import qbos_op\n",
    "import xacc\n",
    "\n",
    "# Get qbOS VQE \n",
    "vqe = qbos_op.vqe(True)\n",
    "vqe.sn = 0   # No shots - deterministic VQE\n",
    "\n",
    "# Some more settings\n",
    "vqe.ansatz = \"uccsd\"\n",
    "vqe.maxeval = 400\n",
    "\n",
    "# error with default QPP simulator\n",
    "\n",
    "# trying with TNQVM\n",
    "#vqe.acc   = 'tnqvm'\n",
    "\n",
    "# same error\n",
    "\n",
    "# H3 is troublesome because of spin != 0"
   ]
  },
  {
   "cell_type": "code",
   "execution_count": 16,
   "id": "c0e0eac1",
   "metadata": {},
   "outputs": [
    {
     "name": "stdout",
     "output_type": "stream",
     "text": [
      "ybind11::detail::function_call&)#3}::_FUN(pybind11::detail::function_call)+0x21)\n",
      "0x7fc25dcd60d0: (pybind11::cpp_function::dispatcher(_object*, _object*, _object*)+0x10da)\n",
      "0x5f6929: (PyCFunction_Call+0x59)\n",
      "0x5f74f6: (_PyObject_MakeTpCall+0x296)\n",
      "0x50c383: (PyMethod_New+0xb73)\n",
      "0x570b26: (_PyEval_EvalFrameDefault+0x5786)\n",
      "0x569dba: (_PyEval_EvalCodeWithName+0x26a)\n",
      "0x6902a7: (PyEval_EvalCode+0x27)\n",
      "0x6023c4: (_PyBuiltin_Init+0x1034)\n",
      "0x5c6730: (PyObject_RichCompareBool+0x790)\n",
      "0x56bacd: (_PyEval_EvalFrameDefault+0x72d)\n",
      "0x501488: (PyGen_NewWithQualName+0x178)\n",
      "0x56d4d6: (_PyEval_EvalFrameDefault+0x2136)\n",
      "0x501488: (PyGen_NewWithQualName+0x178)\n",
      "0x56d4d6: (_PyEval_EvalFrameDefault+0x2136)\n",
      "0x501488: (PyGen_NewWithQualName+0x178)\n",
      "0x505166: (PyDescr_NewMember+0x1c36)\n",
      "0x56bbfa: (_PyEval_EvalFrameDefault+0x85a)\n",
      "0x5f6cd6: (_PyFunction_Vectorcall+0x1b6)\n",
      "0x56bacd: (_PyEval_EvalFrameDefault+0x72d)\n",
      "0x5f6cd6: (_PyFunction_Vectorcall+0x1b6)\n",
      "0x56bbfa: (_PyEval_EvalFrameDefault+0x85a)\n",
      "0x569dba: (_PyEval_EvalCodeWithName+0x26a)\n",
      "0x5f6eb3: (_PyFunction_Vectorcall+0x393)\n",
      "0x50bc2c: (PyMethod_New+0x41c)\n",
      "0x5f6082: (PyObject_Call+0x62)\n",
      "0x56d2d5: (_PyEval_EvalFrameDefault+0x1f35)\n",
      "0x569dba: (_PyEval_EvalCodeWithName+0x26a)\n",
      "0x50bca0: (PyMethod_New+0x490)\n",
      "0x56cc1f: (_PyEval_EvalFrameDefault+0x187f)\n",
      "0x501488: (PyGen_NewWithQualName+0x178)\n",
      "0x56d4d6: (_PyEval_EvalFrameDefault+0x2136)\n",
      "0x501488: (PyGen_NewWithQualName+0x178)\n",
      "0x56d4d6: (_PyEval_EvalFrameDefault+0x2136)\n",
      "0x501488: (PyGen_NewWithQualName+0x178)\n",
      "0x56d4d6: (_PyEval_EvalFrameDefault+0x2136)\n",
      "0x501488: (PyGen_NewWithQualName+0x178)\n",
      "0x56d4d6: (_PyEval_EvalFrameDefault+0x2136)\n",
      "0x501488: (PyGen_NewWithQualName+0x178)\n",
      "0x7fc27bea8ef9: -- error: unable to obtain symbol name for this frame\n",
      "0x7fc27beaa083: (PyInit__asyncio+0xea3)\n",
      "0x5f74f6: (_PyObject_MakeTpCall+0x296)\n",
      "0x600f63: (_PyContext_Init+0x173)\n",
      "0x5c6617: (PyObject_RichCompareBool+0x677)\n",
      "0x5f6648: (PyVectorcall_Call+0x58)\n",
      "0x571cbb: (_PyEval_EvalFrameDefault+0x691b)\n",
      "0x5f6cd6: (_PyFunction_Vectorcall+0x1b6)\n",
      "0x56bbfa: (_PyEval_EvalFrameDefault+0x85a)\n",
      "0x5f6cd6: (_PyFunction_Vectorcall+0x1b6)\n",
      "0x56bbfa: (_PyEval_EvalFrameDefault+0x85a)\n",
      "0x5f6cd6: (_PyFunction_Vectorcall+0x1b6)\n",
      "0x56bbfa: (_PyEval_EvalFrameDefault+0x85a)\n",
      "0x5f6cd6: (_PyFunction_Vectorcall+0x1b6)\n",
      "0x56bbfa: (_PyEval_EvalFrameDefault+0x85a)\n",
      "0x5f6cd6: (_PyFunction_Vectorcall+0x1b6)\n",
      "0x56bbfa: (_PyEval_EvalFrameDefault+0x85a)\n",
      "0x569dba: (_PyEval_EvalCodeWithName+0x26a)\n",
      "0x50bca0: (PyMethod_New+0x490)\n",
      "0x570b26: (_PyEval_EvalFrameDefault+0x5786)\n",
      "0x569dba: (_PyEval_EvalCodeWithName+0x26a)\n",
      "0x6902a7: (PyEval_EvalCode+0x27)\n",
      "0x6023c4: (_PyBuiltin_Init+0x1034)\n",
      "0x5c6730: (PyObject_RichCompareBool+0x790)\n",
      "0x56bacd: (_PyEval_EvalFrameDefault+0x72d)\n",
      "0x569dba: (_PyEval_EvalCodeWithName+0x26a)\n",
      "0x5f6eb3: (_PyFunction_Vectorcall+0x393)\n",
      "0x56bacd: (_PyEval_EvalFrameDefault+0x72d)\n",
      "0x569dba: (_PyEval_EvalCodeWithName+0x26a)\n",
      "0x5f6eb3: (_PyFunction_Vectorcall+0x393)\n",
      "0x5f6082: (PyObject_Call+0x62)\n",
      "0x6b9a92: (PyBytes_FromString+0x1682)\n",
      "0x6b9e99: (Py_RunMain+0x379)\n",
      "0x6ba0bd: (Py_BytesMain+0x2d)\n",
      "0x7fc27c4fb083: (__libc_start_main+0xf3)\n",
      "0x5fc5fe: (_start+0x2e)\n",
      "Invoked run()\n",
      "N_ii: 1\n",
      "N_jj: 1\n",
      "Geometry:\n",
      "H 0.0 0.0 0.0; H 0.0 0.0 0.735; H 0.0 0.0 1.470; H 0.0 0.0 2.205\n",
      "Pauli Observable: \n",
      "(0.671278762375,0) + (-0.026539751375,0) X0 X1 X2 X3 + (0.038698727721,0) X0 X1 X4 X5 + (0.0121659828557,0) X0 X1 X4 Z5 Z6 X7 + (0.0264853123336,0) X0 X1 X5 X6 + (-0.0358957137899,0) X0 X1 X6 X7 + (-0.0127091335032,0) X0 X1 Y2 Y3 + (0.038698727721,0) X0 X1 Y4 Y5 + (0.0121659828557,0) X0 X1 Y4 Z5 Z6 Y7 + (0.0264853123336,0) X0 X1 Y5 Y6 + (-0.0358957137899,0) X0 X1 Y6 Y7 + (0.0260290742557,0) X0 X2 + (-0.0138306178718,0) X0 Y1 Y2 X3 + (0.00212797998831,0) X0 Z1 X2 + (0.0267578516237,0) X0 Z1 X2 X4 Z5 X6 + (-0.0231865802868,0) X0 Z1 X2 X5 Z6 X7 + (0.0267578516237,0) X0 Z1 X2 Y4 Z5 Y6 + (-0.0231865802868,0) X0 Z1 X2 Y5 Z6 Y7 + (0.0143547988174,0) X0 Z1 X2 Z3 + (0.0236043871602,0) X0 Z1 X2 Z4 + (-0.000456238077937,0) X0 Z1 X2 Z5 + (0.00658845007183,0) X0 Z1 X2 Z6 + (0.0261060060595,0) X0 Z1 X2 Z7 + (0.0121659828557,0) X0 Z1 Z2 X3 X4 X5 + (0.0232440466015,0) X0 Z1 Z2 X3 X4 Z5 Z6 X7 + (-0.00935596241493,0) X0 Z1 Z2 X3 X5 X6 + (-0.011751207242,0) X0 Z1 Z2 X3 X6 X7 + (0.0121659828557,0) X0 Z1 Z2 X3 Y4 Y5 + (0.0232440466015,0) X0 Z1 Z2 X3 Y4 Z5 Z6 Y7 + (-0.00935596241493,0) X0 Z1 Z2 X3 Y5 Y6 + (-0.011751207242,0) X0 Z1 Z2 X3 Y6 Y7 + (0.0264853123336,0) X1 X2 X4 X5 + (-0.00935596241493,0) X1 X2 X4 Z5 Z6 X7 + (0.0347968263696,0) X1 X2 X5 X6 + (-0.025873726954,0) X1 X2 X6 X7 + (0.0264853123336,0) X1 X2 Y4 Y5 + (-0.00935596241493,0) X1 X2 Y4 Z5 Z6 Y7 + (0.0347968263696,0) X1 X2 Y5 Y6 + (-0.025873726954,0) X1 X2 Y6 Y7 + (-0.0312836486864,0) X1 X3 + (0.0241485109748,0) X1 Z2 X3 + (-0.0231865802868,0) X1 Z2 X3 X4 Z5 X6 + (0.025199034599,0) X1 Z2 X3 X5 Z6 X7 + (-0.0231865802868,0) X1 Z2 X3 Y4 Z5 Y6 + (0.025199034599,0) X1 Z2 X3 Y5 Z6 Y7 + (-0.0245468870723,0) X1 Z2 X3 Z4 + (-0.00453427195389,0) X1 Z2 X3 Z5 + (-0.00540992173247,0) X1 Z2 X3 Z6 + (-0.0289169936016,0) X1 Z2 X3 Z7 + (-0.0358957137899,0) X2 X3 X4 X5 + (-0.011751207242,0) X2 X3 X4 Z5 Z6 X7 + (-0.025873726954,0) X2 X3 X5 X6 + (0.0392495029894,0) X2 X3 X6 X7 + (-0.0358957137899,0) X2 X3 Y4 Y5 + (-0.011751207242,0) X2 X3 Y4 Z5 Z6 Y7 + (-0.025873726954,0) X2 X3 Y5 Y6 + (0.0392495029894,0) X2 X3 Y6 Y7 + (-0.026539751375,0) X4 X5 X6 X7 + (-0.0127091335032,0) X4 X5 Y6 Y7 + (0.0260290742557,0) X4 X6 + (-0.0138306178718,0) X4 Y5 Y6 X7 + (0.00212797998831,0) X4 Z5 X6 + (0.0143547988174,0) X4 Z5 X6 Z7 + (-0.0312836486864,0) X5 X7 + (0.0241485109748,0) X5 Z6 X7 + (-0.0138306178718,0) Y0 X1 X2 Y3 + (-0.0127091335032,0) Y0 Y1 X2 X3 + (0.038698727721,0) Y0 Y1 X4 X5 + (0.0121659828557,0) Y0 Y1 X4 Z5 Z6 X7 + (0.0264853123336,0) Y0 Y1 X5 X6 + (-0.0358957137899,0) Y0 Y1 X6 X7 + (-0.026539751375,0) Y0 Y1 Y2 Y3 + (0.038698727721,0) Y0 Y1 Y4 Y5 + (0.0121659828557,0) Y0 Y1 Y4 Z5 Z6 Y7 + (0.0264853123336,0) Y0 Y1 Y5 Y6 + (-0.0358957137899,0) Y0 Y1 Y6 Y7 + (0.0260290742557,0) Y0 Y2 + (0.00212797998831,0) Y0 Z1 Y2 + (0.0267578516237,0) Y0 Z1 Y2 X4 Z5 X6 + (-0.0231865802868,0) Y0 Z1 Y2 X5 Z6 X7 + (0.0267578516237,0) Y0 Z1 Y2 Y4 Z5 Y6 + (-0.0231865802868,0) Y0 Z1 Y2 Y5 Z6 Y7 + (0.0143547988174,0) Y0 Z1 Y2 Z3 + (0.0236043871602,0) Y0 Z1 Y2 Z4 + (-0.000456238077937,0) Y0 Z1 Y2 Z5 + (0.00658845007183,0) Y0 Z1 Y2 Z6 + (0.0261060060595,0) Y0 Z1 Y2 Z7 + (0.0121659828557,0) Y0 Z1 Z2 Y3 X4 X5 + (0.0232440466015,0) Y0 Z1 Z2 Y3 X4 Z5 Z6 X7 + (-0.00935596241493,0) Y0 Z1 Z2 Y3 X5 X6 + (-0.011751207242,0) Y0 Z1 Z2 Y3 X6 X7 + (0.0121659828557,0) Y0 Z1 Z2 Y3 Y4 Y5 + (0.0232440466015,0) Y0 Z1 Z2 Y3 Y4 Z5 Z6 Y7 + (-0.00935596241493,0) Y0 Z1 Z2 Y3 Y5 Y6 + (-0.011751207242,0) Y0 Z1 Z2 Y3 Y6 Y7 + (0.0264853123336,0) Y1 Y2 X4 X5 + (-0.00935596241493,0) Y1 Y2 X4 Z5 Z6 X7 + (0.0347968263696,0) Y1 Y2 X5 X6 + (-0.025873726954,0) Y1 Y2 X6 X7 + (0.0264853123336,0) Y1 Y2 Y4 Y5 + (-0.00935596241493,0) Y1 Y2 Y4 Z5 Z6 Y7 + (0.0347968263696,0) Y1 Y2 Y5 Y6 + (-0.025873726954,0) Y1 Y2 Y6 Y7 + (-0.0312836486864,0) Y1 Y3 + (0.0241485109748,0) Y1 Z2 Y3 + (-0.0231865802868,0) Y1 Z2 Y3 X4 Z5 X6 + (0.025199034599,0) Y1 Z2 Y3 X5 Z6 X7 + (-0.0231865802868,0) Y1 Z2 Y3 Y4 Z5 Y6 + (0.025199034599,0) Y1 Z2 Y3 Y5 Z6 Y7 + (-0.0245468870723,0) Y1 Z2 Y3 Z4 + (-0.00453427195389,0) Y1 Z2 Y3 Z5 + (-0.00540992173247,0) Y1 Z2 Y3 Z6 + (-0.0289169936016,0) Y1 Z2 Y3 Z7 + (-0.0358957137899,0) Y2 Y3 X4 X5 + (-0.011751207242,0) Y2 Y3 X4 Z5 Z6 X7 + (-0.025873726954,0) Y2 Y3 X5 X6 + (0.0392495029894,0) Y2 Y3 X6 X7 + (-0.0358957137899,0) Y2 Y3 Y4 Y5 + (-0.011751207242,0) Y2 Y3 Y4 Z5 Z6 Y7 + (-0.025873726954,0) Y2 Y3 Y5 Y6 + (0.0392495029894,0) Y2 Y3 Y6 Y7 + (-0.0138306178718,0) Y4 X5 X6 Y7 + (-0.0127091335032,0) Y4 Y5 X6 X7 + (-0.026539751375,0) Y4 Y5 Y6 Y7 + (0.0260290742557,0) Y4 Y6 + (0.00212797998831,0) Y4 Z5 Y6 + (0.0143547988174,0) Y4 Z5 Y6 Z7 + (-0.0312836486864,0) Y5 Y7 + (0.0241485109748,0) Y5 Z6 Y7 + (0.235276663426,0) Z0 + (-0.0123809042166,0) Z0 X1 Z2 X3 + (0.0236043871602,0) Z0 X4 Z5 X6 + (-0.0245468870723,0) Z0 X5 Z6 X7 + (-0.0123809042166,0) Z0 Y1 Z2 Y3 + (0.0236043871602,0) Z0 Y4 Z5 Y6 + (-0.0245468870723,0) Z0 Y5 Z6 Y7 + (0.0861425472271,0) Z0 Z1 + (0.102941644067,0) Z0 Z2 + (0.129374865385,0) Z0 Z3 + (0.142667236616,0) Z0 Z4 + (0.124841274948,0) Z0 Z5 + (0.12969949569,0) Z0 Z6 + (0.152618911986,0) Z0 Z7 + (0.0876759064117,0) Z1 + (-0.000456238077937,0) Z1 X4 Z5 X6 + (-0.00453427195389,0) Z1 X5 Z6 X7 + (-0.000456238077937,0) Z1 Y4 Z5 Y6 + (-0.00453427195389,0) Z1 Y5 Z6 Y7 + (0.0930707550872,0) Z1 Z2 + (0.109990046224,0) Z1 Z3 + (0.124841274948,0) Z1 Z4 + (0.129367822302,0) Z1 Z5 + (0.127867581457,0) Z1 Z6 + (0.135189080823,0) Z1 Z7 + (-0.176739936173,0) Z2 + (0.00658845007183,0) Z2 X4 Z5 X6 + (-0.00540992173247,0) Z2 X5 Z6 X7 + (0.00658845007183,0) Z2 Y4 Z5 Y6 + (-0.00540992173247,0) Z2 Y5 Z6 Y7 + (0.103190270458,0) Z2 Z3 + (0.12969949569,0) Z2 Z4 + (0.127867581457,0) Z2 Z5 + (0.134941378142,0) Z2 Z6 + (0.142439773447,0) Z2 Z7 + (-0.65066060301,0) Z3 + (0.0261060060595,0) Z3 X4 Z5 X6 + (-0.0289169936016,0) Z3 X5 Z6 X7 + (0.0261060060595,0) Z3 Y4 Z5 Y6 + (-0.0289169936016,0) Z3 Y5 Z6 Y7 + (0.152618911986,0) Z3 Z4 + (0.135189080823,0) Z3 Z5 + (0.142439773447,0) Z3 Z6 + (0.175773888267,0) Z3 Z7 + (0.235276663426,0) Z4 + (-0.0123809042166,0) Z4 X5 Z6 X7 + (-0.0123809042166,0) Z4 Y5 Z6 Y7 + (0.0861425472271,0) Z4 Z5 + (0.102941644067,0) Z4 Z6 + (0.129374865385,0) Z4 Z7 + (0.0876759064117,0) Z5 + (0.0930707550872,0) Z5 Z6 + (0.109990046224,0) Z5 Z7 + (-0.176739936173,0) Z6 + (0.103190270458,0) Z6 Z7 + (-0.650660603009,0) Z7\n",
      "Invoked run on Experiment 0, name: -unnamed experiment- ; Condition 0, name: -unnamed condition-\n",
      "Number of shots [sn]: 0\n",
      "Number of qubits [qn]: 6\n",
      "Number of optimiser evaluations [maxeval]: 400\n",
      "Using deterministic VQE...\n",
      "Parameters to optimise [theta]: [1]\n",
      "Ansatz [ansatz]: uccsd\n",
      "Hamiltonian [ham]: (0.671278762375,0) + (-0.026539751375,0) X0 X1 X2 X3 + (0.038698727721,0) X0 X1 X4 X5 + (0.0121659828557,0) X0 X1 X4 Z5 Z6 X7 + (0.0264853123336,0) X0 X1 X5 X6 + (-0.0358957137899,0) X0 X1 X6 X7 + (-0.0127091335032,0) X0 X1 Y2 Y3 + (0.038698727721,0) X0 X1 Y4 Y5 + (0.0121659828557,0) X0 X1 Y4 Z5 Z6 Y7 + (0.0264853123336,0) X0 X1 Y5 Y6 + (-0.0358957137899,0) X0 X1 Y6 Y7 + (0.0260290742557,0) X0 X2 + (-0.0138306178718,0) X0 Y1 Y2 X3 + (0.00212797998831,0) X0 Z1 X2 + (0.0267578516237,0) X0 Z1 X2 X4 Z5 X6 + (-0.0231865802868,0) X0 Z1 X2 X5 Z6 X7 + (0.0267578516237,0) X0 Z1 X2 Y4 Z5 Y6 + (-0.0231865802868,0) X0 Z1 X2 Y5 Z6 Y7 + (0.0143547988174,0) X0 Z1 X2 Z3 + (0.0236043871602,0) X0 Z1 X2 Z4 + (-0.000456238077937,0) X0 Z1 X2 Z5 + (0.00658845007183,0) X0 Z1 X2 Z6 + (0.0261060060595,0) X0 Z1 X2 Z7 + (0.0121659828557,0) X0 Z1 Z2 X3 X4 X5 + (0.0232440466015,0) X0 Z1 Z2 X3 X4 Z5 Z6 X7 + (-0.00935596241493,0) X0 Z1 Z2 X3 X5 X6 + (-0.011751207242,0) X0 Z1 Z2 X3 X6 X7 + (0.0121659828557,0) X0 Z1 Z2 X3 Y4 Y5 + (0.0232440466015,0) X0 Z1 Z2 X3 Y4 Z5 Z6 Y7 + (-0.00935596241493,0) X0 Z1 Z2 X3 Y5 Y6 + (-0.011751207242,0) X0 Z1 Z2 X3 Y6 Y7 + (0.0264853123336,0) X1 X2 X4 X5 + (-0.00935596241493,0) X1 X2 X4 Z5 Z6 X7 + (0.0347968263696,0) X1 X2 X5 X6 + (-0.025873726954,0) X1 X2 X6 X7 + (0.0264853123336,0) X1 X2 Y4 Y5 + (-0.00935596241493,0) X1 X2 Y4 Z5 Z6 Y7 + (0.0347968263696,0) X1 X2 Y5 Y6 + (-0.025873726954,0) X1 X2 Y6 Y7 + (-0.0312836486864,0) X1 X3 + (0.0241485109748,0) X1 Z2 X3 + (-0.0231865802868,0) X1 Z2 X3 X4 Z5 X6 + (0.025199034599,0) X1 Z2 X3 X5 Z6 X7 + (-0.0231865802868,0) X1 Z2 X3 Y4 Z5 Y6 + (0.025199034599,0) X1 Z2 X3 Y5 Z6 Y7 + (-0.0245468870723,0) X1 Z2 X3 Z4 + (-0.00453427195389,0) X1 Z2 X3 Z5 + (-0.00540992173247,0) X1 Z2 X3 Z6 + (-0.0289169936016,0) X1 Z2 X3 Z7 + (-0.0358957137899,0) X2 X3 X4 X5 + (-0.011751207242,0) X2 X3 X4 Z5 Z6 X7 + (-0.025873726954,0) X2 X3 X5 X6 + (0.0392495029894,0) X2 X3 X6 X7 + (-0.0358957137899,0) X2 X3 Y4 Y5 + (-0.011751207242,0) X2 X3 Y4 Z5 Z6 Y7 + (-0.025873726954,0) X2 X3 Y5 Y6 + (0.0392495029894,0) X2 X3 Y6 Y7 + (-0.026539751375,0) X4 X5 X6 X7 + (-0.0127091335032,0) X4 X5 Y6 Y7 + (0.0260290742557,0) X4 X6 + (-0.0138306178718,0) X4 Y5 Y6 X7 + (0.00212797998831,0) X4 Z5 X6 + (0.0143547988174,0) X4 Z5 X6 Z7 + (-0.0312836486864,0) X5 X7 + (0.0241485109748,0) X5 Z6 X7 + (-0.0138306178718,0) Y0 X1 X2 Y3 + (-0.0127091335032,0) Y0 Y1 X2 X3 + (0.038698727721,0) Y0 Y1 X4 X5 + (0.0121659828557,0) Y0 Y1 X4 Z5 Z6 X7 + (0.0264853123336,0) Y0 Y1 X5 X6 + (-0.0358957137899,0) Y0 Y1 X6 X7 + (-0.026539751375,0) Y0 Y1 Y2 Y3 + (0.038698727721,0) Y0 Y1 Y4 Y5 + (0.0121659828557,0) Y0 Y1 Y4 Z5 Z6 Y7 + (0.0264853123336,0) Y0 Y1 Y5 Y6 + (-0.0358957137899,0) Y0 Y1 Y6 Y7 + (0.0260290742557,0) Y0 Y2 + (0.00212797998831,0) Y0 Z1 Y2 + (0.0267578516237,0) Y0 Z1 Y2 X4 Z5 X6 + (-0.0231865802868,0) Y0 Z1 Y2 X5 Z6 X7 + (0.0267578516237,0) Y0 Z1 Y2 Y4 Z5 Y6 + (-0.0231865802868,0) Y0 Z1 Y2 Y5 Z6 Y7 + (0.0143547988174,0) Y0 Z1 Y2 Z3 + (0.0236043871602,0) Y0 Z1 Y2 Z4 + (-0.000456238077937,0) Y0 Z1 Y2 Z5 + (0.00658845007183,0) Y0 Z1 Y2 Z6 + (0.0261060060595,0) Y0 Z1 Y2 Z7 + (0.0121659828557,0) Y0 Z1 Z2 Y3 X4 X5 + (0.0232440466015,0) Y0 Z1 Z2 Y3 X4 Z5 Z6 X7 + (-0.00935596241493,0) Y0 Z1 Z2 Y3 X5 X6 + (-0.011751207242,0) Y0 Z1 Z2 Y3 X6 X7 + (0.0121659828557,0) Y0 Z1 Z2 Y3 Y4 Y5 + (0.0232440466015,0) Y0 Z1 Z2 Y3 Y4 Z5 Z6 Y7 + (-0.00935596241493,0) Y0 Z1 Z2 Y3 Y5 Y6 + (-0.011751207242,0) Y0 Z1 Z2 Y3 Y6 Y7 + (0.0264853123336,0) Y1 Y2 X4 X5 + (-0.00935596241493,0) Y1 Y2 X4 Z5 Z6 X7 + (0.0347968263696,0) Y1 Y2 X5 X6 + (-0.025873726954,0) Y1 Y2 X6 X7 + (0.0264853123336,0) Y1 Y2 Y4 Y5 + (-0.00935596241493,0) Y1 Y2 Y4 Z5 Z6 Y7 + (0.0347968263696,0) Y1 Y2 Y5 Y6 + (-0.025873726954,0) Y1 Y2 Y6 Y7 + (-0.0312836486864,0) Y1 Y3 + (0.0241485109748,0) Y1 Z2 Y3 + (-0.0231865802868,0) Y1 Z2 Y3 X4 Z5 X6 + (0.025199034599,0) Y1 Z2 Y3 X5 Z6 X7 + (-0.0231865802868,0) Y1 Z2 Y3 Y4 Z5 Y6 + (0.025199034599,0) Y1 Z2 Y3 Y5 Z6 Y7 + (-0.0245468870723,0) Y1 Z2 Y3 Z4 + (-0.00453427195389,0) Y1 Z2 Y3 Z5 + (-0.00540992173247,0) Y1 Z2 Y3 Z6 + (-0.0289169936016,0) Y1 Z2 Y3 Z7 + (-0.0358957137899,0) Y2 Y3 X4 X5 + (-0.011751207242,0) Y2 Y3 X4 Z5 Z6 X7 + (-0.025873726954,0) Y2 Y3 X5 X6 + (0.0392495029894,0) Y2 Y3 X6 X7 + (-0.0358957137899,0) Y2 Y3 Y4 Y5 + (-0.011751207242,0) Y2 Y3 Y4 Z5 Z6 Y7 + (-0.025873726954,0) Y2 Y3 Y5 Y6 + (0.0392495029894,0) Y2 Y3 Y6 Y7 + (-0.0138306178718,0) Y4 X5 X6 Y7 + (-0.0127091335032,0) Y4 Y5 X6 X7 + (-0.026539751375,0) Y4 Y5 Y6 Y7 + (0.0260290742557,0) Y4 Y6 + (0.00212797998831,0) Y4 Z5 Y6 + (0.0143547988174,0) Y4 Z5 Y6 Z7 + (-0.0312836486864,0) Y5 Y7 + (0.0241485109748,0) Y5 Z6 Y7 + (0.235276663426,0) Z0 + (-0.0123809042166,0) Z0 X1 Z2 X3 + (0.0236043871602,0) Z0 X4 Z5 X6 + (-0.0245468870723,0) Z0 X5 Z6 X7 + (-0.0123809042166,0) Z0 Y1 Z2 Y3 + (0.0236043871602,0) Z0 Y4 Z5 Y6 + (-0.0245468870723,0) Z0 Y5 Z6 Y7 + (0.0861425472271,0) Z0 Z1 + (0.102941644067,0) Z0 Z2 + (0.129374865385,0) Z0 Z3 + (0.142667236616,0) Z0 Z4 + (0.124841274948,0) Z0 Z5 + (0.12969949569,0) Z0 Z6 + (0.152618911986,0) Z0 Z7 + (0.0876759064117,0) Z1 + (-0.000456238077937,0) Z1 X4 Z5 X6 + (-0.00453427195389,0) Z1 X5 Z6 X7 + (-0.000456238077937,0) Z1 Y4 Z5 Y6 + (-0.00453427195389,0) Z1 Y5 Z6 Y7 + (0.0930707550872,0) Z1 Z2 + (0.109990046224,0) Z1 Z3 + (0.124841274948,0) Z1 Z4 + (0.129367822302,0) Z1 Z5 + (0.127867581457,0) Z1 Z6 + (0.135189080823,0) Z1 Z7 + (-0.176739936173,0) Z2 + (0.00658845007183,0) Z2 X4 Z5 X6 + (-0.00540992173247,0) Z2 X5 Z6 X7 + (0.00658845007183,0) Z2 Y4 Z5 Y6 + (-0.00540992173247,0) Z2 Y5 Z6 Y7 + (0.103190270458,0) Z2 Z3 + (0.12969949569,0) Z2 Z4 + (0.127867581457,0) Z2 Z5 + (0.134941378142,0) Z2 Z6 + (0.142439773447,0) Z2 Z7 + (-0.65066060301,0) Z3 + (0.0261060060595,0) Z3 X4 Z5 X6 + (-0.0289169936016,0) Z3 X5 Z6 X7 + (0.0261060060595,0) Z3 Y4 Z5 Y6 + (-0.0289169936016,0) Z3 Y5 Z6 Y7 + (0.152618911986,0) Z3 Z4 + (0.135189080823,0) Z3 Z5 + (0.142439773447,0) Z3 Z6 + (0.175773888267,0) Z3 Z7 + (0.235276663426,0) Z4 + (-0.0123809042166,0) Z4 X5 Z6 X7 + (-0.0123809042166,0) Z4 Y5 Z6 Y7 + (0.0861425472271,0) Z4 Z5 + (0.102941644067,0) Z4 Z6 + (0.129374865385,0) Z4 Z7 + (0.0876759064117,0) Z5 + (0.0930707550872,0) Z5 Z6 + (0.109990046224,0) Z5 Z7 + (-0.176739936173,0) Z6 + (0.103190270458,0) Z6 Z7 + (-0.650660603009,0) Z7\n",
      "[2022-10-19 05:26:07.065] [xacc-logger] [info] \u001b[1;34mEnable VQE Mode.\u001b[0m\n",
      "# Noise model: disabled\n",
      "Accelerator [acc]: qpp\n",
      "Assuming an optimiser: nelder-mead supported by the nlopt library...\n",
      "Gradient strategy [gradient_strategy]: parameter-shift\n",
      "[2022-10-19 05:26:07.066] [xacc-logger] [info] \u001b[1;33mChosen optimizer does not support gradients. Using default.\u001b[0m\n",
      "[2022-10-19 05:26:07.066] [xacc-logger] [info] \u001b[1;34m[NLOpt] max function evaluations set to 400\u001b[0m\n",
      "0x7fc25d4aedeb: (xacc::error(std::__cxx11::basic_string<char, std::char_traits<char>, std::allocator<char> > const&, std::function<bool ()>)+0x2b)\n",
      "0x7fc21ab1f398: (xacc::NLOptimizer::optimize(xacc::OptFunction&) [clone .cold]+0x6d4)\n",
      "0x7fc21c8d4171: (xacc::algorithm::VQE::execute(std::shared_ptr<xacc::AcceleratorBuffer>) const+0x181)\n",
      "0x7fc25dc1bd9d: (qbOS::op::Vqe::run(unsigned long const&, unsigned long const&)+0x276b)\n",
      "0x7fc25dc1f551: (qbOS::op::Vqe::run()+0xa0b)\n",
      "0x7fc25dd24747: (pybind11::cpp_function::cpp_function<void, qbOS::op::Vqe, , pybind11::name, pybind11::is_method, pybind11::sibling, char [54]>(void (qbOS::op::Vqe::*)(), pybind11::name const&, pybind11::is_method const&, pybind11::sibling const&, char const (&) [54])::{lambda(qbOS::op::Vqe*)#1}::operator()(qbOS::op::Vqe*) const+0x65)\n",
      "0x7fc25ddf1775: (void pybind11::detail::argument_loader<qbOS::op::Vqe*>::call_impl<void, pybind11::cpp_function::cpp_function<void, qbOS::op::Vqe, , pybind11::name, pybind11::is_method, pybind11::sibling, char [54]>(void (qbOS::op::Vqe::*)(), pybind11::name const&, pybind11::is_method const&, pybind11::sibling const&, char const (&) [54])::{lambda(qbOS::op::Vqe*)#1}&, 0ul, pybind11::detail::void_type>(pybind11::cpp_function::cpp_function<void, qbOS::op::Vqe, , pybind11::name, pybind11::is_method, pybind11::sibling, char [54]>(void (qbOS::op::Vqe::*)(), pybind11::name const&, pybind11::is_method const&, pybind11::sibling const&, char const (&) [54])::{lambda(qbOS::op::Vqe*)#1}&, std::integer_sequence<unsigned long, 0ul>, pybind11::detail::void_type&&) &&+0x4b)\n",
      "0x7fc25dd9def6: (std::enable_if<std::is_void<void>::value, pybind11::detail::void_type>::type pybind11::detail::argument_loader<qbOS::op::Vqe*>::call<void, pybind11::detail::void_type, pybind11::cpp_function::cpp_function<void, qbOS::op::Vqe, , pybind11::name, pybind11::is_method, pybind11::sibling, char [54]>(void (qbOS::op::Vqe::*)(), pybind11::name const&, pybind11::is_method const&, pybind11::sibling const&, char const (&) [54])::{lambda(qbOS::op::Vqe*)#1}&>(pybind11::cpp_function::cpp_function<void, qbOS::op::Vqe, , pybind11::name, pybind11::is_method, pybind11::sibling, char [54]>(void (qbOS::op::Vqe::*)(), pybind11::name const&, pybind11::is_method const&, pybind11::sibling const&, char const (&) [54])::{lambda(qbOS::op::Vqe*)#1}&) &&+0x52)\n",
      "0x7fc25dd5ea5b: (pybind11::cpp_function::initialize<pybind11::cpp_function::initialize<void, qbOS::op::Vqe, , pybind11::name, pybind11::is_method, pybind11::sibling, char [54]>(void (qbOS::op::Vqe::*)(), pybind11::name const&, pybind11::is_method const&, pybind11::sibling const&, char const (&) [54])::{lambda(qbOS::op::Vqe*)#1}, void, qbOS::op::Vqe*, pybind11::name, pybind11::is_method, pybind11::sibling, char [54]>(pybind11::cpp_function::initialize<void, qbOS::op::Vqe, , pybind11::name, pybind11::is_method, pybind11::sibling, char [54]>(void (qbOS::op::Vqe::*)(), pybind11::name const&, pybind11::is_method const&, pybind11::sibling const&, char const (&) [54])::{lambda(qbOS::op::Vqe*)#1}&&, void (*)(qbOS::op::Vqe*), pybind11::name const&, pybind11::is_method const&, pybind11::sibling const&, char const (&) [54])::{lambda(pybind11::detail::function_call&)#3}::operator()(pybind11::detail::function_call) const+0xb5)\n",
      "0x7fc25dd5eb11: (pybind11::cpp_function::initialize<pybind11::cpp_function::initialize<void, qbOS::op::Vqe, , pybind11::name, pybind11::is_method, pybind11::sibling, char [54]>(void (qbOS::op::Vqe::*)(), pybind11::name const&, pybind11::is_method const&, pybind11::sibling const&, char const (&) [54])::{lambda(qbOS::op::Vqe*)#1}, void, qbOS::op::Vqe*, pybind11::name, pybind11::is_method, pybind11::sibling, char [54]>(pybind11::cpp_function::initialize<void, qbOS::op::Vqe, , pybind11::name, pybind11::is_method, pybind11::sibling, char [54]>(void (qbOS::op::Vqe::*)(), pybind11::name const&, pybind11::is_method const&, pybind11::sibling const&, char const (&) [54])::{lambda(qbOS::op::Vqe*)#1}&&, void (*)(qbOS::op::Vqe*), pybind11::name const&, pybind11::is_method const&, pybind11::sibling const&, char const (&) [54])::{lambda(p"
     ]
    },
    {
     "ename": "RuntimeError",
     "evalue": "NLOpt failed with error code = 0, nlopt failure",
     "output_type": "error",
     "traceback": [
      "\u001b[0;31m---------------------------------------------------------------------------\u001b[0m",
      "\u001b[0;31mRuntimeError\u001b[0m                              Traceback (most recent call last)",
      "Input \u001b[0;32mIn [16]\u001b[0m, in \u001b[0;36m<cell line: 9>\u001b[0;34m()\u001b[0m\n\u001b[1;32m      6\u001b[0m vqe\u001b[38;5;241m.\u001b[39muccsdn \u001b[38;5;241m=\u001b[39m \u001b[38;5;241m4\u001b[39m  \u001b[38;5;66;03m# Number of electrons/particles  -- just trying\u001b[39;00m\n\u001b[1;32m      8\u001b[0m \u001b[38;5;66;03m# run\u001b[39;00m\n\u001b[0;32m----> 9\u001b[0m \u001b[43mvqe\u001b[49m\u001b[38;5;241;43m.\u001b[39;49m\u001b[43mrun\u001b[49m\u001b[43m(\u001b[49m\u001b[43m)\u001b[49m\n\u001b[1;32m     10\u001b[0m optimum_energy \u001b[38;5;241m=\u001b[39m vqe\u001b[38;5;241m.\u001b[39mout_energy[\u001b[38;5;241m0\u001b[39m][\u001b[38;5;241m0\u001b[39m][\u001b[38;5;241m0\u001b[39m]\n",
      "\u001b[0;31mRuntimeError\u001b[0m: NLOpt failed with error code = 0, nlopt failure"
     ]
    }
   ],
   "source": [
    "# H4 geometry\n",
    "vqe.geometry = \"H 0.0 0.0 0.0; H 0.0 0.0 0.735; H 0.0 0.0 1.470; H 0.0 0.0 2.205\" #unit: Angstrom\n",
    "\n",
    "# H4 specific\n",
    "vqe.qn = 6  # Number of qubits (number of spin orbitals)  -- just trying\n",
    "vqe.uccsdn = 4  # Number of electrons/particles  -- just trying\n",
    "\n",
    "# run\n",
    "vqe.run()\n",
    "optimum_energy = vqe.out_energy[0][0][0]  "
   ]
  },
  {
   "cell_type": "code",
   "execution_count": 4,
   "id": "1dbc3e41",
   "metadata": {},
   "outputs": [
    {
     "name": "stdout",
     "output_type": "stream",
     "text": [
      "Min. energy: -1.1373053506938673\n"
     ]
    }
   ],
   "source": [
    "# get energy\n",
    "print(\"Min. energy:\", optimum_energy)\n",
    "\n",
    "# this is for H2"
   ]
  },
  {
   "cell_type": "code",
   "execution_count": 17,
   "id": "0f556f7d",
   "metadata": {},
   "outputs": [
    {
     "data": {
      "text/plain": [
       "[[\"qpp\"]]"
      ]
     },
     "execution_count": 17,
     "metadata": {},
     "output_type": "execute_result"
    }
   ],
   "source": [
    "vqe.acc"
   ]
  },
  {
   "cell_type": "code",
   "execution_count": null,
   "id": "cdd502bc",
   "metadata": {},
   "outputs": [],
   "source": []
  }
 ],
 "metadata": {
  "kernelspec": {
   "display_name": "Python 3 (ipykernel)",
   "language": "python",
   "name": "python3"
  },
  "language_info": {
   "codemirror_mode": {
    "name": "ipython",
    "version": 3
   },
   "file_extension": ".py",
   "mimetype": "text/x-python",
   "name": "python",
   "nbconvert_exporter": "python",
   "pygments_lexer": "ipython3",
   "version": "3.8.10"
  }
 },
 "nbformat": 4,
 "nbformat_minor": 5
}
